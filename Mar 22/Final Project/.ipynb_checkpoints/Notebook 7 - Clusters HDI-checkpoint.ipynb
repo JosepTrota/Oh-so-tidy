{
 "cells": [
  {
   "cell_type": "markdown",
   "id": "9d7349fe",
   "metadata": {},
   "source": [
    "# Clean all pieces of data"
   ]
  },
  {
   "cell_type": "code",
   "execution_count": 1,
   "id": "10e47c79",
   "metadata": {},
   "outputs": [],
   "source": [
    "import pandas as pd\n",
    "import numpy as np\n",
    "import seaborn as sns\n",
    "import matplotlib.pyplot as plt\n",
    "from functools import reduce\n",
    "from sklearn.cluster import KMeans \n",
    "from sklearn.preprocessing import StandardScaler \n",
    "from sklearn.metrics import silhouette_score "
   ]
  },
  {
   "cell_type": "markdown",
   "id": "8c67d9c8",
   "metadata": {},
   "source": [
    "## First, download the data"
   ]
  },
  {
   "cell_type": "code",
   "execution_count": 2,
   "id": "5fdd7eb0",
   "metadata": {},
   "outputs": [],
   "source": [
    "HDI = pd.read_excel('HDI data.xlsx')"
   ]
  },
  {
   "cell_type": "markdown",
   "id": "e580251b",
   "metadata": {},
   "source": [
    "## Let's standarize the country names"
   ]
  },
  {
   "cell_type": "code",
   "execution_count": 3,
   "id": "6c79fd39",
   "metadata": {},
   "outputs": [],
   "source": [
    "# substituting and dropping things\n",
    "\n",
    "to_substitute ={'Yemen, Rep.': 'Yemen', 'Palestinian National Authority': 'Palestine', 'West Bank and Gaza':'Palestine',\n",
    "            'Venezuela, RB':'Venezuela', 'United States': 'United States of America', 'USA': 'United States of America',\n",
    "            'Trinidad':'Trinidad and Tobago', 'The Gambia':'Gambia', 'São Tomé and Príncipe': 'São Tomé and Principe',\n",
    "            'Sao Tome and Principe': 'São Tomé and Principe', 'Syrian Arab Republic': 'Syria', 'St. Lucia': 'Saint Lucia',\n",
    "            'St. Kitts and Nevis': 'Saint Kitts and Nevis', 'Slovak Republic':'Slovakia', 'Singapo':'Singapore',\n",
    "            'Russian Federation': 'Russia', 'Republic of the Congo':'Congo', 'Philipines':'Philippines',\n",
    "            'Phillipines':'Philippines', 'Macedonia (FYR) ': 'Macedonia', 'Lao PDR': 'Laos', 'Kyrgyz Republic': 'Kyrgyzstan',\n",
    "            'Kyrgyzistan': 'Kyrgyzstan', \"Korea, Dem. People's Rep.\":'North Korea', 'Korea, Rep.': 'South Korea',\n",
    "            \"Côte d'Ivoire\":'Ivory Coast', \"Cote d' Ivoire\": 'Ivory Coast', 'Iran, Islamic Rep.': 'Iran',\n",
    "            'Hong Kong SAR, China': 'Hong Kong', 'Gambia, The': 'Gambia', 'Egypt, Arab Rep.': 'Egypt',\n",
    "            'DR Congo': 'Democratic Republic of the Congo', 'Congo, Dem. Rep.': 'Democratic Republic of the Congo',\n",
    "            'Congo, Rep.': 'Congo', 'Czech':'Czech Republic', 'Curacao': 'Curaçao', 'Cape Verde': 'Cabo Verde',\n",
    "            'Brunei Darussalam': 'Brunei', 'Bosnia': 'Bosnia and Herzegovina', 'Bahamas, The': 'Bahamas'}\n",
    "\n",
    "to_drop = ['World', 'Western Sahara', 'Wallis and Futuna', 'Virgin Islands (U.S.)', 'Upper middle income',\n",
    "        'United States Virgin Islands', 'Sub-Saharan Africa', 'Sub-Saharan Africa (IDA & IBRD)',\n",
    "        'Sub-Saharan Africa (excluding high income)', 'St. Martin (French part)', 'South Asia', 'South Asia (IDA & IBRD)',\n",
    "        'Small states', 'Sint Maarten', 'Sint Maarten (Dutch part)', 'Saint Pierre and Miquelon', 'Reunion',\n",
    "        'Post-demographic dividend', 'Pre-demographic dividend', 'Pacific island small states', 'Other small states',\n",
    "        'OECD members', 'North America', 'Niue', 'Montserrat', 'Middle East & North Africa',\n",
    "        'Middle East & North Africa (IDA & IBRD)', 'Middle East & North Africa (excluding high income)', 'Middle income',\n",
    "        'Micronesia', 'Micronesia, Fed. Sts.', 'Martinique', 'Low & middle income', 'Low income', 'Lower middle income',\n",
    "        'Macao SAR, China', 'Macau', 'Late-demographic dividend', 'Latin America & Caribbean',\n",
    "        'Latin America & Caribbean (IDA & IBRD)', 'Latin America & Caribbean (excluding high income)',\n",
    "        'Least developed countries: UN classification', 'Heavily indebted poor countries (HIPC)', 'High income', 'Guadeloupe',\n",
    "        'Gibraltar', 'Galicia', 'Fragile and conflict affected situations', 'French Guiana', 'French Polynesia',\n",
    "        'Federated States of Micronesia', 'Faroe Islands', 'Falkland Islands', 'Euro area', 'Europe & Central Asia',\n",
    "        'Europe & Central Asia (IDA & IBRD)', 'Europe & Central Asia (excluding high income)', 'European Union',\n",
    "        'Early-demographic dividend', 'East Asia & Pacific', 'East Asia & Pacific (IDA & IBRD)',\n",
    "        'East Asia & Pacific (excluding high income)', 'Central Europe and the Baltics', 'Cayman Islands',\n",
    "        'Caribbean small states', 'British Virgin Islands', 'Bermuda', 'Africa Eastern and Southern',\n",
    "        'Africa Western and Central', 'Arab World', 'Aruba', 'Anguilla', 'American Samoa', 'Moscow', 'North Ireland']"
   ]
  },
  {
   "cell_type": "code",
   "execution_count": 4,
   "id": "519746a1",
   "metadata": {},
   "outputs": [],
   "source": [
    "# now we can set up a cleaning function!\n",
    "\n",
    "def clean(df,column):\n",
    "    counter = 0\n",
    "    for cell in column:\n",
    "        if str(cell)[:1] == '\\xa0':\n",
    "            column[counter] = str(cell)[1:]\n",
    "        if str(cell) in to_drop:\n",
    "            df.drop(df.index[counter])\n",
    "        counter += 1\n",
    "    for key in to_substitute.keys():\n",
    "        column.mask(column == str(key), str(to_substitute[str(key)]), inplace=True)"
   ]
  },
  {
   "cell_type": "markdown",
   "id": "ef13f43a",
   "metadata": {},
   "source": [
    "## Cleaning"
   ]
  },
  {
   "cell_type": "markdown",
   "id": "69291d93",
   "metadata": {},
   "source": [
    "### Clean HDI data"
   ]
  },
  {
   "cell_type": "code",
   "execution_count": 5,
   "id": "e92280b3",
   "metadata": {},
   "outputs": [
    {
     "data": {
      "text/html": [
       "<div>\n",
       "<style scoped>\n",
       "    .dataframe tbody tr th:only-of-type {\n",
       "        vertical-align: middle;\n",
       "    }\n",
       "\n",
       "    .dataframe tbody tr th {\n",
       "        vertical-align: top;\n",
       "    }\n",
       "\n",
       "    .dataframe thead th {\n",
       "        text-align: right;\n",
       "    }\n",
       "</style>\n",
       "<table border=\"1\" class=\"dataframe\">\n",
       "  <thead>\n",
       "    <tr style=\"text-align: right;\">\n",
       "      <th></th>\n",
       "      <th>Country</th>\n",
       "      <th>Life expectancy at birth</th>\n",
       "      <th>Expected years of schooling</th>\n",
       "      <th>Mean years of schooling</th>\n",
       "      <th>Gross national income (GNI) per capita</th>\n",
       "    </tr>\n",
       "  </thead>\n",
       "  <tbody>\n",
       "    <tr>\n",
       "      <th>0</th>\n",
       "      <td>Norway</td>\n",
       "      <td>82.40</td>\n",
       "      <td>18.06615</td>\n",
       "      <td>12.897750</td>\n",
       "      <td>66494.25217</td>\n",
       "    </tr>\n",
       "    <tr>\n",
       "      <th>1</th>\n",
       "      <td>Ireland</td>\n",
       "      <td>82.31</td>\n",
       "      <td>18.70529</td>\n",
       "      <td>12.666331</td>\n",
       "      <td>68370.58737</td>\n",
       "    </tr>\n",
       "    <tr>\n",
       "      <th>2</th>\n",
       "      <td>Switzerland</td>\n",
       "      <td>83.78</td>\n",
       "      <td>16.32844</td>\n",
       "      <td>13.380812</td>\n",
       "      <td>69393.52076</td>\n",
       "    </tr>\n",
       "    <tr>\n",
       "      <th>3</th>\n",
       "      <td>Hong Kong, China (SAR)</td>\n",
       "      <td>84.86</td>\n",
       "      <td>16.92947</td>\n",
       "      <td>12.279960</td>\n",
       "      <td>62984.76553</td>\n",
       "    </tr>\n",
       "    <tr>\n",
       "      <th>4</th>\n",
       "      <td>Iceland</td>\n",
       "      <td>82.99</td>\n",
       "      <td>19.08309</td>\n",
       "      <td>12.772787</td>\n",
       "      <td>54682.38057</td>\n",
       "    </tr>\n",
       "  </tbody>\n",
       "</table>\n",
       "</div>"
      ],
      "text/plain": [
       "                  Country  Life expectancy at birth  \\\n",
       "0                  Norway                     82.40   \n",
       "1                 Ireland                     82.31   \n",
       "2             Switzerland                     83.78   \n",
       "3  Hong Kong, China (SAR)                     84.86   \n",
       "4                 Iceland                     82.99   \n",
       "\n",
       "   Expected years of schooling  Mean years of schooling  \\\n",
       "0                     18.06615                12.897750   \n",
       "1                     18.70529                12.666331   \n",
       "2                     16.32844                13.380812   \n",
       "3                     16.92947                12.279960   \n",
       "4                     19.08309                12.772787   \n",
       "\n",
       "   Gross national income (GNI) per capita  \n",
       "0                             66494.25217  \n",
       "1                             68370.58737  \n",
       "2                             69393.52076  \n",
       "3                             62984.76553  \n",
       "4                             54682.38057  "
      ]
     },
     "execution_count": 5,
     "metadata": {},
     "output_type": "execute_result"
    }
   ],
   "source": [
    "HDI.head()"
   ]
  },
  {
   "cell_type": "code",
   "execution_count": 6,
   "id": "3aa3c7c0",
   "metadata": {},
   "outputs": [],
   "source": [
    "clean(HDI, HDI['Country'])"
   ]
  },
  {
   "cell_type": "code",
   "execution_count": 7,
   "id": "be9bd788",
   "metadata": {},
   "outputs": [],
   "source": [
    "data=HDI.set_index('Country')"
   ]
  },
  {
   "cell_type": "code",
   "execution_count": 8,
   "id": "115970e8",
   "metadata": {},
   "outputs": [
    {
     "data": {
      "text/html": [
       "<div>\n",
       "<style scoped>\n",
       "    .dataframe tbody tr th:only-of-type {\n",
       "        vertical-align: middle;\n",
       "    }\n",
       "\n",
       "    .dataframe tbody tr th {\n",
       "        vertical-align: top;\n",
       "    }\n",
       "\n",
       "    .dataframe thead th {\n",
       "        text-align: right;\n",
       "    }\n",
       "</style>\n",
       "<table border=\"1\" class=\"dataframe\">\n",
       "  <thead>\n",
       "    <tr style=\"text-align: right;\">\n",
       "      <th></th>\n",
       "      <th>Life expectancy at birth</th>\n",
       "      <th>Expected years of schooling</th>\n",
       "      <th>Mean years of schooling</th>\n",
       "      <th>Gross national income (GNI) per capita</th>\n",
       "    </tr>\n",
       "    <tr>\n",
       "      <th>Country</th>\n",
       "      <th></th>\n",
       "      <th></th>\n",
       "      <th></th>\n",
       "      <th></th>\n",
       "    </tr>\n",
       "  </thead>\n",
       "  <tbody>\n",
       "    <tr>\n",
       "      <th>Norway</th>\n",
       "      <td>82.40</td>\n",
       "      <td>18.06615</td>\n",
       "      <td>12.897750</td>\n",
       "      <td>66494.252170</td>\n",
       "    </tr>\n",
       "    <tr>\n",
       "      <th>Ireland</th>\n",
       "      <td>82.31</td>\n",
       "      <td>18.70529</td>\n",
       "      <td>12.666331</td>\n",
       "      <td>68370.587370</td>\n",
       "    </tr>\n",
       "    <tr>\n",
       "      <th>Switzerland</th>\n",
       "      <td>83.78</td>\n",
       "      <td>16.32844</td>\n",
       "      <td>13.380812</td>\n",
       "      <td>69393.520760</td>\n",
       "    </tr>\n",
       "    <tr>\n",
       "      <th>Hong Kong, China (SAR)</th>\n",
       "      <td>84.86</td>\n",
       "      <td>16.92947</td>\n",
       "      <td>12.279960</td>\n",
       "      <td>62984.765530</td>\n",
       "    </tr>\n",
       "    <tr>\n",
       "      <th>Iceland</th>\n",
       "      <td>82.99</td>\n",
       "      <td>19.08309</td>\n",
       "      <td>12.772787</td>\n",
       "      <td>54682.380570</td>\n",
       "    </tr>\n",
       "    <tr>\n",
       "      <th>...</th>\n",
       "      <td>...</td>\n",
       "      <td>...</td>\n",
       "      <td>...</td>\n",
       "      <td>...</td>\n",
       "    </tr>\n",
       "    <tr>\n",
       "      <th>Monaco</th>\n",
       "      <td>NaN</td>\n",
       "      <td>NaN</td>\n",
       "      <td>NaN</td>\n",
       "      <td>NaN</td>\n",
       "    </tr>\n",
       "    <tr>\n",
       "      <th>Nauru</th>\n",
       "      <td>NaN</td>\n",
       "      <td>11.23418</td>\n",
       "      <td>NaN</td>\n",
       "      <td>16237.481010</td>\n",
       "    </tr>\n",
       "    <tr>\n",
       "      <th>San Marino</th>\n",
       "      <td>NaN</td>\n",
       "      <td>13.04993</td>\n",
       "      <td>NaN</td>\n",
       "      <td>NaN</td>\n",
       "    </tr>\n",
       "    <tr>\n",
       "      <th>Somalia</th>\n",
       "      <td>57.40</td>\n",
       "      <td>NaN</td>\n",
       "      <td>NaN</td>\n",
       "      <td>NaN</td>\n",
       "    </tr>\n",
       "    <tr>\n",
       "      <th>Tuvalu</th>\n",
       "      <td>NaN</td>\n",
       "      <td>12.30895</td>\n",
       "      <td>NaN</td>\n",
       "      <td>6132.201761</td>\n",
       "    </tr>\n",
       "  </tbody>\n",
       "</table>\n",
       "<p>195 rows × 4 columns</p>\n",
       "</div>"
      ],
      "text/plain": [
       "                        Life expectancy at birth  Expected years of schooling  \\\n",
       "Country                                                                         \n",
       "Norway                                     82.40                     18.06615   \n",
       "Ireland                                    82.31                     18.70529   \n",
       "Switzerland                                83.78                     16.32844   \n",
       "Hong Kong, China (SAR)                     84.86                     16.92947   \n",
       "Iceland                                    82.99                     19.08309   \n",
       "...                                          ...                          ...   \n",
       "Monaco                                       NaN                          NaN   \n",
       "Nauru                                        NaN                     11.23418   \n",
       "San Marino                                   NaN                     13.04993   \n",
       "Somalia                                    57.40                          NaN   \n",
       "Tuvalu                                       NaN                     12.30895   \n",
       "\n",
       "                        Mean years of schooling  \\\n",
       "Country                                           \n",
       "Norway                                12.897750   \n",
       "Ireland                               12.666331   \n",
       "Switzerland                           13.380812   \n",
       "Hong Kong, China (SAR)                12.279960   \n",
       "Iceland                               12.772787   \n",
       "...                                         ...   \n",
       "Monaco                                      NaN   \n",
       "Nauru                                       NaN   \n",
       "San Marino                                  NaN   \n",
       "Somalia                                     NaN   \n",
       "Tuvalu                                      NaN   \n",
       "\n",
       "                        Gross national income (GNI) per capita  \n",
       "Country                                                         \n",
       "Norway                                            66494.252170  \n",
       "Ireland                                           68370.587370  \n",
       "Switzerland                                       69393.520760  \n",
       "Hong Kong, China (SAR)                            62984.765530  \n",
       "Iceland                                           54682.380570  \n",
       "...                                                        ...  \n",
       "Monaco                                                     NaN  \n",
       "Nauru                                             16237.481010  \n",
       "San Marino                                                 NaN  \n",
       "Somalia                                                    NaN  \n",
       "Tuvalu                                             6132.201761  \n",
       "\n",
       "[195 rows x 4 columns]"
      ]
     },
     "execution_count": 8,
     "metadata": {},
     "output_type": "execute_result"
    }
   ],
   "source": [
    "data"
   ]
  },
  {
   "cell_type": "code",
   "execution_count": 9,
   "id": "b696d66a",
   "metadata": {},
   "outputs": [
    {
     "name": "stdout",
     "output_type": "stream",
     "text": [
      "<class 'pandas.core.frame.DataFrame'>\n",
      "Index: 195 entries, Norway to Tuvalu\n",
      "Data columns (total 4 columns):\n",
      " #   Column                                  Non-Null Count  Dtype  \n",
      "---  ------                                  --------------  -----  \n",
      " 0   Life expectancy at birth                191 non-null    float64\n",
      " 1   Expected years of schooling             193 non-null    float64\n",
      " 2   Mean years of schooling                 189 non-null    float64\n",
      " 3   Gross national income (GNI) per capita  191 non-null    float64\n",
      "dtypes: float64(4)\n",
      "memory usage: 7.6+ KB\n"
     ]
    }
   ],
   "source": [
    "data.info()"
   ]
  },
  {
   "cell_type": "code",
   "execution_count": 10,
   "id": "9972d3ad",
   "metadata": {},
   "outputs": [],
   "source": [
    "for column in data:\n",
    "    data.dropna(subset=[column], how='all', inplace=True)"
   ]
  },
  {
   "cell_type": "code",
   "execution_count": 11,
   "id": "707d97f8",
   "metadata": {},
   "outputs": [
    {
     "name": "stdout",
     "output_type": "stream",
     "text": [
      "<class 'pandas.core.frame.DataFrame'>\n",
      "Index: 189 entries, Norway to Niger\n",
      "Data columns (total 4 columns):\n",
      " #   Column                                  Non-Null Count  Dtype  \n",
      "---  ------                                  --------------  -----  \n",
      " 0   Life expectancy at birth                189 non-null    float64\n",
      " 1   Expected years of schooling             189 non-null    float64\n",
      " 2   Mean years of schooling                 189 non-null    float64\n",
      " 3   Gross national income (GNI) per capita  189 non-null    float64\n",
      "dtypes: float64(4)\n",
      "memory usage: 7.4+ KB\n"
     ]
    }
   ],
   "source": [
    "data.info()"
   ]
  },
  {
   "cell_type": "code",
   "execution_count": 12,
   "id": "28e41edf",
   "metadata": {},
   "outputs": [
    {
     "data": {
      "image/png": "[encoded data removed]",
      "text/plain": [
       "<Figure size 1440x1440 with 2 Axes>"
      ]
     },
     "metadata": {},
     "output_type": "display_data"
    }
   ],
   "source": [
    "corr = data.corr()\n",
    "mask = np.zeros_like(corr)\n",
    "mask[np.triu_indices_from(mask)] = True\n",
    "with sns.axes_style(\"white\"):\n",
    "    f, ax = plt.subplots(figsize=(20, 20))\n",
    "    ax = sns.heatmap(corr, cmap='coolwarm', mask=mask, vmax=.3, square=True)"
   ]
  },
  {
   "cell_type": "markdown",
   "id": "57358e1e",
   "metadata": {},
   "source": [
    "# Now that we have a dataframe, let's make some clusters"
   ]
  },
  {
   "cell_type": "markdown",
   "id": "6965cae9",
   "metadata": {},
   "source": [
    "## First we will try doing them scaling the data"
   ]
  },
  {
   "cell_type": "code",
   "execution_count": 13,
   "id": "c1ff7020",
   "metadata": {},
   "outputs": [],
   "source": [
    "scaler=StandardScaler()"
   ]
  },
  {
   "cell_type": "code",
   "execution_count": 14,
   "id": "04dfc9ba",
   "metadata": {},
   "outputs": [
    {
     "data": {
      "text/plain": [
       "StandardScaler()"
      ]
     },
     "execution_count": 14,
     "metadata": {},
     "output_type": "execute_result"
    }
   ],
   "source": [
    "scaler.fit(data)"
   ]
  },
  {
   "cell_type": "code",
   "execution_count": 15,
   "id": "4bda4b32",
   "metadata": {},
   "outputs": [],
   "source": [
    "array_scaled=scaler.transform(data)"
   ]
  },
  {
   "cell_type": "code",
   "execution_count": 16,
   "id": "11f22e37",
   "metadata": {},
   "outputs": [],
   "source": [
    "scaled=pd.DataFrame(array_scaled,columns=data.columns)"
   ]
  },
  {
   "cell_type": "code",
   "execution_count": 17,
   "id": "d93e3a99",
   "metadata": {},
   "outputs": [
    {
     "data": {
      "image/png": "[encoded data removed]",
      "text/plain": [
       "<Figure size 720x360 with 4 Axes>"
      ]
     },
     "metadata": {
      "needs_background": "light"
     },
     "output_type": "display_data"
    }
   ],
   "source": [
    "# let's see if the data has changed while scaling\n",
    "data.hist(bins=15,figsize=(10,5));"
   ]
  },
  {
   "cell_type": "code",
   "execution_count": 18,
   "id": "bea78124",
   "metadata": {},
   "outputs": [
    {
     "data": {
      "image/png": "[encoded data removed]",
      "text/plain": [
       "<Figure size 720x360 with 4 Axes>"
      ]
     },
     "metadata": {
      "needs_background": "light"
     },
     "output_type": "display_data"
    }
   ],
   "source": [
    "scaled.hist(bins=15,figsize=(10,5));"
   ]
  },
  {
   "cell_type": "code",
   "execution_count": 19,
   "id": "85cdc313",
   "metadata": {},
   "outputs": [],
   "source": [
    "# they are unchanged, so we will continue\n",
    "K_Means=KMeans(n_clusters=10,random_state=5)"
   ]
  },
  {
   "cell_type": "code",
   "execution_count": 20,
   "id": "4e07ac4e",
   "metadata": {},
   "outputs": [],
   "source": [
    "clusters=K_Means.fit(scaled)"
   ]
  },
  {
   "cell_type": "code",
   "execution_count": 21,
   "id": "1bab61e7",
   "metadata": {},
   "outputs": [],
   "source": [
    "scaled['cluster']=clusters.labels_"
   ]
  },
  {
   "cell_type": "code",
   "execution_count": 22,
   "id": "c9a33d1a",
   "metadata": {},
   "outputs": [
    {
     "data": {
      "text/plain": [
       "3    30\n",
       "9    27\n",
       "5    27\n",
       "2    24\n",
       "1    23\n",
       "0    20\n",
       "8    16\n",
       "6    15\n",
       "7     5\n",
       "4     2\n",
       "Name: cluster, dtype: int64"
      ]
     },
     "execution_count": 22,
     "metadata": {},
     "output_type": "execute_result"
    }
   ],
   "source": [
    "scaled['cluster'].value_counts()"
   ]
  },
  {
   "cell_type": "code",
   "execution_count": 23,
   "id": "50d5aa1e",
   "metadata": {},
   "outputs": [],
   "source": [
    "scaled.index=data.index"
   ]
  },
  {
   "cell_type": "code",
   "execution_count": 24,
   "id": "e6f226da",
   "metadata": {},
   "outputs": [
    {
     "data": {
      "text/html": [
       "<div>\n",
       "<style scoped>\n",
       "    .dataframe tbody tr th:only-of-type {\n",
       "        vertical-align: middle;\n",
       "    }\n",
       "\n",
       "    .dataframe tbody tr th {\n",
       "        vertical-align: top;\n",
       "    }\n",
       "\n",
       "    .dataframe thead th {\n",
       "        text-align: right;\n",
       "    }\n",
       "</style>\n",
       "<table border=\"1\" class=\"dataframe\">\n",
       "  <thead>\n",
       "    <tr style=\"text-align: right;\">\n",
       "      <th></th>\n",
       "      <th>Life expectancy at birth</th>\n",
       "      <th>Expected years of schooling</th>\n",
       "      <th>Mean years of schooling</th>\n",
       "      <th>Gross national income (GNI) per capita</th>\n",
       "      <th>cluster</th>\n",
       "    </tr>\n",
       "    <tr>\n",
       "      <th>Country</th>\n",
       "      <th></th>\n",
       "      <th></th>\n",
       "      <th></th>\n",
       "      <th></th>\n",
       "      <th></th>\n",
       "    </tr>\n",
       "  </thead>\n",
       "  <tbody>\n",
       "    <tr>\n",
       "      <th>Norway</th>\n",
       "      <td>1.315133</td>\n",
       "      <td>1.616460</td>\n",
       "      <td>1.354139</td>\n",
       "      <td>2.185563</td>\n",
       "      <td>6</td>\n",
       "    </tr>\n",
       "    <tr>\n",
       "      <th>Ireland</th>\n",
       "      <td>1.302916</td>\n",
       "      <td>1.834377</td>\n",
       "      <td>1.278986</td>\n",
       "      <td>2.274183</td>\n",
       "      <td>6</td>\n",
       "    </tr>\n",
       "    <tr>\n",
       "      <th>Switzerland</th>\n",
       "      <td>1.502460</td>\n",
       "      <td>1.023984</td>\n",
       "      <td>1.511013</td>\n",
       "      <td>2.322497</td>\n",
       "      <td>6</td>\n",
       "    </tr>\n",
       "    <tr>\n",
       "      <th>Hong Kong, China (SAR)</th>\n",
       "      <td>1.649064</td>\n",
       "      <td>1.228907</td>\n",
       "      <td>1.153512</td>\n",
       "      <td>2.019809</td>\n",
       "      <td>6</td>\n",
       "    </tr>\n",
       "    <tr>\n",
       "      <th>Iceland</th>\n",
       "      <td>1.395222</td>\n",
       "      <td>1.963189</td>\n",
       "      <td>1.313557</td>\n",
       "      <td>1.627684</td>\n",
       "      <td>6</td>\n",
       "    </tr>\n",
       "    <tr>\n",
       "      <th>...</th>\n",
       "      <td>...</td>\n",
       "      <td>...</td>\n",
       "      <td>...</td>\n",
       "      <td>...</td>\n",
       "      <td>...</td>\n",
       "    </tr>\n",
       "    <tr>\n",
       "      <th>Burundi</th>\n",
       "      <td>-1.511064</td>\n",
       "      <td>-0.769122</td>\n",
       "      <td>-1.766623</td>\n",
       "      <td>-0.919378</td>\n",
       "      <td>5</td>\n",
       "    </tr>\n",
       "    <tr>\n",
       "      <th>South Sudan</th>\n",
       "      <td>-2.017391</td>\n",
       "      <td>-2.737465</td>\n",
       "      <td>-1.275597</td>\n",
       "      <td>-0.860368</td>\n",
       "      <td>8</td>\n",
       "    </tr>\n",
       "    <tr>\n",
       "      <th>Chad</th>\n",
       "      <td>-2.507428</td>\n",
       "      <td>-2.037458</td>\n",
       "      <td>-2.014829</td>\n",
       "      <td>-0.881524</td>\n",
       "      <td>8</td>\n",
       "    </tr>\n",
       "    <tr>\n",
       "      <th>Central African Republic</th>\n",
       "      <td>-2.637742</td>\n",
       "      <td>-1.962786</td>\n",
       "      <td>-1.443817</td>\n",
       "      <td>-0.908085</td>\n",
       "      <td>8</td>\n",
       "    </tr>\n",
       "    <tr>\n",
       "      <th>Niger</th>\n",
       "      <td>-1.397039</td>\n",
       "      <td>-2.336780</td>\n",
       "      <td>-2.159223</td>\n",
       "      <td>-0.898266</td>\n",
       "      <td>8</td>\n",
       "    </tr>\n",
       "  </tbody>\n",
       "</table>\n",
       "<p>189 rows × 5 columns</p>\n",
       "</div>"
      ],
      "text/plain": [
       "                          Life expectancy at birth  \\\n",
       "Country                                              \n",
       "Norway                                    1.315133   \n",
       "Ireland                                   1.302916   \n",
       "Switzerland                               1.502460   \n",
       "Hong Kong, China (SAR)                    1.649064   \n",
       "Iceland                                   1.395222   \n",
       "...                                            ...   \n",
       "Burundi                                  -1.511064   \n",
       "South Sudan                              -2.017391   \n",
       "Chad                                     -2.507428   \n",
       "Central African Republic                 -2.637742   \n",
       "Niger                                    -1.397039   \n",
       "\n",
       "                          Expected years of schooling  \\\n",
       "Country                                                 \n",
       "Norway                                       1.616460   \n",
       "Ireland                                      1.834377   \n",
       "Switzerland                                  1.023984   \n",
       "Hong Kong, China (SAR)                       1.228907   \n",
       "Iceland                                      1.963189   \n",
       "...                                               ...   \n",
       "Burundi                                     -0.769122   \n",
       "South Sudan                                 -2.737465   \n",
       "Chad                                        -2.037458   \n",
       "Central African Republic                    -1.962786   \n",
       "Niger                                       -2.336780   \n",
       "\n",
       "                          Mean years of schooling  \\\n",
       "Country                                             \n",
       "Norway                                   1.354139   \n",
       "Ireland                                  1.278986   \n",
       "Switzerland                              1.511013   \n",
       "Hong Kong, China (SAR)                   1.153512   \n",
       "Iceland                                  1.313557   \n",
       "...                                           ...   \n",
       "Burundi                                 -1.766623   \n",
       "South Sudan                             -1.275597   \n",
       "Chad                                    -2.014829   \n",
       "Central African Republic                -1.443817   \n",
       "Niger                                   -2.159223   \n",
       "\n",
       "                          Gross national income (GNI) per capita  cluster  \n",
       "Country                                                                    \n",
       "Norway                                                  2.185563        6  \n",
       "Ireland                                                 2.274183        6  \n",
       "Switzerland                                             2.322497        6  \n",
       "Hong Kong, China (SAR)                                  2.019809        6  \n",
       "Iceland                                                 1.627684        6  \n",
       "...                                                          ...      ...  \n",
       "Burundi                                                -0.919378        5  \n",
       "South Sudan                                            -0.860368        8  \n",
       "Chad                                                   -0.881524        8  \n",
       "Central African Republic                               -0.908085        8  \n",
       "Niger                                                  -0.898266        8  \n",
       "\n",
       "[189 rows x 5 columns]"
      ]
     },
     "execution_count": 24,
     "metadata": {},
     "output_type": "execute_result"
    }
   ],
   "source": [
    "scaled"
   ]
  },
  {
   "cell_type": "markdown",
   "id": "5fe8ebe3",
   "metadata": {},
   "source": [
    "# Definitive clusters\n",
    "## First we have to find the optimum number of clusters (K)"
   ]
  },
  {
   "cell_type": "code",
   "execution_count": 25,
   "id": "e3297e2d",
   "metadata": {},
   "outputs": [],
   "source": [
    "scaled=scaled.drop('cluster',axis=1)"
   ]
  },
  {
   "cell_type": "code",
   "execution_count": 26,
   "id": "7085933e",
   "metadata": {},
   "outputs": [],
   "source": [
    "K=range(2,25)\n",
    "inertia=[]\n",
    "for k in K:\n",
    "    kmeans=KMeans(n_clusters=k,random_state=5)\n",
    "    kmeans.fit(scaled)\n",
    "    inertia.append(kmeans.inertia_)"
   ]
  },
  {
   "cell_type": "code",
   "execution_count": 27,
   "id": "9c37f9dc",
   "metadata": {
    "scrolled": false
   },
   "outputs": [
    {
     "data": {
      "image/png": "[encoded data removed]",
      "text/plain": [
       "<Figure size 1440x1440 with 1 Axes>"
      ]
     },
     "metadata": {
      "needs_background": "light"
     },
     "output_type": "display_data"
    }
   ],
   "source": [
    "# let's see the elbow\n",
    "\n",
    "plt.figure(figsize=(20,20))\n",
    "plt.plot(K,inertia,'bx-')\n",
    "plt.xlabel('number of clusters')\n",
    "plt.ylabel('inertia')\n",
    "plt.xticks(np.arange(min(K),max(K)+1,1.0));\n",
    "\n",
    "# as usual for this project, elbow not showing so much..."
   ]
  },
  {
   "cell_type": "code",
   "execution_count": 28,
   "id": "fe6f9a2f",
   "metadata": {},
   "outputs": [],
   "source": [
    "K=range(2,25)\n",
    "sil=[]\n",
    "for k in K:\n",
    "    kmeans=KMeans(n_clusters=k,random_state=5)\n",
    "    kmeans.fit(scaled)\n",
    "    sil.append(silhouette_score(scaled,kmeans.predict(scaled)))"
   ]
  },
  {
   "cell_type": "code",
   "execution_count": 29,
   "id": "0df1c76e",
   "metadata": {},
   "outputs": [
    {
     "data": {
      "image/png": "[encoded data removed]",
      "text/plain": [
       "<Figure size 1152x576 with 1 Axes>"
      ]
     },
     "metadata": {
      "needs_background": "light"
     },
     "output_type": "display_data"
    }
   ],
   "source": [
    "# and now, the silhouette score\n",
    "\n",
    "plt.figure(figsize=(16,8))\n",
    "plt.plot(K,sil,'bo-')\n",
    "plt.xlabel('number of clusters')\n",
    "plt.ylabel('silhouette')\n",
    "plt.xticks(np.arange(min(K),max(K)+1,1.0));\n",
    "\n",
    "# not helping much... for the sake of consistency we could stick with 3 or 5... could be 7 as well...\n",
    "# maybe 5 has a better display consistency with the other clustered datasets"
   ]
  },
  {
   "cell_type": "markdown",
   "id": "5274d1d2",
   "metadata": {},
   "source": [
    "## Now we will apply 5 clusters to the dataframe"
   ]
  },
  {
   "cell_type": "code",
   "execution_count": 30,
   "id": "cbf91fb1",
   "metadata": {},
   "outputs": [],
   "source": [
    "kmeans=KMeans(n_clusters=5, random_state=5)"
   ]
  },
  {
   "cell_type": "code",
   "execution_count": 31,
   "id": "81e9d3a0",
   "metadata": {},
   "outputs": [],
   "source": [
    "clusters=kmeans.fit(scaled)"
   ]
  },
  {
   "cell_type": "code",
   "execution_count": 32,
   "id": "b1ecd13e",
   "metadata": {},
   "outputs": [],
   "source": [
    "scaled['cluster']=clusters.labels_"
   ]
  },
  {
   "cell_type": "code",
   "execution_count": 33,
   "id": "1429c806",
   "metadata": {},
   "outputs": [],
   "source": [
    "scaled.to_csv('HDI clusters.csv')"
   ]
  }
 ],
 "metadata": {
  "kernelspec": {
   "display_name": "Python 3 (ipykernel)",
   "language": "python",
   "name": "python3"
  },
  "language_info": {
   "codemirror_mode": {
    "name": "ipython",
    "version": 3
   },
   "file_extension": ".py",
   "mimetype": "text/x-python",
   "name": "python",
   "nbconvert_exporter": "python",
   "pygments_lexer": "ipython3",
   "version": "3.9.7"
  },
  "toc": {
   "base_numbering": 1,
   "nav_menu": {},
   "number_sections": true,
   "sideBar": true,
   "skip_h1_title": false,
   "title_cell": "Table of Contents",
   "title_sidebar": "Contents",
   "toc_cell": false,
   "toc_position": {},
   "toc_section_display": true,
   "toc_window_display": false
  },
  "varInspector": {
   "cols": {
    "lenName": 16,
    "lenType": 16,
    "lenVar": 40
   },
   "kernels_config": {
    "python": {
     "delete_cmd_postfix": "",
     "delete_cmd_prefix": "del ",
     "library": "var_list.py",
     "varRefreshCmd": "print(var_dic_list())"
    },
    "r": {
     "delete_cmd_postfix": ") ",
     "delete_cmd_prefix": "rm(",
     "library": "var_list.r",
     "varRefreshCmd": "cat(var_dic_list()) "
    }
   },
   "types_to_exclude": [
    "module",
    "function",
    "builtin_function_or_method",
    "instance",
    "_Feature"
   ],
   "window_display": false
  }
 },
 "nbformat": 4,
 "nbformat_minor": 5
}
