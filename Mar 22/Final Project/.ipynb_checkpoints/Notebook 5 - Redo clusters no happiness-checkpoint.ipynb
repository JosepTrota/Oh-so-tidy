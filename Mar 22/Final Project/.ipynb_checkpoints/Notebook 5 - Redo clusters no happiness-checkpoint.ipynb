{
 "cells": [
  {
   "cell_type": "markdown",
   "id": "9d7349fe",
   "metadata": {},
   "source": [
    "# Clean all pieces of data"
   ]
  },
  {
   "cell_type": "code",
   "execution_count": 1,
   "id": "10e47c79",
   "metadata": {},
   "outputs": [],
   "source": [
    "import pandas as pd\n",
    "import numpy as np\n",
    "import seaborn as sns\n",
    "import matplotlib.pyplot as plt\n",
    "from functools import reduce\n",
    "from sklearn.cluster import KMeans \n",
    "from sklearn.preprocessing import StandardScaler \n",
    "from sklearn.metrics import silhouette_score "
   ]
  },
  {
   "cell_type": "markdown",
   "id": "8c67d9c8",
   "metadata": {},
   "source": [
    "## First, download the data"
   ]
  },
  {
   "cell_type": "code",
   "execution_count": 2,
   "id": "5fdd7eb0",
   "metadata": {},
   "outputs": [],
   "source": [
    "IW = pd.read_excel('Inglehart - Welzel.xlsx')"
   ]
  },
  {
   "cell_type": "code",
   "execution_count": 3,
   "id": "c866a9ce",
   "metadata": {},
   "outputs": [],
   "source": [
    "GPI = pd.read_excel('global peace index.xlsx')"
   ]
  },
  {
   "cell_type": "code",
   "execution_count": 4,
   "id": "cab7fbc6",
   "metadata": {},
   "outputs": [],
   "source": [
    "EF = pd.read_csv('eco footprint.csv')"
   ]
  },
  {
   "cell_type": "code",
   "execution_count": 5,
   "id": "850da22b",
   "metadata": {},
   "outputs": [],
   "source": [
    "EI = pd.read_excel('educationindex.xlsx')"
   ]
  },
  {
   "cell_type": "code",
   "execution_count": 6,
   "id": "3fba49ce",
   "metadata": {},
   "outputs": [],
   "source": [
    "GDP = pd.read_excel('GDP nominal.xlsx')"
   ]
  },
  {
   "cell_type": "code",
   "execution_count": 7,
   "id": "7cf5c730",
   "metadata": {},
   "outputs": [],
   "source": [
    "gini = pd.read_csv('Gini.csv')"
   ]
  },
  {
   "cell_type": "code",
   "execution_count": 8,
   "id": "47f2f2d6",
   "metadata": {},
   "outputs": [],
   "source": [
    "LE = pd.read_excel('life expectancy at birth.xlsx')"
   ]
  },
  {
   "cell_type": "code",
   "execution_count": 9,
   "id": "904afe6e",
   "metadata": {},
   "outputs": [],
   "source": [
    "religions = pd.read_csv('Religions.csv')"
   ]
  },
  {
   "cell_type": "markdown",
   "id": "e580251b",
   "metadata": {},
   "source": [
    "## Let's standarize the country names"
   ]
  },
  {
   "cell_type": "code",
   "execution_count": 10,
   "id": "5be585ca",
   "metadata": {},
   "outputs": [],
   "source": [
    "IWdict={}\n",
    "counter = 0\n",
    "for cell in IW['nation & wave']:\n",
    "    IWdict[str(cell)[:-2]]=IW['Trad Rat values'][counter], IW['Surv Self values'][counter]\n",
    "    counter += 1"
   ]
  },
  {
   "cell_type": "markdown",
   "id": "2b4060db",
   "metadata": {},
   "source": [
    "### Now that we have appended every country name in our data, let's see the unique values that we have:"
   ]
  },
  {
   "cell_type": "code",
   "execution_count": 11,
   "id": "6c79fd39",
   "metadata": {},
   "outputs": [],
   "source": [
    "# Here are our dict and list to deal with undesired names:\n",
    "\n",
    "to_substitute ={'Yemen, Rep.': 'Yemen', 'Palestinian National Authority': 'Palestine', 'West Bank and Gaza':'Palestine',\n",
    "            'Venezuela, RB':'Venezuela', 'United States': 'United States of America', 'USA': 'United States of America',\n",
    "            'Trinidad':'Trinidad and Tobago', 'The Gambia':'Gambia', 'São Tomé and Príncipe': 'São Tomé and Principe',\n",
    "            'Sao Tome and Principe': 'São Tomé and Principe', 'Syrian Arab Republic': 'Syria', 'St. Lucia': 'Saint Lucia',\n",
    "            'St. Kitts and Nevis': 'Saint Kitts and Nevis', 'Slovak Republic':'Slovakia', 'Singapo':'Singapore',\n",
    "            'Russian Federation': 'Russia', 'Republic of the Congo':'Congo', 'Philipines':'Philippines',\n",
    "            'Phillipines':'Philippines', 'Macedonia (FYR) ': 'Macedonia', 'Lao PDR': 'Laos', 'Kyrgyz Republic': 'Kyrgyzstan',\n",
    "            'Kyrgyzistan': 'Kyrgyzstan', \"Korea, Dem. People's Rep.\":'North Korea', 'Korea, Rep.': 'South Korea',\n",
    "            \"Côte d'Ivoire\":'Ivory Coast', \"Cote d' Ivoire\": 'Ivory Coast', 'Iran, Islamic Rep.': 'Iran',\n",
    "            'Hong Kong SAR, China': 'Hong Kong', 'Gambia, The': 'Gambia', 'Egypt, Arab Rep.': 'Egypt',\n",
    "            'DR Congo': 'Democratic Republic of the Congo', 'Congo, Dem. Rep.': 'Democratic Republic of the Congo',\n",
    "            'Congo, Rep.': 'Congo', 'Czech':'Czech Republic', 'Curacao': 'Curaçao', 'Cape Verde': 'Cabo Verde',\n",
    "            'Brunei Darussalam': 'Brunei', 'Bosnia': 'Bosnia and Herzegovina', 'Bahamas, The': 'Bahamas'}\n",
    "\n",
    "to_drop = ['World', 'Western Sahara', 'Wallis and Futuna', 'Virgin Islands (U.S.)', 'Upper middle income',\n",
    "        'United States Virgin Islands', 'Sub-Saharan Africa', 'Sub-Saharan Africa (IDA & IBRD)',\n",
    "        'Sub-Saharan Africa (excluding high income)', 'St. Martin (French part)', 'South Asia', 'South Asia (IDA & IBRD)',\n",
    "        'Small states', 'Sint Maarten', 'Sint Maarten (Dutch part)', 'Saint Pierre and Miquelon', 'Reunion',\n",
    "        'Post-demographic dividend', 'Pre-demographic dividend', 'Pacific island small states', 'Other small states',\n",
    "        'OECD members', 'North America', 'Niue', 'Montserrat', 'Middle East & North Africa',\n",
    "        'Middle East & North Africa (IDA & IBRD)', 'Middle East & North Africa (excluding high income)', 'Middle income',\n",
    "        'Micronesia', 'Micronesia, Fed. Sts.', 'Martinique', 'Low & middle income', 'Low income', 'Lower middle income',\n",
    "        'Macao SAR, China', 'Macau', 'Late-demographic dividend', 'Latin America & Caribbean',\n",
    "        'Latin America & Caribbean (IDA & IBRD)', 'Latin America & Caribbean (excluding high income)',\n",
    "        'Least developed countries: UN classification', 'Heavily indebted poor countries (HIPC)', 'High income', 'Guadeloupe',\n",
    "        'Gibraltar', 'Galicia', 'Fragile and conflict affected situations', 'French Guiana', 'French Polynesia',\n",
    "        'Federated States of Micronesia', 'Faroe Islands', 'Falkland Islands', 'Euro area', 'Europe & Central Asia',\n",
    "        'Europe & Central Asia (IDA & IBRD)', 'Europe & Central Asia (excluding high income)', 'European Union',\n",
    "        'Early-demographic dividend', 'East Asia & Pacific', 'East Asia & Pacific (IDA & IBRD)',\n",
    "        'East Asia & Pacific (excluding high income)', 'Central Europe and the Baltics', 'Cayman Islands',\n",
    "        'Caribbean small states', 'British Virgin Islands', 'Bermuda', 'Africa Eastern and Southern',\n",
    "        'Africa Western and Central', 'Arab World', 'Aruba', 'Anguilla', 'American Samoa', 'Moscow', 'North Ireland']"
   ]
  },
  {
   "cell_type": "code",
   "execution_count": 12,
   "id": "519746a1",
   "metadata": {},
   "outputs": [],
   "source": [
    "# now we can set up a cleaning function!\n",
    "\n",
    "def clean(df,column):\n",
    "    counter = 0\n",
    "    for cell in column:\n",
    "        if str(cell)[:1] == '\\xa0':\n",
    "            column[counter] = str(cell)[1:]\n",
    "        if str(cell) in to_drop:\n",
    "            df.drop(df.index[counter])\n",
    "        counter += 1\n",
    "    for key in to_substitute.keys():\n",
    "        column.mask(column == str(key), str(to_substitute[str(key)]), inplace=True)"
   ]
  },
  {
   "cell_type": "markdown",
   "id": "ef13f43a",
   "metadata": {},
   "source": [
    "## Cleaning"
   ]
  },
  {
   "cell_type": "markdown",
   "id": "69291d93",
   "metadata": {},
   "source": [
    "### Clean Inglehart Welzel data"
   ]
  },
  {
   "cell_type": "code",
   "execution_count": 13,
   "id": "054a02b6",
   "metadata": {},
   "outputs": [],
   "source": [
    "fixedIW=pd.DataFrame.from_dict(IWdict, orient='index')"
   ]
  },
  {
   "cell_type": "code",
   "execution_count": 14,
   "id": "8a52a0a6",
   "metadata": {},
   "outputs": [],
   "source": [
    "fixedIW.reset_index(inplace=True)"
   ]
  },
  {
   "cell_type": "code",
   "execution_count": 15,
   "id": "e0acfd73",
   "metadata": {},
   "outputs": [],
   "source": [
    "clean(fixedIW, fixedIW['index'])"
   ]
  },
  {
   "cell_type": "code",
   "execution_count": 16,
   "id": "da639edd",
   "metadata": {},
   "outputs": [],
   "source": [
    "fixedIW = fixedIW.rename(columns={0: \"trad_rat_values\", 1: \"surv_self_values\", 'index': 'country'})"
   ]
  },
  {
   "cell_type": "markdown",
   "id": "a24a90ab",
   "metadata": {},
   "source": [
    "### Clean global peace index data"
   ]
  },
  {
   "cell_type": "code",
   "execution_count": 17,
   "id": "8322946b",
   "metadata": {},
   "outputs": [],
   "source": [
    "clean(GPI, GPI['Country'])"
   ]
  },
  {
   "cell_type": "code",
   "execution_count": 18,
   "id": "bcf5e266",
   "metadata": {},
   "outputs": [],
   "source": [
    "fixedGPI = GPI[['Country',2019]].copy()\n",
    "fixedGPI.rename(columns={2019: 'global_peace_index', 'Country': 'country'}, inplace=True, errors='raise')"
   ]
  },
  {
   "cell_type": "markdown",
   "id": "ff69a783",
   "metadata": {},
   "source": [
    "### Clean ecological footprint data"
   ]
  },
  {
   "cell_type": "code",
   "execution_count": 19,
   "id": "e5e19aa8",
   "metadata": {},
   "outputs": [],
   "source": [
    "clean(EF, EF['country'])"
   ]
  },
  {
   "cell_type": "code",
   "execution_count": 20,
   "id": "6d390399",
   "metadata": {},
   "outputs": [],
   "source": [
    "fixedEF = EF[['country','footprintPerCap']].copy()"
   ]
  },
  {
   "cell_type": "markdown",
   "id": "40395511",
   "metadata": {},
   "source": [
    "### Clean education index data"
   ]
  },
  {
   "cell_type": "code",
   "execution_count": 21,
   "id": "4127a456",
   "metadata": {},
   "outputs": [
    {
     "name": "stderr",
     "output_type": "stream",
     "text": [
      "C:\\Users\\x\\AppData\\Local\\Temp/ipykernel_17860/1532366911.py:4: SettingWithCopyWarning: \n",
      "A value is trying to be set on a copy of a slice from a DataFrame\n",
      "\n",
      "See the caveats in the documentation: https://pandas.pydata.org/pandas-docs/stable/user_guide/indexing.html#returning-a-view-versus-a-copy\n",
      "  EI['Unnamed: 0'][counter] = EI['Unnamed: 0'][counter+2]\n"
     ]
    }
   ],
   "source": [
    "counter=0\n",
    "for cell in EI['Unnamed: 0']:\n",
    "    try:\n",
    "        EI['Unnamed: 0'][counter] = EI['Unnamed: 0'][counter+2]\n",
    "    except:\n",
    "        pass\n",
    "    counter+= 1"
   ]
  },
  {
   "cell_type": "code",
   "execution_count": 22,
   "id": "60549e5a",
   "metadata": {},
   "outputs": [],
   "source": [
    "fixedEI=EI.dropna()"
   ]
  },
  {
   "cell_type": "code",
   "execution_count": 23,
   "id": "0abc6fa2",
   "metadata": {},
   "outputs": [
    {
     "name": "stderr",
     "output_type": "stream",
     "text": [
      "C:\\Users\\x\\anaconda3\\lib\\site-packages\\pandas\\core\\generic.py:8870: SettingWithCopyWarning: \n",
      "A value is trying to be set on a copy of a slice from a DataFrame\n",
      "\n",
      "See the caveats in the documentation: https://pandas.pydata.org/pandas-docs/stable/user_guide/indexing.html#returning-a-view-versus-a-copy\n",
      "  return self._update_inplace(result)\n"
     ]
    }
   ],
   "source": [
    "clean(fixedEI, fixedEI['Unnamed: 0'])"
   ]
  },
  {
   "cell_type": "code",
   "execution_count": 24,
   "id": "8583644b",
   "metadata": {},
   "outputs": [],
   "source": [
    "fixedEI = fixedEI[['Unnamed: 0','Education index']].copy()"
   ]
  },
  {
   "cell_type": "code",
   "execution_count": 25,
   "id": "b509fc45",
   "metadata": {},
   "outputs": [],
   "source": [
    "fixedEI = fixedEI.rename(columns={'Unnamed: 0': 'country'})"
   ]
  },
  {
   "cell_type": "markdown",
   "id": "5f85aa4f",
   "metadata": {},
   "source": [
    "### Clean nominal GDP data"
   ]
  },
  {
   "cell_type": "code",
   "execution_count": 26,
   "id": "d7e1bb3e",
   "metadata": {},
   "outputs": [
    {
     "name": "stderr",
     "output_type": "stream",
     "text": [
      "C:\\Users\\x\\AppData\\Local\\Temp/ipykernel_17860/3887060497.py:7: SettingWithCopyWarning: \n",
      "A value is trying to be set on a copy of a slice from a DataFrame\n",
      "\n",
      "See the caveats in the documentation: https://pandas.pydata.org/pandas-docs/stable/user_guide/indexing.html#returning-a-view-versus-a-copy\n",
      "  column[counter] = str(cell)[1:]\n"
     ]
    }
   ],
   "source": [
    "clean(GDP, GDP['Country/Territory'])"
   ]
  },
  {
   "cell_type": "code",
   "execution_count": 27,
   "id": "f20a84aa",
   "metadata": {},
   "outputs": [],
   "source": [
    "fixedGDP = GDP[['Country/Territory','IMF']].copy()"
   ]
  },
  {
   "cell_type": "code",
   "execution_count": 28,
   "id": "522279e7",
   "metadata": {},
   "outputs": [],
   "source": [
    "fixedGDP = fixedGDP.rename(columns={'Country/Territory': 'country'})"
   ]
  },
  {
   "cell_type": "markdown",
   "id": "b33b20db",
   "metadata": {},
   "source": [
    "### Clean Gini index data"
   ]
  },
  {
   "cell_type": "code",
   "execution_count": 29,
   "id": "7a194a5e",
   "metadata": {},
   "outputs": [],
   "source": [
    "clean(gini, gini['country'])"
   ]
  },
  {
   "cell_type": "code",
   "execution_count": 30,
   "id": "62f62a9e",
   "metadata": {},
   "outputs": [],
   "source": [
    "fixedgini = gini[['country','giniCIA']].copy()"
   ]
  },
  {
   "cell_type": "markdown",
   "id": "11243a45",
   "metadata": {},
   "source": [
    "### Clean life expectancy at birth data"
   ]
  },
  {
   "cell_type": "code",
   "execution_count": 31,
   "id": "7b1e7f0e",
   "metadata": {},
   "outputs": [],
   "source": [
    "clean(LE, LE['country'])"
   ]
  },
  {
   "cell_type": "code",
   "execution_count": 32,
   "id": "cc30a54a",
   "metadata": {},
   "outputs": [],
   "source": [
    "fixedLE = LE"
   ]
  },
  {
   "cell_type": "markdown",
   "id": "6dada6c9",
   "metadata": {},
   "source": [
    "### Clean religions data"
   ]
  },
  {
   "cell_type": "code",
   "execution_count": 33,
   "id": "1814bba6",
   "metadata": {},
   "outputs": [],
   "source": [
    "clean(religions, religions['country'])"
   ]
  },
  {
   "cell_type": "code",
   "execution_count": 34,
   "id": "3e90122a",
   "metadata": {},
   "outputs": [],
   "source": [
    "fixedreligions = religions"
   ]
  },
  {
   "cell_type": "markdown",
   "id": "9e8a06dd",
   "metadata": {},
   "source": [
    "# Join all selected data into a single dataframe"
   ]
  },
  {
   "cell_type": "code",
   "execution_count": 35,
   "id": "d624278f",
   "metadata": {},
   "outputs": [],
   "source": [
    "data_frames = [fixedIW, fixedGPI, fixedEF, fixedEI, fixedGDP, fixedgini, fixedLE, fixedreligions]\n",
    "data = reduce(lambda  left,right: pd.merge(left,right,on=['country'],\n",
    "                                            how='outer'), data_frames)"
   ]
  },
  {
   "cell_type": "code",
   "execution_count": 36,
   "id": "3068e89b",
   "metadata": {},
   "outputs": [],
   "source": [
    "data.rename(columns={\"trad_rat_values\": \"tradition_secularism\", \"surv_self_values\": \"survival_self-expression\", \"global_peace_index\": \"unpeacefulness\", \"footprintPerCap\": \"eco_footprint\", \"Education index\": \"education\", \"IMF\":\"nominal_GDP\", \"giniCIA\":\"inequality\", \"life expectancy at birth\": \"life_expectancy\", \"chistians\": \"religion_christian\", \"muslims\": \"religion_muslim\", \"unaffiliated\":\"religion_unaffiliated\", \"hindus\": \"religion_hinduism\", \"buddhists\": \"religion_buddhism\", \"folkReligions\": \"religion_folk\", \"other\": \"religions_other\", \"jews\": \"religion_judaism\"},\n",
    "errors=\"raise\", inplace=True)"
   ]
  },
  {
   "cell_type": "code",
   "execution_count": 37,
   "id": "be9bd788",
   "metadata": {},
   "outputs": [],
   "source": [
    "data=data.set_index('country')"
   ]
  },
  {
   "cell_type": "code",
   "execution_count": 38,
   "id": "115970e8",
   "metadata": {},
   "outputs": [
    {
     "data": {
      "text/html": [
       "<div>\n",
       "<style scoped>\n",
       "    .dataframe tbody tr th:only-of-type {\n",
       "        vertical-align: middle;\n",
       "    }\n",
       "\n",
       "    .dataframe tbody tr th {\n",
       "        vertical-align: top;\n",
       "    }\n",
       "\n",
       "    .dataframe thead th {\n",
       "        text-align: right;\n",
       "    }\n",
       "</style>\n",
       "<table border=\"1\" class=\"dataframe\">\n",
       "  <thead>\n",
       "    <tr style=\"text-align: right;\">\n",
       "      <th></th>\n",
       "      <th>tradition_secularism</th>\n",
       "      <th>survival_self-expression</th>\n",
       "      <th>unpeacefulness</th>\n",
       "      <th>eco_footprint</th>\n",
       "      <th>education</th>\n",
       "      <th>nominal_GDP</th>\n",
       "      <th>inequality</th>\n",
       "      <th>life_expectancy</th>\n",
       "      <th>religion_christian</th>\n",
       "      <th>religion_muslim</th>\n",
       "      <th>religion_unaffiliated</th>\n",
       "      <th>religion_hinduism</th>\n",
       "      <th>religion_buddhism</th>\n",
       "      <th>religion_folk</th>\n",
       "      <th>religions_other</th>\n",
       "      <th>religion_judaism</th>\n",
       "    </tr>\n",
       "    <tr>\n",
       "      <th>country</th>\n",
       "      <th></th>\n",
       "      <th></th>\n",
       "      <th></th>\n",
       "      <th></th>\n",
       "      <th></th>\n",
       "      <th></th>\n",
       "      <th></th>\n",
       "      <th></th>\n",
       "      <th></th>\n",
       "      <th></th>\n",
       "      <th></th>\n",
       "      <th></th>\n",
       "      <th></th>\n",
       "      <th></th>\n",
       "      <th></th>\n",
       "      <th></th>\n",
       "    </tr>\n",
       "  </thead>\n",
       "  <tbody>\n",
       "    <tr>\n",
       "      <th>Albania</th>\n",
       "      <td>0.07</td>\n",
       "      <td>-1.14</td>\n",
       "      <td>1.821</td>\n",
       "      <td>2.21</td>\n",
       "      <td>0.745</td>\n",
       "      <td>1677.0</td>\n",
       "      <td>33.2</td>\n",
       "      <td>78.573</td>\n",
       "      <td>580000.0</td>\n",
       "      <td>2570000.0</td>\n",
       "      <td>50000.0</td>\n",
       "      <td>5000.0</td>\n",
       "      <td>5000.0</td>\n",
       "      <td>5000.0</td>\n",
       "      <td>5000.0</td>\n",
       "      <td>5000.0</td>\n",
       "    </tr>\n",
       "    <tr>\n",
       "      <th>Algeria</th>\n",
       "      <td>-1.48</td>\n",
       "      <td>-0.74</td>\n",
       "      <td>2.219</td>\n",
       "      <td>2.12</td>\n",
       "      <td>0.664</td>\n",
       "      <td>163812.0</td>\n",
       "      <td>27.6</td>\n",
       "      <td>76.880</td>\n",
       "      <td>60000.0</td>\n",
       "      <td>34730000.0</td>\n",
       "      <td>660000.0</td>\n",
       "      <td>5000.0</td>\n",
       "      <td>5000.0</td>\n",
       "      <td>10000.0</td>\n",
       "      <td>5000.0</td>\n",
       "      <td>5000.0</td>\n",
       "    </tr>\n",
       "    <tr>\n",
       "      <th>Andorra</th>\n",
       "      <td>0.80</td>\n",
       "      <td>1.62</td>\n",
       "      <td>NaN</td>\n",
       "      <td>NaN</td>\n",
       "      <td>0.714</td>\n",
       "      <td>3213.0</td>\n",
       "      <td>NaN</td>\n",
       "      <td>NaN</td>\n",
       "      <td>70000.0</td>\n",
       "      <td>5000.0</td>\n",
       "      <td>5000.0</td>\n",
       "      <td>5000.0</td>\n",
       "      <td>5000.0</td>\n",
       "      <td>5000.0</td>\n",
       "      <td>5000.0</td>\n",
       "      <td>5000.0</td>\n",
       "    </tr>\n",
       "    <tr>\n",
       "      <th>Argentina</th>\n",
       "      <td>-0.66</td>\n",
       "      <td>0.38</td>\n",
       "      <td>1.989</td>\n",
       "      <td>3.14</td>\n",
       "      <td>0.816</td>\n",
       "      <td>455172.0</td>\n",
       "      <td>41.4</td>\n",
       "      <td>76.667</td>\n",
       "      <td>34420000.0</td>\n",
       "      <td>400000.0</td>\n",
       "      <td>4920000.0</td>\n",
       "      <td>5000.0</td>\n",
       "      <td>20000.0</td>\n",
       "      <td>330000.0</td>\n",
       "      <td>120000.0</td>\n",
       "      <td>200000.0</td>\n",
       "    </tr>\n",
       "    <tr>\n",
       "      <th>Armenia</th>\n",
       "      <td>0.55</td>\n",
       "      <td>-1.31</td>\n",
       "      <td>2.294</td>\n",
       "      <td>2.23</td>\n",
       "      <td>0.749</td>\n",
       "      <td>13612.0</td>\n",
       "      <td>34.4</td>\n",
       "      <td>75.087</td>\n",
       "      <td>3050000.0</td>\n",
       "      <td>5000.0</td>\n",
       "      <td>40000.0</td>\n",
       "      <td>5000.0</td>\n",
       "      <td>5000.0</td>\n",
       "      <td>5000.0</td>\n",
       "      <td>5000.0</td>\n",
       "      <td>5000.0</td>\n",
       "    </tr>\n",
       "    <tr>\n",
       "      <th>...</th>\n",
       "      <td>...</td>\n",
       "      <td>...</td>\n",
       "      <td>...</td>\n",
       "      <td>...</td>\n",
       "      <td>...</td>\n",
       "      <td>...</td>\n",
       "      <td>...</td>\n",
       "      <td>...</td>\n",
       "      <td>...</td>\n",
       "      <td>...</td>\n",
       "      <td>...</td>\n",
       "      <td>...</td>\n",
       "      <td>...</td>\n",
       "      <td>...</td>\n",
       "      <td>...</td>\n",
       "      <td>...</td>\n",
       "    </tr>\n",
       "    <tr>\n",
       "      <th>Saint Pierre and Miquelon</th>\n",
       "      <td>NaN</td>\n",
       "      <td>NaN</td>\n",
       "      <td>NaN</td>\n",
       "      <td>NaN</td>\n",
       "      <td>NaN</td>\n",
       "      <td>NaN</td>\n",
       "      <td>NaN</td>\n",
       "      <td>NaN</td>\n",
       "      <td>5000.0</td>\n",
       "      <td>5000.0</td>\n",
       "      <td>5000.0</td>\n",
       "      <td>5000.0</td>\n",
       "      <td>5000.0</td>\n",
       "      <td>5000.0</td>\n",
       "      <td>5000.0</td>\n",
       "      <td>5000.0</td>\n",
       "    </tr>\n",
       "    <tr>\n",
       "      <th>Tokelau</th>\n",
       "      <td>NaN</td>\n",
       "      <td>NaN</td>\n",
       "      <td>NaN</td>\n",
       "      <td>NaN</td>\n",
       "      <td>NaN</td>\n",
       "      <td>NaN</td>\n",
       "      <td>NaN</td>\n",
       "      <td>NaN</td>\n",
       "      <td>5000.0</td>\n",
       "      <td>5000.0</td>\n",
       "      <td>5000.0</td>\n",
       "      <td>5000.0</td>\n",
       "      <td>5000.0</td>\n",
       "      <td>5000.0</td>\n",
       "      <td>5000.0</td>\n",
       "      <td>5000.0</td>\n",
       "    </tr>\n",
       "    <tr>\n",
       "      <th>United States Virgin Islands</th>\n",
       "      <td>NaN</td>\n",
       "      <td>NaN</td>\n",
       "      <td>NaN</td>\n",
       "      <td>NaN</td>\n",
       "      <td>NaN</td>\n",
       "      <td>NaN</td>\n",
       "      <td>NaN</td>\n",
       "      <td>NaN</td>\n",
       "      <td>100000.0</td>\n",
       "      <td>5000.0</td>\n",
       "      <td>5000.0</td>\n",
       "      <td>5000.0</td>\n",
       "      <td>5000.0</td>\n",
       "      <td>5000.0</td>\n",
       "      <td>5000.0</td>\n",
       "      <td>5000.0</td>\n",
       "    </tr>\n",
       "    <tr>\n",
       "      <th>Vatican City</th>\n",
       "      <td>NaN</td>\n",
       "      <td>NaN</td>\n",
       "      <td>NaN</td>\n",
       "      <td>NaN</td>\n",
       "      <td>NaN</td>\n",
       "      <td>NaN</td>\n",
       "      <td>NaN</td>\n",
       "      <td>NaN</td>\n",
       "      <td>5000.0</td>\n",
       "      <td>5000.0</td>\n",
       "      <td>5000.0</td>\n",
       "      <td>5000.0</td>\n",
       "      <td>5000.0</td>\n",
       "      <td>5000.0</td>\n",
       "      <td>5000.0</td>\n",
       "      <td>5000.0</td>\n",
       "    </tr>\n",
       "    <tr>\n",
       "      <th>Western Sahara</th>\n",
       "      <td>NaN</td>\n",
       "      <td>NaN</td>\n",
       "      <td>NaN</td>\n",
       "      <td>NaN</td>\n",
       "      <td>NaN</td>\n",
       "      <td>NaN</td>\n",
       "      <td>NaN</td>\n",
       "      <td>NaN</td>\n",
       "      <td>5000.0</td>\n",
       "      <td>530000.0</td>\n",
       "      <td>5000.0</td>\n",
       "      <td>5000.0</td>\n",
       "      <td>5000.0</td>\n",
       "      <td>5000.0</td>\n",
       "      <td>5000.0</td>\n",
       "      <td>5000.0</td>\n",
       "    </tr>\n",
       "  </tbody>\n",
       "</table>\n",
       "<p>291 rows × 16 columns</p>\n",
       "</div>"
      ],
      "text/plain": [
       "                              tradition_secularism  survival_self-expression  \\\n",
       "country                                                                        \n",
       "Albania                                       0.07                     -1.14   \n",
       "Algeria                                      -1.48                     -0.74   \n",
       "Andorra                                       0.80                      1.62   \n",
       "Argentina                                    -0.66                      0.38   \n",
       "Armenia                                       0.55                     -1.31   \n",
       "...                                            ...                       ...   \n",
       "Saint Pierre and Miquelon                      NaN                       NaN   \n",
       "Tokelau                                        NaN                       NaN   \n",
       "United States Virgin Islands                   NaN                       NaN   \n",
       "Vatican City                                   NaN                       NaN   \n",
       "Western Sahara                                 NaN                       NaN   \n",
       "\n",
       "                              unpeacefulness  eco_footprint  education  \\\n",
       "country                                                                  \n",
       "Albania                                1.821           2.21      0.745   \n",
       "Algeria                                2.219           2.12      0.664   \n",
       "Andorra                                  NaN            NaN      0.714   \n",
       "Argentina                              1.989           3.14      0.816   \n",
       "Armenia                                2.294           2.23      0.749   \n",
       "...                                      ...            ...        ...   \n",
       "Saint Pierre and Miquelon                NaN            NaN        NaN   \n",
       "Tokelau                                  NaN            NaN        NaN   \n",
       "United States Virgin Islands             NaN            NaN        NaN   \n",
       "Vatican City                             NaN            NaN        NaN   \n",
       "Western Sahara                           NaN            NaN        NaN   \n",
       "\n",
       "                              nominal_GDP  inequality  life_expectancy  \\\n",
       "country                                                                  \n",
       "Albania                            1677.0        33.2           78.573   \n",
       "Algeria                          163812.0        27.6           76.880   \n",
       "Andorra                            3213.0         NaN              NaN   \n",
       "Argentina                        455172.0        41.4           76.667   \n",
       "Armenia                           13612.0        34.4           75.087   \n",
       "...                                   ...         ...              ...   \n",
       "Saint Pierre and Miquelon             NaN         NaN              NaN   \n",
       "Tokelau                               NaN         NaN              NaN   \n",
       "United States Virgin Islands          NaN         NaN              NaN   \n",
       "Vatican City                          NaN         NaN              NaN   \n",
       "Western Sahara                        NaN         NaN              NaN   \n",
       "\n",
       "                              religion_christian  religion_muslim  \\\n",
       "country                                                             \n",
       "Albania                                 580000.0        2570000.0   \n",
       "Algeria                                  60000.0       34730000.0   \n",
       "Andorra                                  70000.0           5000.0   \n",
       "Argentina                             34420000.0         400000.0   \n",
       "Armenia                                3050000.0           5000.0   \n",
       "...                                          ...              ...   \n",
       "Saint Pierre and Miquelon                 5000.0           5000.0   \n",
       "Tokelau                                   5000.0           5000.0   \n",
       "United States Virgin Islands            100000.0           5000.0   \n",
       "Vatican City                              5000.0           5000.0   \n",
       "Western Sahara                            5000.0         530000.0   \n",
       "\n",
       "                              religion_unaffiliated  religion_hinduism  \\\n",
       "country                                                                  \n",
       "Albania                                     50000.0             5000.0   \n",
       "Algeria                                    660000.0             5000.0   \n",
       "Andorra                                      5000.0             5000.0   \n",
       "Argentina                                 4920000.0             5000.0   \n",
       "Armenia                                     40000.0             5000.0   \n",
       "...                                             ...                ...   \n",
       "Saint Pierre and Miquelon                    5000.0             5000.0   \n",
       "Tokelau                                      5000.0             5000.0   \n",
       "United States Virgin Islands                 5000.0             5000.0   \n",
       "Vatican City                                 5000.0             5000.0   \n",
       "Western Sahara                               5000.0             5000.0   \n",
       "\n",
       "                              religion_buddhism  religion_folk  \\\n",
       "country                                                          \n",
       "Albania                                  5000.0         5000.0   \n",
       "Algeria                                  5000.0        10000.0   \n",
       "Andorra                                  5000.0         5000.0   \n",
       "Argentina                               20000.0       330000.0   \n",
       "Armenia                                  5000.0         5000.0   \n",
       "...                                         ...            ...   \n",
       "Saint Pierre and Miquelon                5000.0         5000.0   \n",
       "Tokelau                                  5000.0         5000.0   \n",
       "United States Virgin Islands             5000.0         5000.0   \n",
       "Vatican City                             5000.0         5000.0   \n",
       "Western Sahara                           5000.0         5000.0   \n",
       "\n",
       "                              religions_other  religion_judaism  \n",
       "country                                                          \n",
       "Albania                                5000.0            5000.0  \n",
       "Algeria                                5000.0            5000.0  \n",
       "Andorra                                5000.0            5000.0  \n",
       "Argentina                            120000.0          200000.0  \n",
       "Armenia                                5000.0            5000.0  \n",
       "...                                       ...               ...  \n",
       "Saint Pierre and Miquelon              5000.0            5000.0  \n",
       "Tokelau                                5000.0            5000.0  \n",
       "United States Virgin Islands           5000.0            5000.0  \n",
       "Vatican City                           5000.0            5000.0  \n",
       "Western Sahara                         5000.0            5000.0  \n",
       "\n",
       "[291 rows x 16 columns]"
      ]
     },
     "execution_count": 38,
     "metadata": {},
     "output_type": "execute_result"
    }
   ],
   "source": [
    "data"
   ]
  },
  {
   "cell_type": "code",
   "execution_count": 39,
   "id": "b696d66a",
   "metadata": {},
   "outputs": [
    {
     "name": "stdout",
     "output_type": "stream",
     "text": [
      "<class 'pandas.core.frame.DataFrame'>\n",
      "Index: 291 entries, Albania to Western Sahara\n",
      "Data columns (total 16 columns):\n",
      " #   Column                    Non-Null Count  Dtype  \n",
      "---  ------                    --------------  -----  \n",
      " 0   tradition_secularism      99 non-null     float64\n",
      " 1   survival_self-expression  99 non-null     float64\n",
      " 2   unpeacefulness            163 non-null    float64\n",
      " 3   eco_footprint             187 non-null    float64\n",
      " 4   education                 189 non-null    float64\n",
      " 5   nominal_GDP               196 non-null    float64\n",
      " 6   inequality                165 non-null    float64\n",
      " 7   life_expectancy           241 non-null    float64\n",
      " 8   religion_christian        228 non-null    float64\n",
      " 9   religion_muslim           228 non-null    float64\n",
      " 10  religion_unaffiliated     228 non-null    float64\n",
      " 11  religion_hinduism         228 non-null    float64\n",
      " 12  religion_buddhism         228 non-null    float64\n",
      " 13  religion_folk             228 non-null    float64\n",
      " 14  religions_other           228 non-null    float64\n",
      " 15  religion_judaism          228 non-null    float64\n",
      "dtypes: float64(16)\n",
      "memory usage: 38.6+ KB\n"
     ]
    }
   ],
   "source": [
    "data.info()"
   ]
  },
  {
   "cell_type": "code",
   "execution_count": 40,
   "id": "87e78af3",
   "metadata": {},
   "outputs": [],
   "source": [
    "dataredux=data[data['tradition_secularism'].notna()]"
   ]
  },
  {
   "cell_type": "code",
   "execution_count": 41,
   "id": "0dc43d84",
   "metadata": {},
   "outputs": [],
   "source": [
    "counter=0\n",
    "for cell in dataredux['tradition_secularism']:\n",
    "    if str(cell) == 'NaN':\n",
    "        print (dataredux.iloc[[counter]])\n",
    "    counter+=1"
   ]
  },
  {
   "cell_type": "code",
   "execution_count": 42,
   "id": "4e05938f",
   "metadata": {},
   "outputs": [
    {
     "name": "stdout",
     "output_type": "stream",
     "text": [
      "<class 'pandas.core.frame.DataFrame'>\n",
      "Index: 99 entries, Albania to Germany\n",
      "Data columns (total 16 columns):\n",
      " #   Column                    Non-Null Count  Dtype  \n",
      "---  ------                    --------------  -----  \n",
      " 0   tradition_secularism      99 non-null     float64\n",
      " 1   survival_self-expression  99 non-null     float64\n",
      " 2   unpeacefulness            89 non-null     float64\n",
      " 3   eco_footprint             89 non-null     float64\n",
      " 4   education                 93 non-null     float64\n",
      " 5   nominal_GDP               94 non-null     float64\n",
      " 6   inequality                90 non-null     float64\n",
      " 7   life_expectancy           92 non-null     float64\n",
      " 8   religion_christian        94 non-null     float64\n",
      " 9   religion_muslim           94 non-null     float64\n",
      " 10  religion_unaffiliated     94 non-null     float64\n",
      " 11  religion_hinduism         94 non-null     float64\n",
      " 12  religion_buddhism         94 non-null     float64\n",
      " 13  religion_folk             94 non-null     float64\n",
      " 14  religions_other           94 non-null     float64\n",
      " 15  religion_judaism          94 non-null     float64\n",
      "dtypes: float64(16)\n",
      "memory usage: 13.1+ KB\n"
     ]
    }
   ],
   "source": [
    "dataredux.info()"
   ]
  },
  {
   "cell_type": "code",
   "execution_count": 43,
   "id": "046f796f",
   "metadata": {
    "scrolled": true
   },
   "outputs": [
    {
     "data": {
      "text/html": [
       "<div>\n",
       "<style scoped>\n",
       "    .dataframe tbody tr th:only-of-type {\n",
       "        vertical-align: middle;\n",
       "    }\n",
       "\n",
       "    .dataframe tbody tr th {\n",
       "        vertical-align: top;\n",
       "    }\n",
       "\n",
       "    .dataframe thead th {\n",
       "        text-align: right;\n",
       "    }\n",
       "</style>\n",
       "<table border=\"1\" class=\"dataframe\">\n",
       "  <thead>\n",
       "    <tr style=\"text-align: right;\">\n",
       "      <th></th>\n",
       "      <th>tradition_secularism</th>\n",
       "      <th>survival_self-expression</th>\n",
       "      <th>unpeacefulness</th>\n",
       "      <th>eco_footprint</th>\n",
       "      <th>education</th>\n",
       "      <th>nominal_GDP</th>\n",
       "      <th>inequality</th>\n",
       "      <th>life_expectancy</th>\n",
       "      <th>religion_christian</th>\n",
       "      <th>religion_muslim</th>\n",
       "      <th>religion_unaffiliated</th>\n",
       "      <th>religion_hinduism</th>\n",
       "      <th>religion_buddhism</th>\n",
       "      <th>religion_folk</th>\n",
       "      <th>religions_other</th>\n",
       "      <th>religion_judaism</th>\n",
       "    </tr>\n",
       "    <tr>\n",
       "      <th>country</th>\n",
       "      <th></th>\n",
       "      <th></th>\n",
       "      <th></th>\n",
       "      <th></th>\n",
       "      <th></th>\n",
       "      <th></th>\n",
       "      <th></th>\n",
       "      <th></th>\n",
       "      <th></th>\n",
       "      <th></th>\n",
       "      <th></th>\n",
       "      <th></th>\n",
       "      <th></th>\n",
       "      <th></th>\n",
       "      <th></th>\n",
       "      <th></th>\n",
       "    </tr>\n",
       "  </thead>\n",
       "  <tbody>\n",
       "    <tr>\n",
       "      <th>Albania</th>\n",
       "      <td>0.070</td>\n",
       "      <td>-1.14</td>\n",
       "      <td>1.821</td>\n",
       "      <td>2.21</td>\n",
       "      <td>0.745</td>\n",
       "      <td>1677.0</td>\n",
       "      <td>33.2</td>\n",
       "      <td>78.573000</td>\n",
       "      <td>580000.0</td>\n",
       "      <td>2570000.0</td>\n",
       "      <td>50000.0</td>\n",
       "      <td>5000.0</td>\n",
       "      <td>5000.0</td>\n",
       "      <td>5000.0</td>\n",
       "      <td>5000.0</td>\n",
       "      <td>5000.0</td>\n",
       "    </tr>\n",
       "    <tr>\n",
       "      <th>Algeria</th>\n",
       "      <td>-1.480</td>\n",
       "      <td>-0.74</td>\n",
       "      <td>2.219</td>\n",
       "      <td>2.12</td>\n",
       "      <td>0.664</td>\n",
       "      <td>163812.0</td>\n",
       "      <td>27.6</td>\n",
       "      <td>76.880000</td>\n",
       "      <td>60000.0</td>\n",
       "      <td>34730000.0</td>\n",
       "      <td>660000.0</td>\n",
       "      <td>5000.0</td>\n",
       "      <td>5000.0</td>\n",
       "      <td>10000.0</td>\n",
       "      <td>5000.0</td>\n",
       "      <td>5000.0</td>\n",
       "    </tr>\n",
       "    <tr>\n",
       "      <th>Andorra</th>\n",
       "      <td>0.800</td>\n",
       "      <td>1.62</td>\n",
       "      <td>NaN</td>\n",
       "      <td>NaN</td>\n",
       "      <td>0.714</td>\n",
       "      <td>3213.0</td>\n",
       "      <td>NaN</td>\n",
       "      <td>NaN</td>\n",
       "      <td>70000.0</td>\n",
       "      <td>5000.0</td>\n",
       "      <td>5000.0</td>\n",
       "      <td>5000.0</td>\n",
       "      <td>5000.0</td>\n",
       "      <td>5000.0</td>\n",
       "      <td>5000.0</td>\n",
       "      <td>5000.0</td>\n",
       "    </tr>\n",
       "    <tr>\n",
       "      <th>Argentina</th>\n",
       "      <td>-0.660</td>\n",
       "      <td>0.38</td>\n",
       "      <td>1.989</td>\n",
       "      <td>3.14</td>\n",
       "      <td>0.816</td>\n",
       "      <td>455172.0</td>\n",
       "      <td>41.4</td>\n",
       "      <td>76.667000</td>\n",
       "      <td>34420000.0</td>\n",
       "      <td>400000.0</td>\n",
       "      <td>4920000.0</td>\n",
       "      <td>5000.0</td>\n",
       "      <td>20000.0</td>\n",
       "      <td>330000.0</td>\n",
       "      <td>120000.0</td>\n",
       "      <td>200000.0</td>\n",
       "    </tr>\n",
       "    <tr>\n",
       "      <th>Armenia</th>\n",
       "      <td>0.550</td>\n",
       "      <td>-1.31</td>\n",
       "      <td>2.294</td>\n",
       "      <td>2.23</td>\n",
       "      <td>0.749</td>\n",
       "      <td>13612.0</td>\n",
       "      <td>34.4</td>\n",
       "      <td>75.087000</td>\n",
       "      <td>3050000.0</td>\n",
       "      <td>5000.0</td>\n",
       "      <td>40000.0</td>\n",
       "      <td>5000.0</td>\n",
       "      <td>5000.0</td>\n",
       "      <td>5000.0</td>\n",
       "      <td>5000.0</td>\n",
       "      <td>5000.0</td>\n",
       "    </tr>\n",
       "    <tr>\n",
       "      <th>...</th>\n",
       "      <td>...</td>\n",
       "      <td>...</td>\n",
       "      <td>...</td>\n",
       "      <td>...</td>\n",
       "      <td>...</td>\n",
       "      <td>...</td>\n",
       "      <td>...</td>\n",
       "      <td>...</td>\n",
       "      <td>...</td>\n",
       "      <td>...</td>\n",
       "      <td>...</td>\n",
       "      <td>...</td>\n",
       "      <td>...</td>\n",
       "      <td>...</td>\n",
       "      <td>...</td>\n",
       "      <td>...</td>\n",
       "    </tr>\n",
       "    <tr>\n",
       "      <th>Venezuela</th>\n",
       "      <td>-1.600</td>\n",
       "      <td>0.43</td>\n",
       "      <td>2.671</td>\n",
       "      <td>3.57</td>\n",
       "      <td>0.741</td>\n",
       "      <td>44893.0</td>\n",
       "      <td>39.0</td>\n",
       "      <td>72.064000</td>\n",
       "      <td>25890000.0</td>\n",
       "      <td>90000.0</td>\n",
       "      <td>2900000.0</td>\n",
       "      <td>5000.0</td>\n",
       "      <td>5000.0</td>\n",
       "      <td>60000.0</td>\n",
       "      <td>20000.0</td>\n",
       "      <td>5000.0</td>\n",
       "    </tr>\n",
       "    <tr>\n",
       "      <th>Vietnam</th>\n",
       "      <td>-0.300</td>\n",
       "      <td>-0.26</td>\n",
       "      <td>1.877</td>\n",
       "      <td>1.65</td>\n",
       "      <td>0.626</td>\n",
       "      <td>368002.0</td>\n",
       "      <td>35.7</td>\n",
       "      <td>75.400000</td>\n",
       "      <td>7170000.0</td>\n",
       "      <td>160000.0</td>\n",
       "      <td>26040000.0</td>\n",
       "      <td>5000.0</td>\n",
       "      <td>14380000.0</td>\n",
       "      <td>39750000.0</td>\n",
       "      <td>350000.0</td>\n",
       "      <td>5000.0</td>\n",
       "    </tr>\n",
       "    <tr>\n",
       "      <th>Zambia</th>\n",
       "      <td>-0.770</td>\n",
       "      <td>-0.62</td>\n",
       "      <td>1.805</td>\n",
       "      <td>0.99</td>\n",
       "      <td>0.580</td>\n",
       "      <td>21699.0</td>\n",
       "      <td>57.1</td>\n",
       "      <td>63.886000</td>\n",
       "      <td>12770000.0</td>\n",
       "      <td>70000.0</td>\n",
       "      <td>70000.0</td>\n",
       "      <td>10000.0</td>\n",
       "      <td>5000.0</td>\n",
       "      <td>40000.0</td>\n",
       "      <td>120000.0</td>\n",
       "      <td>5000.0</td>\n",
       "    </tr>\n",
       "    <tr>\n",
       "      <th>Zimbabwe</th>\n",
       "      <td>-1.500</td>\n",
       "      <td>-1.36</td>\n",
       "      <td>2.463</td>\n",
       "      <td>1.37</td>\n",
       "      <td>0.558</td>\n",
       "      <td>25791.0</td>\n",
       "      <td>44.3</td>\n",
       "      <td>61.490000</td>\n",
       "      <td>10930000.0</td>\n",
       "      <td>110000.0</td>\n",
       "      <td>990000.0</td>\n",
       "      <td>5000.0</td>\n",
       "      <td>5000.0</td>\n",
       "      <td>480000.0</td>\n",
       "      <td>40000.0</td>\n",
       "      <td>10000.0</td>\n",
       "    </tr>\n",
       "    <tr>\n",
       "      <th>Germany</th>\n",
       "      <td>1.385</td>\n",
       "      <td>0.50</td>\n",
       "      <td>1.547</td>\n",
       "      <td>5.30</td>\n",
       "      <td>0.940</td>\n",
       "      <td>4230172.0</td>\n",
       "      <td>31.9</td>\n",
       "      <td>80.941463</td>\n",
       "      <td>56540000.0</td>\n",
       "      <td>4760000.0</td>\n",
       "      <td>20350000.0</td>\n",
       "      <td>80000.0</td>\n",
       "      <td>210000.0</td>\n",
       "      <td>40000.0</td>\n",
       "      <td>100000.0</td>\n",
       "      <td>230000.0</td>\n",
       "    </tr>\n",
       "  </tbody>\n",
       "</table>\n",
       "<p>99 rows × 16 columns</p>\n",
       "</div>"
      ],
      "text/plain": [
       "           tradition_secularism  survival_self-expression  unpeacefulness  \\\n",
       "country                                                                     \n",
       "Albania                   0.070                     -1.14           1.821   \n",
       "Algeria                  -1.480                     -0.74           2.219   \n",
       "Andorra                   0.800                      1.62             NaN   \n",
       "Argentina                -0.660                      0.38           1.989   \n",
       "Armenia                   0.550                     -1.31           2.294   \n",
       "...                         ...                       ...             ...   \n",
       "Venezuela                -1.600                      0.43           2.671   \n",
       "Vietnam                  -0.300                     -0.26           1.877   \n",
       "Zambia                   -0.770                     -0.62           1.805   \n",
       "Zimbabwe                 -1.500                     -1.36           2.463   \n",
       "Germany                   1.385                      0.50           1.547   \n",
       "\n",
       "           eco_footprint  education  nominal_GDP  inequality  life_expectancy  \\\n",
       "country                                                                         \n",
       "Albania             2.21      0.745       1677.0        33.2        78.573000   \n",
       "Algeria             2.12      0.664     163812.0        27.6        76.880000   \n",
       "Andorra              NaN      0.714       3213.0         NaN              NaN   \n",
       "Argentina           3.14      0.816     455172.0        41.4        76.667000   \n",
       "Armenia             2.23      0.749      13612.0        34.4        75.087000   \n",
       "...                  ...        ...          ...         ...              ...   \n",
       "Venezuela           3.57      0.741      44893.0        39.0        72.064000   \n",
       "Vietnam             1.65      0.626     368002.0        35.7        75.400000   \n",
       "Zambia              0.99      0.580      21699.0        57.1        63.886000   \n",
       "Zimbabwe            1.37      0.558      25791.0        44.3        61.490000   \n",
       "Germany             5.30      0.940    4230172.0        31.9        80.941463   \n",
       "\n",
       "           religion_christian  religion_muslim  religion_unaffiliated  \\\n",
       "country                                                                 \n",
       "Albania              580000.0        2570000.0                50000.0   \n",
       "Algeria               60000.0       34730000.0               660000.0   \n",
       "Andorra               70000.0           5000.0                 5000.0   \n",
       "Argentina          34420000.0         400000.0              4920000.0   \n",
       "Armenia             3050000.0           5000.0                40000.0   \n",
       "...                       ...              ...                    ...   \n",
       "Venezuela          25890000.0          90000.0              2900000.0   \n",
       "Vietnam             7170000.0         160000.0             26040000.0   \n",
       "Zambia             12770000.0          70000.0                70000.0   \n",
       "Zimbabwe           10930000.0         110000.0               990000.0   \n",
       "Germany            56540000.0        4760000.0             20350000.0   \n",
       "\n",
       "           religion_hinduism  religion_buddhism  religion_folk  \\\n",
       "country                                                          \n",
       "Albania               5000.0             5000.0         5000.0   \n",
       "Algeria               5000.0             5000.0        10000.0   \n",
       "Andorra               5000.0             5000.0         5000.0   \n",
       "Argentina             5000.0            20000.0       330000.0   \n",
       "Armenia               5000.0             5000.0         5000.0   \n",
       "...                      ...                ...            ...   \n",
       "Venezuela             5000.0             5000.0        60000.0   \n",
       "Vietnam               5000.0         14380000.0     39750000.0   \n",
       "Zambia               10000.0             5000.0        40000.0   \n",
       "Zimbabwe              5000.0             5000.0       480000.0   \n",
       "Germany              80000.0           210000.0        40000.0   \n",
       "\n",
       "           religions_other  religion_judaism  \n",
       "country                                       \n",
       "Albania             5000.0            5000.0  \n",
       "Algeria             5000.0            5000.0  \n",
       "Andorra             5000.0            5000.0  \n",
       "Argentina         120000.0          200000.0  \n",
       "Armenia             5000.0            5000.0  \n",
       "...                    ...               ...  \n",
       "Venezuela          20000.0            5000.0  \n",
       "Vietnam           350000.0            5000.0  \n",
       "Zambia            120000.0            5000.0  \n",
       "Zimbabwe           40000.0           10000.0  \n",
       "Germany           100000.0          230000.0  \n",
       "\n",
       "[99 rows x 16 columns]"
      ]
     },
     "execution_count": 43,
     "metadata": {},
     "output_type": "execute_result"
    }
   ],
   "source": [
    "dataredux"
   ]
  },
  {
   "cell_type": "code",
   "execution_count": 44,
   "id": "9972d3ad",
   "metadata": {},
   "outputs": [
    {
     "name": "stderr",
     "output_type": "stream",
     "text": [
      "C:\\Users\\x\\anaconda3\\lib\\site-packages\\pandas\\util\\_decorators.py:311: SettingWithCopyWarning: \n",
      "A value is trying to be set on a copy of a slice from a DataFrame\n",
      "\n",
      "See the caveats in the documentation: https://pandas.pydata.org/pandas-docs/stable/user_guide/indexing.html#returning-a-view-versus-a-copy\n",
      "  return func(*args, **kwargs)\n"
     ]
    }
   ],
   "source": [
    "for column in dataredux:\n",
    "    dataredux.dropna(subset=[column], how='all', inplace=True)"
   ]
  },
  {
   "cell_type": "code",
   "execution_count": 45,
   "id": "707d97f8",
   "metadata": {},
   "outputs": [
    {
     "name": "stdout",
     "output_type": "stream",
     "text": [
      "<class 'pandas.core.frame.DataFrame'>\n",
      "Index: 85 entries, Albania to Germany\n",
      "Data columns (total 16 columns):\n",
      " #   Column                    Non-Null Count  Dtype  \n",
      "---  ------                    --------------  -----  \n",
      " 0   tradition_secularism      85 non-null     float64\n",
      " 1   survival_self-expression  85 non-null     float64\n",
      " 2   unpeacefulness            85 non-null     float64\n",
      " 3   eco_footprint             85 non-null     float64\n",
      " 4   education                 85 non-null     float64\n",
      " 5   nominal_GDP               85 non-null     float64\n",
      " 6   inequality                85 non-null     float64\n",
      " 7   life_expectancy           85 non-null     float64\n",
      " 8   religion_christian        85 non-null     float64\n",
      " 9   religion_muslim           85 non-null     float64\n",
      " 10  religion_unaffiliated     85 non-null     float64\n",
      " 11  religion_hinduism         85 non-null     float64\n",
      " 12  religion_buddhism         85 non-null     float64\n",
      " 13  religion_folk             85 non-null     float64\n",
      " 14  religions_other           85 non-null     float64\n",
      " 15  religion_judaism          85 non-null     float64\n",
      "dtypes: float64(16)\n",
      "memory usage: 11.3+ KB\n"
     ]
    }
   ],
   "source": [
    "dataredux.info()"
   ]
  },
  {
   "cell_type": "markdown",
   "id": "57358e1e",
   "metadata": {},
   "source": [
    "# Now that we have a dataframe, let's make some clusters"
   ]
  },
  {
   "cell_type": "markdown",
   "id": "6965cae9",
   "metadata": {},
   "source": [
    "## First we will try doing them scaling the data"
   ]
  },
  {
   "cell_type": "code",
   "execution_count": 46,
   "id": "c1ff7020",
   "metadata": {},
   "outputs": [],
   "source": [
    "scaler=StandardScaler()"
   ]
  },
  {
   "cell_type": "code",
   "execution_count": 47,
   "id": "04dfc9ba",
   "metadata": {},
   "outputs": [
    {
     "data": {
      "text/plain": [
       "StandardScaler()"
      ]
     },
     "execution_count": 47,
     "metadata": {},
     "output_type": "execute_result"
    }
   ],
   "source": [
    "scaler.fit(dataredux)"
   ]
  },
  {
   "cell_type": "code",
   "execution_count": 48,
   "id": "4bda4b32",
   "metadata": {},
   "outputs": [],
   "source": [
    "array_scaled_redux=scaler.transform(dataredux)"
   ]
  },
  {
   "cell_type": "code",
   "execution_count": 49,
   "id": "11f22e37",
   "metadata": {},
   "outputs": [],
   "source": [
    "scaled_redux=pd.DataFrame(array_scaled_redux,columns=[\"tradition_secularism\", \"survival_self-expression\", \"unpeacefulness\", \"eco_footprint\", \"education\", \"nominal_GDP\", \"inequality\", \"life_expectancy\", \"religion_christian\", \"religion_muslim\", \"religion_unaffiliated\", \"religion_hinduism\", \"religion_buddhism\", \"religion_folk\", \"religions_other\", \"religion_judaism\"])"
   ]
  },
  {
   "cell_type": "code",
   "execution_count": 50,
   "id": "d93e3a99",
   "metadata": {},
   "outputs": [
    {
     "data": {
      "image/png": "[encoded data removed]",
      "text/plain": [
       "<Figure size 1080x1080 with 16 Axes>"
      ]
     },
     "metadata": {
      "needs_background": "light"
     },
     "output_type": "display_data"
    }
   ],
   "source": [
    "# let's see if the data has changed while scaling\n",
    "dataredux.hist(bins=15,figsize=(15,15));"
   ]
  },
  {
   "cell_type": "code",
   "execution_count": 51,
   "id": "bea78124",
   "metadata": {},
   "outputs": [
    {
     "data": {
      "image/png": "[encoded data removed]",
      "text/plain": [
       "<Figure size 1080x1080 with 16 Axes>"
      ]
     },
     "metadata": {
      "needs_background": "light"
     },
     "output_type": "display_data"
    }
   ],
   "source": [
    "scaled_redux.hist(bins=15,figsize=(15,15));"
   ]
  },
  {
   "cell_type": "code",
   "execution_count": 52,
   "id": "85cdc313",
   "metadata": {},
   "outputs": [],
   "source": [
    "# they are unchanged, so we will continue\n",
    "K_Means=KMeans(n_clusters=10,random_state=5)"
   ]
  },
  {
   "cell_type": "code",
   "execution_count": 53,
   "id": "4e07ac4e",
   "metadata": {},
   "outputs": [],
   "source": [
    "clusters=K_Means.fit(scaled_redux)"
   ]
  },
  {
   "cell_type": "code",
   "execution_count": 54,
   "id": "1bab61e7",
   "metadata": {},
   "outputs": [],
   "source": [
    "scaled_redux['cluster']=clusters.labels_"
   ]
  },
  {
   "cell_type": "code",
   "execution_count": 55,
   "id": "c9a33d1a",
   "metadata": {},
   "outputs": [
    {
     "data": {
      "text/plain": [
       "1    22\n",
       "4    16\n",
       "5    15\n",
       "0    14\n",
       "9    11\n",
       "7     3\n",
       "2     1\n",
       "3     1\n",
       "8     1\n",
       "6     1\n",
       "Name: cluster, dtype: int64"
      ]
     },
     "execution_count": 55,
     "metadata": {},
     "output_type": "execute_result"
    }
   ],
   "source": [
    "scaled_redux['cluster'].value_counts()"
   ]
  },
  {
   "cell_type": "code",
   "execution_count": 56,
   "id": "50d5aa1e",
   "metadata": {},
   "outputs": [],
   "source": [
    "scaled_redux.index=dataredux.index"
   ]
  },
  {
   "cell_type": "code",
   "execution_count": 57,
   "id": "e6f226da",
   "metadata": {},
   "outputs": [
    {
     "data": {
      "text/html": [
       "<div>\n",
       "<style scoped>\n",
       "    .dataframe tbody tr th:only-of-type {\n",
       "        vertical-align: middle;\n",
       "    }\n",
       "\n",
       "    .dataframe tbody tr th {\n",
       "        vertical-align: top;\n",
       "    }\n",
       "\n",
       "    .dataframe thead th {\n",
       "        text-align: right;\n",
       "    }\n",
       "</style>\n",
       "<table border=\"1\" class=\"dataframe\">\n",
       "  <thead>\n",
       "    <tr style=\"text-align: right;\">\n",
       "      <th></th>\n",
       "      <th>tradition_secularism</th>\n",
       "      <th>survival_self-expression</th>\n",
       "      <th>unpeacefulness</th>\n",
       "      <th>eco_footprint</th>\n",
       "      <th>education</th>\n",
       "      <th>nominal_GDP</th>\n",
       "      <th>inequality</th>\n",
       "      <th>life_expectancy</th>\n",
       "      <th>religion_christian</th>\n",
       "      <th>religion_muslim</th>\n",
       "      <th>religion_unaffiliated</th>\n",
       "      <th>religion_hinduism</th>\n",
       "      <th>religion_buddhism</th>\n",
       "      <th>religion_folk</th>\n",
       "      <th>religions_other</th>\n",
       "      <th>religion_judaism</th>\n",
       "      <th>cluster</th>\n",
       "    </tr>\n",
       "    <tr>\n",
       "      <th>country</th>\n",
       "      <th></th>\n",
       "      <th></th>\n",
       "      <th></th>\n",
       "      <th></th>\n",
       "      <th></th>\n",
       "      <th></th>\n",
       "      <th></th>\n",
       "      <th></th>\n",
       "      <th></th>\n",
       "      <th></th>\n",
       "      <th></th>\n",
       "      <th></th>\n",
       "      <th></th>\n",
       "      <th></th>\n",
       "      <th></th>\n",
       "      <th></th>\n",
       "      <th></th>\n",
       "    </tr>\n",
       "  </thead>\n",
       "  <tbody>\n",
       "    <tr>\n",
       "      <th>Albania</th>\n",
       "      <td>0.372103</td>\n",
       "      <td>-1.087243</td>\n",
       "      <td>-0.377554</td>\n",
       "      <td>-0.682703</td>\n",
       "      <td>0.098970</td>\n",
       "      <td>-0.325817</td>\n",
       "      <td>-0.437767</td>\n",
       "      <td>0.478484</td>\n",
       "      <td>-0.544477</td>\n",
       "      <td>-0.326891</td>\n",
       "      <td>-0.163087</td>\n",
       "      <td>-0.112069</td>\n",
       "      <td>-0.172914</td>\n",
       "      <td>-0.133820</td>\n",
       "      <td>-0.179213</td>\n",
       "      <td>-0.181861</td>\n",
       "      <td>1</td>\n",
       "    </tr>\n",
       "    <tr>\n",
       "      <th>Algeria</th>\n",
       "      <td>-1.188444</td>\n",
       "      <td>-0.685130</td>\n",
       "      <td>0.434697</td>\n",
       "      <td>-0.726698</td>\n",
       "      <td>-0.422782</td>\n",
       "      <td>-0.273550</td>\n",
       "      <td>-1.227075</td>\n",
       "      <td>0.208962</td>\n",
       "      <td>-0.558349</td>\n",
       "      <td>0.495707</td>\n",
       "      <td>-0.155043</td>\n",
       "      <td>-0.112069</td>\n",
       "      <td>-0.172914</td>\n",
       "      <td>-0.133664</td>\n",
       "      <td>-0.179213</td>\n",
       "      <td>-0.181861</td>\n",
       "      <td>1</td>\n",
       "    </tr>\n",
       "    <tr>\n",
       "      <th>Argentina</th>\n",
       "      <td>-0.362864</td>\n",
       "      <td>0.440787</td>\n",
       "      <td>-0.034694</td>\n",
       "      <td>-0.228085</td>\n",
       "      <td>0.556308</td>\n",
       "      <td>-0.179626</td>\n",
       "      <td>0.718005</td>\n",
       "      <td>0.175052</td>\n",
       "      <td>0.358287</td>\n",
       "      <td>-0.382395</td>\n",
       "      <td>-0.098868</td>\n",
       "      <td>-0.112069</td>\n",
       "      <td>-0.172368</td>\n",
       "      <td>-0.123645</td>\n",
       "      <td>-0.142918</td>\n",
       "      <td>0.046326</td>\n",
       "      <td>0</td>\n",
       "    </tr>\n",
       "    <tr>\n",
       "      <th>Armenia</th>\n",
       "      <td>0.855369</td>\n",
       "      <td>-1.258142</td>\n",
       "      <td>0.587760</td>\n",
       "      <td>-0.672926</td>\n",
       "      <td>0.124736</td>\n",
       "      <td>-0.321970</td>\n",
       "      <td>-0.268630</td>\n",
       "      <td>-0.076481</td>\n",
       "      <td>-0.478583</td>\n",
       "      <td>-0.392499</td>\n",
       "      <td>-0.163219</td>\n",
       "      <td>-0.112069</td>\n",
       "      <td>-0.172914</td>\n",
       "      <td>-0.133820</td>\n",
       "      <td>-0.179213</td>\n",
       "      <td>-0.181861</td>\n",
       "      <td>1</td>\n",
       "    </tr>\n",
       "    <tr>\n",
       "      <th>Australia</th>\n",
       "      <td>0.513056</td>\n",
       "      <td>1.818025</td>\n",
       "      <td>-1.197969</td>\n",
       "      <td>2.788035</td>\n",
       "      <td>1.284185</td>\n",
       "      <td>0.192832</td>\n",
       "      <td>-0.268630</td>\n",
       "      <td>1.167336</td>\n",
       "      <td>-0.160322</td>\n",
       "      <td>-0.378815</td>\n",
       "      <td>-0.092670</td>\n",
       "      <td>-0.109163</td>\n",
       "      <td>-0.151292</td>\n",
       "      <td>-0.129281</td>\n",
       "      <td>-0.123981</td>\n",
       "      <td>-0.058991</td>\n",
       "      <td>5</td>\n",
       "    </tr>\n",
       "    <tr>\n",
       "      <th>...</th>\n",
       "      <td>...</td>\n",
       "      <td>...</td>\n",
       "      <td>...</td>\n",
       "      <td>...</td>\n",
       "      <td>...</td>\n",
       "      <td>...</td>\n",
       "      <td>...</td>\n",
       "      <td>...</td>\n",
       "      <td>...</td>\n",
       "      <td>...</td>\n",
       "      <td>...</td>\n",
       "      <td>...</td>\n",
       "      <td>...</td>\n",
       "      <td>...</td>\n",
       "      <td>...</td>\n",
       "      <td>...</td>\n",
       "      <td>...</td>\n",
       "    </tr>\n",
       "    <tr>\n",
       "      <th>Venezuela</th>\n",
       "      <td>-1.309261</td>\n",
       "      <td>0.491051</td>\n",
       "      <td>1.357153</td>\n",
       "      <td>-0.017886</td>\n",
       "      <td>0.073204</td>\n",
       "      <td>-0.311886</td>\n",
       "      <td>0.379730</td>\n",
       "      <td>-0.557737</td>\n",
       "      <td>0.130729</td>\n",
       "      <td>-0.390325</td>\n",
       "      <td>-0.125505</td>\n",
       "      <td>-0.112069</td>\n",
       "      <td>-0.172914</td>\n",
       "      <td>-0.132098</td>\n",
       "      <td>-0.174479</td>\n",
       "      <td>-0.181861</td>\n",
       "      <td>4</td>\n",
       "    </tr>\n",
       "    <tr>\n",
       "      <th>Vietnam</th>\n",
       "      <td>-0.000415</td>\n",
       "      <td>-0.202594</td>\n",
       "      <td>-0.263267</td>\n",
       "      <td>-0.956451</td>\n",
       "      <td>-0.667555</td>\n",
       "      <td>-0.207726</td>\n",
       "      <td>-0.085398</td>\n",
       "      <td>-0.026652</td>\n",
       "      <td>-0.368672</td>\n",
       "      <td>-0.388534</td>\n",
       "      <td>0.179634</td>\n",
       "      <td>-0.112069</td>\n",
       "      <td>0.349452</td>\n",
       "      <td>1.110471</td>\n",
       "      <td>-0.070326</td>\n",
       "      <td>-0.181861</td>\n",
       "      <td>1</td>\n",
       "    </tr>\n",
       "    <tr>\n",
       "      <th>Zambia</th>\n",
       "      <td>-0.473613</td>\n",
       "      <td>-0.564496</td>\n",
       "      <td>-0.410207</td>\n",
       "      <td>-1.279083</td>\n",
       "      <td>-0.963858</td>\n",
       "      <td>-0.319363</td>\n",
       "      <td>2.930885</td>\n",
       "      <td>-1.859661</td>\n",
       "      <td>-0.219279</td>\n",
       "      <td>-0.390836</td>\n",
       "      <td>-0.162823</td>\n",
       "      <td>-0.112021</td>\n",
       "      <td>-0.172914</td>\n",
       "      <td>-0.132724</td>\n",
       "      <td>-0.142918</td>\n",
       "      <td>-0.181861</td>\n",
       "      <td>4</td>\n",
       "    </tr>\n",
       "    <tr>\n",
       "      <th>Zimbabwe</th>\n",
       "      <td>-1.208580</td>\n",
       "      <td>-1.308406</td>\n",
       "      <td>0.932660</td>\n",
       "      <td>-1.093325</td>\n",
       "      <td>-1.105569</td>\n",
       "      <td>-0.318044</td>\n",
       "      <td>1.126753</td>\n",
       "      <td>-2.241100</td>\n",
       "      <td>-0.268365</td>\n",
       "      <td>-0.389813</td>\n",
       "      <td>-0.150691</td>\n",
       "      <td>-0.112069</td>\n",
       "      <td>-0.172914</td>\n",
       "      <td>-0.118949</td>\n",
       "      <td>-0.168167</td>\n",
       "      <td>-0.176010</td>\n",
       "      <td>9</td>\n",
       "    </tr>\n",
       "    <tr>\n",
       "      <th>Germany</th>\n",
       "      <td>1.696051</td>\n",
       "      <td>0.561421</td>\n",
       "      <td>-0.936742</td>\n",
       "      <td>0.827801</td>\n",
       "      <td>1.355040</td>\n",
       "      <td>1.037308</td>\n",
       "      <td>-0.620999</td>\n",
       "      <td>0.855540</td>\n",
       "      <td>0.948392</td>\n",
       "      <td>-0.270874</td>\n",
       "      <td>0.104602</td>\n",
       "      <td>-0.111354</td>\n",
       "      <td>-0.165464</td>\n",
       "      <td>-0.132724</td>\n",
       "      <td>-0.149230</td>\n",
       "      <td>0.081431</td>\n",
       "      <td>5</td>\n",
       "    </tr>\n",
       "  </tbody>\n",
       "</table>\n",
       "<p>85 rows × 17 columns</p>\n",
       "</div>"
      ],
      "text/plain": [
       "           tradition_secularism  survival_self-expression  unpeacefulness  \\\n",
       "country                                                                     \n",
       "Albania                0.372103                 -1.087243       -0.377554   \n",
       "Algeria               -1.188444                 -0.685130        0.434697   \n",
       "Argentina             -0.362864                  0.440787       -0.034694   \n",
       "Armenia                0.855369                 -1.258142        0.587760   \n",
       "Australia              0.513056                  1.818025       -1.197969   \n",
       "...                         ...                       ...             ...   \n",
       "Venezuela             -1.309261                  0.491051        1.357153   \n",
       "Vietnam               -0.000415                 -0.202594       -0.263267   \n",
       "Zambia                -0.473613                 -0.564496       -0.410207   \n",
       "Zimbabwe              -1.208580                 -1.308406        0.932660   \n",
       "Germany                1.696051                  0.561421       -0.936742   \n",
       "\n",
       "           eco_footprint  education  nominal_GDP  inequality  life_expectancy  \\\n",
       "country                                                                         \n",
       "Albania        -0.682703   0.098970    -0.325817   -0.437767         0.478484   \n",
       "Algeria        -0.726698  -0.422782    -0.273550   -1.227075         0.208962   \n",
       "Argentina      -0.228085   0.556308    -0.179626    0.718005         0.175052   \n",
       "Armenia        -0.672926   0.124736    -0.321970   -0.268630        -0.076481   \n",
       "Australia       2.788035   1.284185     0.192832   -0.268630         1.167336   \n",
       "...                  ...        ...          ...         ...              ...   \n",
       "Venezuela      -0.017886   0.073204    -0.311886    0.379730        -0.557737   \n",
       "Vietnam        -0.956451  -0.667555    -0.207726   -0.085398        -0.026652   \n",
       "Zambia         -1.279083  -0.963858    -0.319363    2.930885        -1.859661   \n",
       "Zimbabwe       -1.093325  -1.105569    -0.318044    1.126753        -2.241100   \n",
       "Germany         0.827801   1.355040     1.037308   -0.620999         0.855540   \n",
       "\n",
       "           religion_christian  religion_muslim  religion_unaffiliated  \\\n",
       "country                                                                 \n",
       "Albania             -0.544477        -0.326891              -0.163087   \n",
       "Algeria             -0.558349         0.495707              -0.155043   \n",
       "Argentina            0.358287        -0.382395              -0.098868   \n",
       "Armenia             -0.478583        -0.392499              -0.163219   \n",
       "Australia           -0.160322        -0.378815              -0.092670   \n",
       "...                       ...              ...                    ...   \n",
       "Venezuela            0.130729        -0.390325              -0.125505   \n",
       "Vietnam             -0.368672        -0.388534               0.179634   \n",
       "Zambia              -0.219279        -0.390836              -0.162823   \n",
       "Zimbabwe            -0.268365        -0.389813              -0.150691   \n",
       "Germany              0.948392        -0.270874               0.104602   \n",
       "\n",
       "           religion_hinduism  religion_buddhism  religion_folk  \\\n",
       "country                                                          \n",
       "Albania            -0.112069          -0.172914      -0.133820   \n",
       "Algeria            -0.112069          -0.172914      -0.133664   \n",
       "Argentina          -0.112069          -0.172368      -0.123645   \n",
       "Armenia            -0.112069          -0.172914      -0.133820   \n",
       "Australia          -0.109163          -0.151292      -0.129281   \n",
       "...                      ...                ...            ...   \n",
       "Venezuela          -0.112069          -0.172914      -0.132098   \n",
       "Vietnam            -0.112069           0.349452       1.110471   \n",
       "Zambia             -0.112021          -0.172914      -0.132724   \n",
       "Zimbabwe           -0.112069          -0.172914      -0.118949   \n",
       "Germany            -0.111354          -0.165464      -0.132724   \n",
       "\n",
       "           religions_other  religion_judaism  cluster  \n",
       "country                                                \n",
       "Albania          -0.179213         -0.181861        1  \n",
       "Algeria          -0.179213         -0.181861        1  \n",
       "Argentina        -0.142918          0.046326        0  \n",
       "Armenia          -0.179213         -0.181861        1  \n",
       "Australia        -0.123981         -0.058991        5  \n",
       "...                    ...               ...      ...  \n",
       "Venezuela        -0.174479         -0.181861        4  \n",
       "Vietnam          -0.070326         -0.181861        1  \n",
       "Zambia           -0.142918         -0.181861        4  \n",
       "Zimbabwe         -0.168167         -0.176010        9  \n",
       "Germany          -0.149230          0.081431        5  \n",
       "\n",
       "[85 rows x 17 columns]"
      ]
     },
     "execution_count": 57,
     "metadata": {},
     "output_type": "execute_result"
    }
   ],
   "source": [
    "scaled_redux"
   ]
  },
  {
   "cell_type": "markdown",
   "id": "5fe8ebe3",
   "metadata": {},
   "source": [
    "# Definitive clusters\n",
    "## First we have to find the optimum number of clusters (K)"
   ]
  },
  {
   "cell_type": "code",
   "execution_count": 58,
   "id": "e3297e2d",
   "metadata": {},
   "outputs": [],
   "source": [
    "scaled_redux=scaled_redux.drop('cluster',axis=1)"
   ]
  },
  {
   "cell_type": "code",
   "execution_count": 59,
   "id": "7085933e",
   "metadata": {},
   "outputs": [],
   "source": [
    "K=range(2,25)\n",
    "inertia=[]\n",
    "for k in K:\n",
    "    kmeans=KMeans(n_clusters=k,random_state=5)\n",
    "    kmeans.fit(scaled_redux)\n",
    "    inertia.append(kmeans.inertia_)"
   ]
  },
  {
   "cell_type": "code",
   "execution_count": 60,
   "id": "9c37f9dc",
   "metadata": {
    "scrolled": false
   },
   "outputs": [
    {
     "data": {
      "image/png": "[encoded data removed]",
      "text/plain": [
       "<Figure size 1440x1440 with 1 Axes>"
      ]
     },
     "metadata": {
      "needs_background": "light"
     },
     "output_type": "display_data"
    }
   ],
   "source": [
    "# let's see the elbow\n",
    "\n",
    "plt.figure(figsize=(20,20))\n",
    "plt.plot(K,inertia,'bx-')\n",
    "plt.xlabel('number of clusters')\n",
    "plt.ylabel('inertia')\n",
    "plt.xticks(np.arange(min(K),max(K)+1,1.0));\n",
    "\n",
    "# could be 5, 9 or 10"
   ]
  },
  {
   "cell_type": "code",
   "execution_count": 61,
   "id": "fe6f9a2f",
   "metadata": {},
   "outputs": [],
   "source": [
    "K=range(2,25)\n",
    "sil=[]\n",
    "for k in K:\n",
    "    kmeans=KMeans(n_clusters=k,random_state=5)\n",
    "    kmeans.fit(scaled_redux)\n",
    "    sil.append(silhouette_score(scaled_redux,kmeans.predict(scaled_redux)))"
   ]
  },
  {
   "cell_type": "code",
   "execution_count": 62,
   "id": "0df1c76e",
   "metadata": {},
   "outputs": [
    {
     "data": {
      "image/png": "[encoded data removed]",
      "text/plain": [
       "<Figure size 1152x576 with 1 Axes>"
      ]
     },
     "metadata": {
      "needs_background": "light"
     },
     "output_type": "display_data"
    }
   ],
   "source": [
    "# and now, the silhouette score\n",
    "\n",
    "plt.figure(figsize=(16,8))\n",
    "plt.plot(K,sil,'bo-')\n",
    "plt.xlabel('number of clusters')\n",
    "plt.ylabel('silhouette')\n",
    "plt.xticks(np.arange(min(K),max(K)+1,1.0));\n",
    "\n",
    "# we will stick with 5"
   ]
  },
  {
   "cell_type": "markdown",
   "id": "5274d1d2",
   "metadata": {},
   "source": [
    "## Now we will apply the 5 clusters to the dataframe"
   ]
  },
  {
   "cell_type": "code",
   "execution_count": 63,
   "id": "cbf91fb1",
   "metadata": {},
   "outputs": [],
   "source": [
    "kmeans=KMeans(n_clusters=5, random_state=5)"
   ]
  },
  {
   "cell_type": "code",
   "execution_count": 64,
   "id": "81e9d3a0",
   "metadata": {},
   "outputs": [],
   "source": [
    "clusters=kmeans.fit(scaled_redux)"
   ]
  },
  {
   "cell_type": "code",
   "execution_count": 65,
   "id": "b1ecd13e",
   "metadata": {},
   "outputs": [],
   "source": [
    "scaled_redux['cluster']=clusters.labels_"
   ]
  },
  {
   "cell_type": "code",
   "execution_count": 66,
   "id": "1429c806",
   "metadata": {},
   "outputs": [],
   "source": [
    "scaled_redux.to_csv('scaled clusters no happiness.csv')"
   ]
  }
 ],
 "metadata": {
  "kernelspec": {
   "display_name": "Python 3 (ipykernel)",
   "language": "python",
   "name": "python3"
  },
  "language_info": {
   "codemirror_mode": {
    "name": "ipython",
    "version": 3
   },
   "file_extension": ".py",
   "mimetype": "text/x-python",
   "name": "python",
   "nbconvert_exporter": "python",
   "pygments_lexer": "ipython3",
   "version": "3.9.7"
  },
  "toc": {
   "base_numbering": 1,
   "nav_menu": {},
   "number_sections": true,
   "sideBar": true,
   "skip_h1_title": false,
   "title_cell": "Table of Contents",
   "title_sidebar": "Contents",
   "toc_cell": false,
   "toc_position": {},
   "toc_section_display": true,
   "toc_window_display": false
  },
  "varInspector": {
   "cols": {
    "lenName": 16,
    "lenType": 16,
    "lenVar": 40
   },
   "kernels_config": {
    "python": {
     "delete_cmd_postfix": "",
     "delete_cmd_prefix": "del ",
     "library": "var_list.py",
     "varRefreshCmd": "print(var_dic_list())"
    },
    "r": {
     "delete_cmd_postfix": ") ",
     "delete_cmd_prefix": "rm(",
     "library": "var_list.r",
     "varRefreshCmd": "cat(var_dic_list()) "
    }
   },
   "types_to_exclude": [
    "module",
    "function",
    "builtin_function_or_method",
    "instance",
    "_Feature"
   ],
   "window_display": false
  }
 },
 "nbformat": 4,
 "nbformat_minor": 5
}
