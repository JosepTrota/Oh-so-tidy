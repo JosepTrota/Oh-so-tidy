{
 "cells": [
  {
   "cell_type": "markdown",
   "id": "9d7349fe",
   "metadata": {},
   "source": [
    "# Clean all pieces of data"
   ]
  },
  {
   "cell_type": "code",
   "execution_count": 1,
   "id": "10e47c79",
   "metadata": {},
   "outputs": [],
   "source": [
    "import pandas as pd\n",
    "import numpy as np\n",
    "import seaborn as sns\n",
    "import matplotlib.pyplot as plt\n",
    "from functools import reduce\n",
    "from sklearn.cluster import KMeans \n",
    "from sklearn.preprocessing import StandardScaler \n",
    "from sklearn.metrics import silhouette_score"
   ]
  },
  {
   "cell_type": "markdown",
   "id": "8c67d9c8",
   "metadata": {},
   "source": [
    "## First, download the data (this time, without the Inglehart Welzel indexes)"
   ]
  },
  {
   "cell_type": "code",
   "execution_count": 2,
   "id": "c866a9ce",
   "metadata": {},
   "outputs": [],
   "source": [
    "GPI = pd.read_excel('global peace index.xlsx')"
   ]
  },
  {
   "cell_type": "code",
   "execution_count": 3,
   "id": "cab7fbc6",
   "metadata": {},
   "outputs": [],
   "source": [
    "EF = pd.read_csv('eco footprint.csv')"
   ]
  },
  {
   "cell_type": "code",
   "execution_count": 4,
   "id": "850da22b",
   "metadata": {},
   "outputs": [],
   "source": [
    "EI = pd.read_excel('educationindex.xlsx')"
   ]
  },
  {
   "cell_type": "code",
   "execution_count": 5,
   "id": "3fba49ce",
   "metadata": {},
   "outputs": [],
   "source": [
    "GDP = pd.read_excel('GDP nominal.xlsx')"
   ]
  },
  {
   "cell_type": "code",
   "execution_count": 6,
   "id": "7cf5c730",
   "metadata": {},
   "outputs": [],
   "source": [
    "gini = pd.read_csv('Gini.csv')"
   ]
  },
  {
   "cell_type": "code",
   "execution_count": 7,
   "id": "47f2f2d6",
   "metadata": {},
   "outputs": [],
   "source": [
    "LE = pd.read_excel('life expectancy at birth.xlsx')"
   ]
  },
  {
   "cell_type": "code",
   "execution_count": 8,
   "id": "5dc9d710",
   "metadata": {},
   "outputs": [],
   "source": [
    "WHR = pd.read_csv('world happiness ranking.csv')"
   ]
  },
  {
   "cell_type": "markdown",
   "id": "e580251b",
   "metadata": {},
   "source": [
    "## Let's standarize the country names"
   ]
  },
  {
   "cell_type": "code",
   "execution_count": 9,
   "id": "6c79fd39",
   "metadata": {},
   "outputs": [],
   "source": [
    "# We take the dictionary and list of corrections\n",
    "\n",
    "to_substitute ={'Yemen, Rep.': 'Yemen', 'Palestinian National Authority': 'Palestine', 'West Bank and Gaza':'Palestine',\n",
    "            'Venezuela, RB':'Venezuela', 'United States': 'United States of America', 'USA': 'United States of America',\n",
    "            'Trinidad':'Trinidad and Tobago', 'The Gambia':'Gambia', 'São Tomé and Príncipe': 'São Tomé and Principe',\n",
    "            'Sao Tome and Principe': 'São Tomé and Principe', 'Syrian Arab Republic': 'Syria', 'St. Lucia': 'Saint Lucia',\n",
    "            'St. Kitts and Nevis': 'Saint Kitts and Nevis', 'Slovak Republic':'Slovakia', 'Singapo':'Singapore',\n",
    "            'Russian Federation': 'Russia', 'Republic of the Congo':'Congo', 'Philipines':'Philippines',\n",
    "            'Phillipines':'Philippines', 'Macedonia (FYR) ': 'Macedonia', 'Lao PDR': 'Laos', 'Kyrgyz Republic': 'Kyrgyzstan',\n",
    "            'Kyrgyzistan': 'Kyrgyzstan', \"Korea, Dem. People's Rep.\":'North Korea', 'Korea, Rep.': 'South Korea',\n",
    "            \"Côte d'Ivoire\":'Ivory Coast', \"Cote d' Ivoire\": 'Ivory Coast', 'Iran, Islamic Rep.': 'Iran',\n",
    "            'Hong Kong SAR, China': 'Hong Kong', 'Gambia, The': 'Gambia', 'Egypt, Arab Rep.': 'Egypt',\n",
    "            'DR Congo': 'Democratic Republic of the Congo', 'Congo, Dem. Rep.': 'Democratic Republic of the Congo',\n",
    "            'Congo, Rep.': 'Congo', 'Czech':'Czech Republic', 'Curacao': 'Curaçao', 'Cape Verde': 'Cabo Verde',\n",
    "            'Brunei Darussalam': 'Brunei', 'Bosnia': 'Bosnia and Herzegovina', 'Bahamas, The': 'Bahamas'}\n",
    "\n",
    "to_drop = ['World', 'Western Sahara', 'Wallis and Futuna', 'Virgin Islands (U.S.)', 'Upper middle income',\n",
    "        'United States Virgin Islands', 'Sub-Saharan Africa', 'Sub-Saharan Africa (IDA & IBRD)',\n",
    "        'Sub-Saharan Africa (excluding high income)', 'St. Martin (French part)', 'South Asia', 'South Asia (IDA & IBRD)',\n",
    "        'Small states', 'Sint Maarten', 'Sint Maarten (Dutch part)', 'Saint Pierre and Miquelon', 'Reunion',\n",
    "        'Post-demographic dividend', 'Pre-demographic dividend', 'Pacific island small states', 'Other small states',\n",
    "        'OECD members', 'North America', 'Niue', 'Montserrat', 'Middle East & North Africa',\n",
    "        'Middle East & North Africa (IDA & IBRD)', 'Middle East & North Africa (excluding high income)', 'Middle income',\n",
    "        'Micronesia', 'Micronesia, Fed. Sts.', 'Martinique', 'Low & middle income', 'Low income', 'Lower middle income',\n",
    "        'Macao SAR, China', 'Macau', 'Late-demographic dividend', 'Latin America & Caribbean',\n",
    "        'Latin America & Caribbean (IDA & IBRD)', 'Latin America & Caribbean (excluding high income)',\n",
    "        'Least developed countries: UN classification', 'Heavily indebted poor countries (HIPC)', 'High income', 'Guadeloupe',\n",
    "        'Gibraltar', 'Galicia', 'Fragile and conflict affected situations', 'French Guiana', 'French Polynesia',\n",
    "        'Federated States of Micronesia', 'Faroe Islands', 'Falkland Islands', 'Euro area', 'Europe & Central Asia',\n",
    "        'Europe & Central Asia (IDA & IBRD)', 'Europe & Central Asia (excluding high income)', 'European Union',\n",
    "        'Early-demographic dividend', 'East Asia & Pacific', 'East Asia & Pacific (IDA & IBRD)',\n",
    "        'East Asia & Pacific (excluding high income)', 'Central Europe and the Baltics', 'Cayman Islands',\n",
    "        'Caribbean small states', 'British Virgin Islands', 'Bermuda', 'Africa Eastern and Southern',\n",
    "        'Africa Western and Central', 'Arab World', 'Aruba', 'Anguilla', 'American Samoa', 'Moscow', 'North Ireland']"
   ]
  },
  {
   "cell_type": "code",
   "execution_count": 10,
   "id": "519746a1",
   "metadata": {},
   "outputs": [],
   "source": [
    "# and we set up the cleaning function\n",
    "\n",
    "def clean(df,column):\n",
    "    counter = 0\n",
    "    for cell in column:\n",
    "        if str(cell)[:1] == '\\xa0':\n",
    "            column[counter] = str(cell)[1:]\n",
    "        if str(cell) in to_drop:\n",
    "            df.drop(df.index[counter])\n",
    "        counter += 1\n",
    "    for key in to_substitute.keys():\n",
    "        column.mask(column == str(key), str(to_substitute[str(key)]), inplace=True)"
   ]
  },
  {
   "cell_type": "markdown",
   "id": "ef13f43a",
   "metadata": {},
   "source": [
    "## Cleaning data"
   ]
  },
  {
   "cell_type": "markdown",
   "id": "a24a90ab",
   "metadata": {},
   "source": [
    "### Clean global peace index data"
   ]
  },
  {
   "cell_type": "code",
   "execution_count": 11,
   "id": "8322946b",
   "metadata": {},
   "outputs": [],
   "source": [
    "clean(GPI, GPI['Country'])"
   ]
  },
  {
   "cell_type": "code",
   "execution_count": 12,
   "id": "bcf5e266",
   "metadata": {},
   "outputs": [],
   "source": [
    "fixedGPI = GPI[['Country',2019]].copy()\n",
    "fixedGPI.rename(columns={2019: 'global_peace_index', 'Country': 'country'}, inplace=True, errors='raise')"
   ]
  },
  {
   "cell_type": "markdown",
   "id": "ff69a783",
   "metadata": {},
   "source": [
    "### Clean ecological footprint data"
   ]
  },
  {
   "cell_type": "code",
   "execution_count": 13,
   "id": "e5e19aa8",
   "metadata": {},
   "outputs": [],
   "source": [
    "clean(EF, EF['country'])"
   ]
  },
  {
   "cell_type": "code",
   "execution_count": 14,
   "id": "6d390399",
   "metadata": {},
   "outputs": [],
   "source": [
    "fixedEF = EF[['country','footprintPerCap']].copy()"
   ]
  },
  {
   "cell_type": "markdown",
   "id": "40395511",
   "metadata": {},
   "source": [
    "### Clean education index data"
   ]
  },
  {
   "cell_type": "code",
   "execution_count": 15,
   "id": "4127a456",
   "metadata": {},
   "outputs": [
    {
     "name": "stderr",
     "output_type": "stream",
     "text": [
      "C:\\Users\\x\\AppData\\Local\\Temp/ipykernel_28092/1532366911.py:4: SettingWithCopyWarning: \n",
      "A value is trying to be set on a copy of a slice from a DataFrame\n",
      "\n",
      "See the caveats in the documentation: https://pandas.pydata.org/pandas-docs/stable/user_guide/indexing.html#returning-a-view-versus-a-copy\n",
      "  EI['Unnamed: 0'][counter] = EI['Unnamed: 0'][counter+2]\n"
     ]
    }
   ],
   "source": [
    "counter=0\n",
    "for cell in EI['Unnamed: 0']:\n",
    "    try:\n",
    "        EI['Unnamed: 0'][counter] = EI['Unnamed: 0'][counter+2]\n",
    "    except:\n",
    "        pass\n",
    "    counter+= 1"
   ]
  },
  {
   "cell_type": "code",
   "execution_count": 16,
   "id": "60549e5a",
   "metadata": {},
   "outputs": [],
   "source": [
    "fixedEI=EI.dropna()"
   ]
  },
  {
   "cell_type": "code",
   "execution_count": 17,
   "id": "0abc6fa2",
   "metadata": {},
   "outputs": [
    {
     "name": "stderr",
     "output_type": "stream",
     "text": [
      "C:\\Users\\x\\anaconda3\\lib\\site-packages\\pandas\\core\\generic.py:8870: SettingWithCopyWarning: \n",
      "A value is trying to be set on a copy of a slice from a DataFrame\n",
      "\n",
      "See the caveats in the documentation: https://pandas.pydata.org/pandas-docs/stable/user_guide/indexing.html#returning-a-view-versus-a-copy\n",
      "  return self._update_inplace(result)\n"
     ]
    }
   ],
   "source": [
    "clean(fixedEI, fixedEI['Unnamed: 0'])"
   ]
  },
  {
   "cell_type": "code",
   "execution_count": 18,
   "id": "8583644b",
   "metadata": {},
   "outputs": [],
   "source": [
    "fixedEI = fixedEI[['Unnamed: 0','Education index']].copy()"
   ]
  },
  {
   "cell_type": "code",
   "execution_count": 19,
   "id": "b509fc45",
   "metadata": {},
   "outputs": [],
   "source": [
    "fixedEI = fixedEI.rename(columns={'Unnamed: 0': 'country'})"
   ]
  },
  {
   "cell_type": "markdown",
   "id": "5f85aa4f",
   "metadata": {},
   "source": [
    "### Clean nominal GDP data"
   ]
  },
  {
   "cell_type": "code",
   "execution_count": 20,
   "id": "d7e1bb3e",
   "metadata": {},
   "outputs": [
    {
     "name": "stderr",
     "output_type": "stream",
     "text": [
      "C:\\Users\\x\\AppData\\Local\\Temp/ipykernel_28092/667535603.py:7: SettingWithCopyWarning: \n",
      "A value is trying to be set on a copy of a slice from a DataFrame\n",
      "\n",
      "See the caveats in the documentation: https://pandas.pydata.org/pandas-docs/stable/user_guide/indexing.html#returning-a-view-versus-a-copy\n",
      "  column[counter] = str(cell)[1:]\n"
     ]
    }
   ],
   "source": [
    "clean(GDP, GDP['Country/Territory'])"
   ]
  },
  {
   "cell_type": "code",
   "execution_count": 21,
   "id": "f20a84aa",
   "metadata": {},
   "outputs": [],
   "source": [
    "fixedGDP = GDP[['Country/Territory','IMF']].copy()"
   ]
  },
  {
   "cell_type": "code",
   "execution_count": 22,
   "id": "522279e7",
   "metadata": {},
   "outputs": [],
   "source": [
    "fixedGDP = fixedGDP.rename(columns={'Country/Territory': 'country'})"
   ]
  },
  {
   "cell_type": "markdown",
   "id": "b33b20db",
   "metadata": {},
   "source": [
    "### Clean Gini index data"
   ]
  },
  {
   "cell_type": "code",
   "execution_count": 23,
   "id": "7a194a5e",
   "metadata": {},
   "outputs": [],
   "source": [
    "clean(gini, gini['country'])"
   ]
  },
  {
   "cell_type": "code",
   "execution_count": 24,
   "id": "62f62a9e",
   "metadata": {},
   "outputs": [],
   "source": [
    "fixedgini = gini[['country','giniCIA']].copy()"
   ]
  },
  {
   "cell_type": "markdown",
   "id": "11243a45",
   "metadata": {},
   "source": [
    "### Clean life expectancy at birth data"
   ]
  },
  {
   "cell_type": "code",
   "execution_count": 25,
   "id": "7b1e7f0e",
   "metadata": {},
   "outputs": [],
   "source": [
    "clean(LE, LE['country'])"
   ]
  },
  {
   "cell_type": "code",
   "execution_count": 26,
   "id": "cc30a54a",
   "metadata": {},
   "outputs": [],
   "source": [
    "fixedLE = LE"
   ]
  },
  {
   "cell_type": "markdown",
   "id": "f71a81e8",
   "metadata": {},
   "source": [
    "### Clean word happiness index data"
   ]
  },
  {
   "cell_type": "code",
   "execution_count": 27,
   "id": "c2efa0f0",
   "metadata": {},
   "outputs": [],
   "source": [
    "clean(WHR, WHR['country'])"
   ]
  },
  {
   "cell_type": "code",
   "execution_count": 28,
   "id": "a8e670be",
   "metadata": {},
   "outputs": [],
   "source": [
    "fixedWHR = WHR[['country','happiness2021']].copy()"
   ]
  },
  {
   "cell_type": "markdown",
   "id": "9e8a06dd",
   "metadata": {},
   "source": [
    "# Join all selected data into a single dataframe"
   ]
  },
  {
   "cell_type": "code",
   "execution_count": 29,
   "id": "d624278f",
   "metadata": {},
   "outputs": [],
   "source": [
    "data_frames = [fixedGPI, fixedEF, fixedEI, fixedGDP, fixedgini, fixedLE, fixedWHR]\n",
    "data = reduce(lambda  left,right: pd.merge(left,right,on=['country'],\n",
    "                                            how='outer'), data_frames)"
   ]
  },
  {
   "cell_type": "code",
   "execution_count": 30,
   "id": "3068e89b",
   "metadata": {},
   "outputs": [],
   "source": [
    "data.rename(columns={\"global_peace_index\": \"unpeacefulness\", \"footprintPerCap\": \"eco_footprint\", \"Education index\": \"education\", \"IMF\":\"nominal_GDP\", \"giniCIA\":\"inequality\", \"life expectancy at birth\": \"life_expectancy\", \"happiness2021\": \"happiness\"},\n",
    "errors=\"raise\", inplace=True)"
   ]
  },
  {
   "cell_type": "code",
   "execution_count": 31,
   "id": "be9bd788",
   "metadata": {},
   "outputs": [],
   "source": [
    "data=data.set_index('country')"
   ]
  },
  {
   "cell_type": "code",
   "execution_count": 32,
   "id": "115970e8",
   "metadata": {},
   "outputs": [
    {
     "data": {
      "text/html": [
       "<div>\n",
       "<style scoped>\n",
       "    .dataframe tbody tr th:only-of-type {\n",
       "        vertical-align: middle;\n",
       "    }\n",
       "\n",
       "    .dataframe tbody tr th {\n",
       "        vertical-align: top;\n",
       "    }\n",
       "\n",
       "    .dataframe thead th {\n",
       "        text-align: right;\n",
       "    }\n",
       "</style>\n",
       "<table border=\"1\" class=\"dataframe\">\n",
       "  <thead>\n",
       "    <tr style=\"text-align: right;\">\n",
       "      <th></th>\n",
       "      <th>unpeacefulness</th>\n",
       "      <th>eco_footprint</th>\n",
       "      <th>education</th>\n",
       "      <th>nominal_GDP</th>\n",
       "      <th>inequality</th>\n",
       "      <th>life_expectancy</th>\n",
       "      <th>happiness</th>\n",
       "    </tr>\n",
       "    <tr>\n",
       "      <th>country</th>\n",
       "      <th></th>\n",
       "      <th></th>\n",
       "      <th></th>\n",
       "      <th></th>\n",
       "      <th></th>\n",
       "      <th></th>\n",
       "      <th></th>\n",
       "    </tr>\n",
       "  </thead>\n",
       "  <tbody>\n",
       "    <tr>\n",
       "      <th>Iceland</th>\n",
       "      <td>1.072</td>\n",
       "      <td>NaN</td>\n",
       "      <td>0.912</td>\n",
       "      <td>25476.0</td>\n",
       "      <td>26.8</td>\n",
       "      <td>82.560976</td>\n",
       "      <td>7.554</td>\n",
       "    </tr>\n",
       "    <tr>\n",
       "      <th>New Zealand</th>\n",
       "      <td>1.221</td>\n",
       "      <td>5.60</td>\n",
       "      <td>0.917</td>\n",
       "      <td>24764.0</td>\n",
       "      <td>36.2</td>\n",
       "      <td>81.707317</td>\n",
       "      <td>7.277</td>\n",
       "    </tr>\n",
       "    <tr>\n",
       "      <th>Portugal</th>\n",
       "      <td>1.274</td>\n",
       "      <td>3.88</td>\n",
       "      <td>0.759</td>\n",
       "      <td>251709.0</td>\n",
       "      <td>33.8</td>\n",
       "      <td>80.682927</td>\n",
       "      <td>5.929</td>\n",
       "    </tr>\n",
       "    <tr>\n",
       "      <th>Austria</th>\n",
       "      <td>1.291</td>\n",
       "      <td>6.06</td>\n",
       "      <td>0.852</td>\n",
       "      <td>481209.0</td>\n",
       "      <td>29.7</td>\n",
       "      <td>81.792683</td>\n",
       "      <td>7.268</td>\n",
       "    </tr>\n",
       "    <tr>\n",
       "      <th>Denmark</th>\n",
       "      <td>1.316</td>\n",
       "      <td>5.51</td>\n",
       "      <td>0.920</td>\n",
       "      <td>396666.0</td>\n",
       "      <td>28.7</td>\n",
       "      <td>81.202439</td>\n",
       "      <td>7.620</td>\n",
       "    </tr>\n",
       "    <tr>\n",
       "      <th>...</th>\n",
       "      <td>...</td>\n",
       "      <td>...</td>\n",
       "      <td>...</td>\n",
       "      <td>...</td>\n",
       "      <td>...</td>\n",
       "      <td>...</td>\n",
       "      <td>...</td>\n",
       "    </tr>\n",
       "    <tr>\n",
       "      <th>Sub-Saharan Africa (IDA &amp; IBRD)</th>\n",
       "      <td>NaN</td>\n",
       "      <td>NaN</td>\n",
       "      <td>NaN</td>\n",
       "      <td>NaN</td>\n",
       "      <td>NaN</td>\n",
       "      <td>61.627443</td>\n",
       "      <td>NaN</td>\n",
       "    </tr>\n",
       "    <tr>\n",
       "      <th>Upper middle income</th>\n",
       "      <td>NaN</td>\n",
       "      <td>NaN</td>\n",
       "      <td>NaN</td>\n",
       "      <td>NaN</td>\n",
       "      <td>NaN</td>\n",
       "      <td>75.946931</td>\n",
       "      <td>NaN</td>\n",
       "    </tr>\n",
       "    <tr>\n",
       "      <th>St. Vincent and the Grenadines</th>\n",
       "      <td>NaN</td>\n",
       "      <td>NaN</td>\n",
       "      <td>NaN</td>\n",
       "      <td>NaN</td>\n",
       "      <td>NaN</td>\n",
       "      <td>72.534000</td>\n",
       "      <td>NaN</td>\n",
       "    </tr>\n",
       "    <tr>\n",
       "      <th>Virgin Islands (U.S.)</th>\n",
       "      <td>NaN</td>\n",
       "      <td>NaN</td>\n",
       "      <td>NaN</td>\n",
       "      <td>NaN</td>\n",
       "      <td>NaN</td>\n",
       "      <td>79.668293</td>\n",
       "      <td>NaN</td>\n",
       "    </tr>\n",
       "    <tr>\n",
       "      <th>World</th>\n",
       "      <td>NaN</td>\n",
       "      <td>NaN</td>\n",
       "      <td>NaN</td>\n",
       "      <td>NaN</td>\n",
       "      <td>NaN</td>\n",
       "      <td>72.747132</td>\n",
       "      <td>NaN</td>\n",
       "    </tr>\n",
       "  </tbody>\n",
       "</table>\n",
       "<p>280 rows × 7 columns</p>\n",
       "</div>"
      ],
      "text/plain": [
       "                                 unpeacefulness  eco_footprint  education  \\\n",
       "country                                                                     \n",
       "Iceland                                   1.072            NaN      0.912   \n",
       "New Zealand                               1.221           5.60      0.917   \n",
       "Portugal                                  1.274           3.88      0.759   \n",
       "Austria                                   1.291           6.06      0.852   \n",
       "Denmark                                   1.316           5.51      0.920   \n",
       "...                                         ...            ...        ...   \n",
       "Sub-Saharan Africa (IDA & IBRD)             NaN            NaN        NaN   \n",
       "Upper middle income                         NaN            NaN        NaN   \n",
       "St. Vincent and the Grenadines              NaN            NaN        NaN   \n",
       "Virgin Islands (U.S.)                       NaN            NaN        NaN   \n",
       "World                                       NaN            NaN        NaN   \n",
       "\n",
       "                                 nominal_GDP  inequality  life_expectancy  \\\n",
       "country                                                                     \n",
       "Iceland                              25476.0        26.8        82.560976   \n",
       "New Zealand                          24764.0        36.2        81.707317   \n",
       "Portugal                            251709.0        33.8        80.682927   \n",
       "Austria                             481209.0        29.7        81.792683   \n",
       "Denmark                             396666.0        28.7        81.202439   \n",
       "...                                      ...         ...              ...   \n",
       "Sub-Saharan Africa (IDA & IBRD)          NaN         NaN        61.627443   \n",
       "Upper middle income                      NaN         NaN        75.946931   \n",
       "St. Vincent and the Grenadines           NaN         NaN        72.534000   \n",
       "Virgin Islands (U.S.)                    NaN         NaN        79.668293   \n",
       "World                                    NaN         NaN        72.747132   \n",
       "\n",
       "                                 happiness  \n",
       "country                                     \n",
       "Iceland                              7.554  \n",
       "New Zealand                          7.277  \n",
       "Portugal                             5.929  \n",
       "Austria                              7.268  \n",
       "Denmark                              7.620  \n",
       "...                                    ...  \n",
       "Sub-Saharan Africa (IDA & IBRD)        NaN  \n",
       "Upper middle income                    NaN  \n",
       "St. Vincent and the Grenadines         NaN  \n",
       "Virgin Islands (U.S.)                  NaN  \n",
       "World                                  NaN  \n",
       "\n",
       "[280 rows x 7 columns]"
      ]
     },
     "execution_count": 32,
     "metadata": {},
     "output_type": "execute_result"
    }
   ],
   "source": [
    "data"
   ]
  },
  {
   "cell_type": "code",
   "execution_count": 33,
   "id": "b696d66a",
   "metadata": {},
   "outputs": [
    {
     "name": "stdout",
     "output_type": "stream",
     "text": [
      "<class 'pandas.core.frame.DataFrame'>\n",
      "Index: 280 entries, Iceland to World\n",
      "Data columns (total 7 columns):\n",
      " #   Column           Non-Null Count  Dtype  \n",
      "---  ------           --------------  -----  \n",
      " 0   unpeacefulness   163 non-null    float64\n",
      " 1   eco_footprint    187 non-null    float64\n",
      " 2   education        189 non-null    float64\n",
      " 3   nominal_GDP      196 non-null    float64\n",
      " 4   inequality       165 non-null    float64\n",
      " 5   life_expectancy  241 non-null    float64\n",
      " 6   happiness        146 non-null    float64\n",
      "dtypes: float64(7)\n",
      "memory usage: 17.5+ KB\n"
     ]
    }
   ],
   "source": [
    "data.info()"
   ]
  },
  {
   "cell_type": "code",
   "execution_count": 34,
   "id": "9972d3ad",
   "metadata": {},
   "outputs": [],
   "source": [
    "for column in data:\n",
    "    data.dropna(subset=[column], how='all', inplace=True)"
   ]
  },
  {
   "cell_type": "code",
   "execution_count": 35,
   "id": "707d97f8",
   "metadata": {},
   "outputs": [
    {
     "name": "stdout",
     "output_type": "stream",
     "text": [
      "<class 'pandas.core.frame.DataFrame'>\n",
      "Index: 131 entries, New Zealand to Afghanistan\n",
      "Data columns (total 7 columns):\n",
      " #   Column           Non-Null Count  Dtype  \n",
      "---  ------           --------------  -----  \n",
      " 0   unpeacefulness   131 non-null    float64\n",
      " 1   eco_footprint    131 non-null    float64\n",
      " 2   education        131 non-null    float64\n",
      " 3   nominal_GDP      131 non-null    float64\n",
      " 4   inequality       131 non-null    float64\n",
      " 5   life_expectancy  131 non-null    float64\n",
      " 6   happiness        131 non-null    float64\n",
      "dtypes: float64(7)\n",
      "memory usage: 8.2+ KB\n"
     ]
    }
   ],
   "source": [
    "data.info()"
   ]
  },
  {
   "cell_type": "markdown",
   "id": "57358e1e",
   "metadata": {},
   "source": [
    "# Now that we have a dataframe, let's make some clusters"
   ]
  },
  {
   "cell_type": "markdown",
   "id": "6965cae9",
   "metadata": {},
   "source": [
    "## First we will try doing them scaling the data"
   ]
  },
  {
   "cell_type": "code",
   "execution_count": 36,
   "id": "c1ff7020",
   "metadata": {},
   "outputs": [],
   "source": [
    "scaler=StandardScaler()"
   ]
  },
  {
   "cell_type": "code",
   "execution_count": 37,
   "id": "04dfc9ba",
   "metadata": {},
   "outputs": [
    {
     "data": {
      "text/plain": [
       "StandardScaler()"
      ]
     },
     "execution_count": 37,
     "metadata": {},
     "output_type": "execute_result"
    }
   ],
   "source": [
    "scaler.fit(data)"
   ]
  },
  {
   "cell_type": "code",
   "execution_count": 38,
   "id": "4bda4b32",
   "metadata": {},
   "outputs": [],
   "source": [
    "array_scaled=scaler.transform(data)"
   ]
  },
  {
   "cell_type": "code",
   "execution_count": 39,
   "id": "11f22e37",
   "metadata": {},
   "outputs": [],
   "source": [
    "scaled=pd.DataFrame(array_scaled,columns=[\"unpeacefulness\", \"eco_footprint\", \"education\", \"nominal_GDP\", \"inequality\", \"life_expectancy\", \"happiness\"])"
   ]
  },
  {
   "cell_type": "code",
   "execution_count": 40,
   "id": "d93e3a99",
   "metadata": {},
   "outputs": [
    {
     "data": {
      "image/png": "[encoded data removed]",
      "text/plain": [
       "<Figure size 1080x1080 with 9 Axes>"
      ]
     },
     "metadata": {
      "needs_background": "light"
     },
     "output_type": "display_data"
    }
   ],
   "source": [
    "# let's see if the data has changed while scaling\n",
    "data.hist(bins=15,figsize=(15,15));"
   ]
  },
  {
   "cell_type": "code",
   "execution_count": 41,
   "id": "bea78124",
   "metadata": {},
   "outputs": [
    {
     "data": {
      "image/png": "[encoded data removed]",
      "text/plain": [
       "<Figure size 1080x1080 with 9 Axes>"
      ]
     },
     "metadata": {
      "needs_background": "light"
     },
     "output_type": "display_data"
    }
   ],
   "source": [
    "scaled.hist(bins=15,figsize=(15,15));"
   ]
  },
  {
   "cell_type": "code",
   "execution_count": 42,
   "id": "85cdc313",
   "metadata": {},
   "outputs": [],
   "source": [
    "# they are unchanged, so we will continue\n",
    "K_Means=KMeans(n_clusters=10,random_state=5)"
   ]
  },
  {
   "cell_type": "code",
   "execution_count": 43,
   "id": "4e07ac4e",
   "metadata": {},
   "outputs": [],
   "source": [
    "clusters=K_Means.fit(scaled)"
   ]
  },
  {
   "cell_type": "code",
   "execution_count": 44,
   "id": "1bab61e7",
   "metadata": {},
   "outputs": [],
   "source": [
    "scaled['cluster']=clusters.labels_"
   ]
  },
  {
   "cell_type": "code",
   "execution_count": 45,
   "id": "c9a33d1a",
   "metadata": {},
   "outputs": [
    {
     "data": {
      "text/plain": [
       "0    29\n",
       "5    23\n",
       "7    18\n",
       "1    17\n",
       "2    15\n",
       "3     9\n",
       "9     8\n",
       "6     5\n",
       "8     5\n",
       "4     2\n",
       "Name: cluster, dtype: int64"
      ]
     },
     "execution_count": 45,
     "metadata": {},
     "output_type": "execute_result"
    }
   ],
   "source": [
    "scaled['cluster'].value_counts()"
   ]
  },
  {
   "cell_type": "code",
   "execution_count": 46,
   "id": "50d5aa1e",
   "metadata": {},
   "outputs": [],
   "source": [
    "scaled.index=data.index"
   ]
  },
  {
   "cell_type": "code",
   "execution_count": 47,
   "id": "e6f226da",
   "metadata": {},
   "outputs": [
    {
     "data": {
      "text/html": [
       "<div>\n",
       "<style scoped>\n",
       "    .dataframe tbody tr th:only-of-type {\n",
       "        vertical-align: middle;\n",
       "    }\n",
       "\n",
       "    .dataframe tbody tr th {\n",
       "        vertical-align: top;\n",
       "    }\n",
       "\n",
       "    .dataframe thead th {\n",
       "        text-align: right;\n",
       "    }\n",
       "</style>\n",
       "<table border=\"1\" class=\"dataframe\">\n",
       "  <thead>\n",
       "    <tr style=\"text-align: right;\">\n",
       "      <th></th>\n",
       "      <th>unpeacefulness</th>\n",
       "      <th>eco_footprint</th>\n",
       "      <th>education</th>\n",
       "      <th>nominal_GDP</th>\n",
       "      <th>inequality</th>\n",
       "      <th>life_expectancy</th>\n",
       "      <th>happiness</th>\n",
       "      <th>cluster</th>\n",
       "    </tr>\n",
       "    <tr>\n",
       "      <th>country</th>\n",
       "      <th></th>\n",
       "      <th></th>\n",
       "      <th></th>\n",
       "      <th></th>\n",
       "      <th></th>\n",
       "      <th></th>\n",
       "      <th></th>\n",
       "      <th></th>\n",
       "    </tr>\n",
       "  </thead>\n",
       "  <tbody>\n",
       "    <tr>\n",
       "      <th>New Zealand</th>\n",
       "      <td>-1.800968</td>\n",
       "      <td>1.230532</td>\n",
       "      <td>1.420779</td>\n",
       "      <td>-0.262354</td>\n",
       "      <td>-0.204465</td>\n",
       "      <td>1.177850</td>\n",
       "      <td>1.653810</td>\n",
       "      <td>1</td>\n",
       "    </tr>\n",
       "    <tr>\n",
       "      <th>Portugal</th>\n",
       "      <td>-1.685689</td>\n",
       "      <td>0.380057</td>\n",
       "      <td>0.522298</td>\n",
       "      <td>-0.173361</td>\n",
       "      <td>-0.532276</td>\n",
       "      <td>1.038941</td>\n",
       "      <td>0.398338</td>\n",
       "      <td>7</td>\n",
       "    </tr>\n",
       "    <tr>\n",
       "      <th>Austria</th>\n",
       "      <td>-1.648713</td>\n",
       "      <td>1.457984</td>\n",
       "      <td>1.051151</td>\n",
       "      <td>-0.083366</td>\n",
       "      <td>-1.092286</td>\n",
       "      <td>1.189426</td>\n",
       "      <td>1.645428</td>\n",
       "      <td>1</td>\n",
       "    </tr>\n",
       "    <tr>\n",
       "      <th>Denmark</th>\n",
       "      <td>-1.594337</td>\n",
       "      <td>1.186030</td>\n",
       "      <td>1.437839</td>\n",
       "      <td>-0.116518</td>\n",
       "      <td>-1.228874</td>\n",
       "      <td>1.109388</td>\n",
       "      <td>1.973267</td>\n",
       "      <td>1</td>\n",
       "    </tr>\n",
       "    <tr>\n",
       "      <th>Canada</th>\n",
       "      <td>-1.570411</td>\n",
       "      <td>2.501300</td>\n",
       "      <td>1.318420</td>\n",
       "      <td>0.518473</td>\n",
       "      <td>-0.600569</td>\n",
       "      <td>1.224153</td>\n",
       "      <td>1.491754</td>\n",
       "      <td>1</td>\n",
       "    </tr>\n",
       "    <tr>\n",
       "      <th>...</th>\n",
       "      <td>...</td>\n",
       "      <td>...</td>\n",
       "      <td>...</td>\n",
       "      <td>...</td>\n",
       "      <td>...</td>\n",
       "      <td>...</td>\n",
       "      <td>...</td>\n",
       "      <td>...</td>\n",
       "    </tr>\n",
       "    <tr>\n",
       "      <th>Pakistan</th>\n",
       "      <td>2.225071</td>\n",
       "      <td>-1.147832</td>\n",
       "      <td>-1.456635</td>\n",
       "      <td>-0.169433</td>\n",
       "      <td>-0.573252</td>\n",
       "      <td>-0.779467</td>\n",
       "      <td>-0.528365</td>\n",
       "      <td>8</td>\n",
       "    </tr>\n",
       "    <tr>\n",
       "      <th>Russia</th>\n",
       "      <td>2.270748</td>\n",
       "      <td>1.275033</td>\n",
       "      <td>0.937419</td>\n",
       "      <td>0.374005</td>\n",
       "      <td>-0.026901</td>\n",
       "      <td>0.008501</td>\n",
       "      <td>-0.022637</td>\n",
       "      <td>9</td>\n",
       "    </tr>\n",
       "    <tr>\n",
       "      <th>Iraq</th>\n",
       "      <td>2.871065</td>\n",
       "      <td>-0.608868</td>\n",
       "      <td>-0.757184</td>\n",
       "      <td>-0.193061</td>\n",
       "      <td>-1.119603</td>\n",
       "      <td>-0.327778</td>\n",
       "      <td>-0.602874</td>\n",
       "      <td>8</td>\n",
       "    </tr>\n",
       "    <tr>\n",
       "      <th>Yemen</th>\n",
       "      <td>2.964592</td>\n",
       "      <td>-1.029161</td>\n",
       "      <td>-1.809203</td>\n",
       "      <td>-0.264430</td>\n",
       "      <td>-0.136171</td>\n",
       "      <td>-0.935138</td>\n",
       "      <td>-1.716780</td>\n",
       "      <td>8</td>\n",
       "    </tr>\n",
       "    <tr>\n",
       "      <th>Afghanistan</th>\n",
       "      <td>3.316952</td>\n",
       "      <td>-1.147832</td>\n",
       "      <td>-1.433888</td>\n",
       "      <td>-0.264246</td>\n",
       "      <td>-1.133262</td>\n",
       "      <td>-1.110335</td>\n",
       "      <td>-2.773873</td>\n",
       "      <td>8</td>\n",
       "    </tr>\n",
       "  </tbody>\n",
       "</table>\n",
       "<p>131 rows × 8 columns</p>\n",
       "</div>"
      ],
      "text/plain": [
       "             unpeacefulness  eco_footprint  education  nominal_GDP  \\\n",
       "country                                                              \n",
       "New Zealand       -1.800968       1.230532   1.420779    -0.262354   \n",
       "Portugal          -1.685689       0.380057   0.522298    -0.173361   \n",
       "Austria           -1.648713       1.457984   1.051151    -0.083366   \n",
       "Denmark           -1.594337       1.186030   1.437839    -0.116518   \n",
       "Canada            -1.570411       2.501300   1.318420     0.518473   \n",
       "...                     ...            ...        ...          ...   \n",
       "Pakistan           2.225071      -1.147832  -1.456635    -0.169433   \n",
       "Russia             2.270748       1.275033   0.937419     0.374005   \n",
       "Iraq               2.871065      -0.608868  -0.757184    -0.193061   \n",
       "Yemen              2.964592      -1.029161  -1.809203    -0.264430   \n",
       "Afghanistan        3.316952      -1.147832  -1.433888    -0.264246   \n",
       "\n",
       "             inequality  life_expectancy  happiness  cluster  \n",
       "country                                                       \n",
       "New Zealand   -0.204465         1.177850   1.653810        1  \n",
       "Portugal      -0.532276         1.038941   0.398338        7  \n",
       "Austria       -1.092286         1.189426   1.645428        1  \n",
       "Denmark       -1.228874         1.109388   1.973267        1  \n",
       "Canada        -0.600569         1.224153   1.491754        1  \n",
       "...                 ...              ...        ...      ...  \n",
       "Pakistan      -0.573252        -0.779467  -0.528365        8  \n",
       "Russia        -0.026901         0.008501  -0.022637        9  \n",
       "Iraq          -1.119603        -0.327778  -0.602874        8  \n",
       "Yemen         -0.136171        -0.935138  -1.716780        8  \n",
       "Afghanistan   -1.133262        -1.110335  -2.773873        8  \n",
       "\n",
       "[131 rows x 8 columns]"
      ]
     },
     "execution_count": 47,
     "metadata": {},
     "output_type": "execute_result"
    }
   ],
   "source": [
    "scaled"
   ]
  },
  {
   "cell_type": "markdown",
   "id": "5fe8ebe3",
   "metadata": {},
   "source": [
    "# Definitive clusters\n",
    "## First we have to find the optimum number of clusters (K)"
   ]
  },
  {
   "cell_type": "code",
   "execution_count": 48,
   "id": "e3297e2d",
   "metadata": {},
   "outputs": [],
   "source": [
    "scaled=scaled.drop('cluster',axis=1)"
   ]
  },
  {
   "cell_type": "code",
   "execution_count": 49,
   "id": "7085933e",
   "metadata": {},
   "outputs": [],
   "source": [
    "K=range(2,25)\n",
    "inertia=[]\n",
    "for k in K:\n",
    "    kmeans=KMeans(n_clusters=k,random_state=5)\n",
    "    kmeans.fit(scaled)\n",
    "    inertia.append(kmeans.inertia_)"
   ]
  },
  {
   "cell_type": "code",
   "execution_count": 50,
   "id": "9c37f9dc",
   "metadata": {
    "scrolled": false
   },
   "outputs": [
    {
     "data": {
      "image/png": "[encoded data removed]",
      "text/plain": [
       "<Figure size 1440x1440 with 1 Axes>"
      ]
     },
     "metadata": {
      "needs_background": "light"
     },
     "output_type": "display_data"
    }
   ],
   "source": [
    "# let's see the elbow\n",
    "\n",
    "plt.figure(figsize=(20,20))\n",
    "plt.plot(K,inertia,'bx-')\n",
    "plt.xlabel('number of clusters')\n",
    "plt.ylabel('inertia')\n",
    "plt.xticks(np.arange(min(K),max(K)+1,1.0));\n",
    "\n",
    "# then again... it's not really clear where the elbow is. Could be 14 but it must be a much lower number for sure."
   ]
  },
  {
   "cell_type": "code",
   "execution_count": 51,
   "id": "fe6f9a2f",
   "metadata": {},
   "outputs": [],
   "source": [
    "K=range(2,25)\n",
    "sil=[]\n",
    "for k in K:\n",
    "    kmeans=KMeans(n_clusters=k,random_state=5)\n",
    "    kmeans.fit(scaled)\n",
    "    sil.append(silhouette_score(scaled,kmeans.predict(scaled)))"
   ]
  },
  {
   "cell_type": "code",
   "execution_count": 52,
   "id": "0df1c76e",
   "metadata": {},
   "outputs": [
    {
     "data": {
      "image/png": "[encoded data removed]",
      "text/plain": [
       "<Figure size 1152x576 with 1 Axes>"
      ]
     },
     "metadata": {
      "needs_background": "light"
     },
     "output_type": "display_data"
    }
   ],
   "source": [
    "# and now, the silhouette score\n",
    "\n",
    "plt.figure(figsize=(16,8))\n",
    "plt.plot(K,sil,'bo-')\n",
    "plt.xlabel('number of clusters')\n",
    "plt.ylabel('silhouette')\n",
    "plt.xticks(np.arange(min(K),max(K)+1,1.0));\n",
    "\n",
    "# now the correct number of clusters is 4"
   ]
  },
  {
   "cell_type": "markdown",
   "id": "5274d1d2",
   "metadata": {},
   "source": [
    "## Now we will apply the 4 clusters to the dataframe"
   ]
  },
  {
   "cell_type": "code",
   "execution_count": 53,
   "id": "cbf91fb1",
   "metadata": {},
   "outputs": [],
   "source": [
    "kmeans=KMeans(n_clusters=4, random_state=5)"
   ]
  },
  {
   "cell_type": "code",
   "execution_count": 54,
   "id": "81e9d3a0",
   "metadata": {},
   "outputs": [],
   "source": [
    "clusters=kmeans.fit(scaled)"
   ]
  },
  {
   "cell_type": "code",
   "execution_count": 55,
   "id": "b1ecd13e",
   "metadata": {},
   "outputs": [],
   "source": [
    "scaled['cluster']=clusters.labels_"
   ]
  },
  {
   "cell_type": "code",
   "execution_count": 56,
   "id": "1429c806",
   "metadata": {},
   "outputs": [],
   "source": [
    "scaled.to_csv('scaled clusters no religion IW.csv')"
   ]
  }
 ],
 "metadata": {
  "kernelspec": {
   "display_name": "Python 3 (ipykernel)",
   "language": "python",
   "name": "python3"
  },
  "language_info": {
   "codemirror_mode": {
    "name": "ipython",
    "version": 3
   },
   "file_extension": ".py",
   "mimetype": "text/x-python",
   "name": "python",
   "nbconvert_exporter": "python",
   "pygments_lexer": "ipython3",
   "version": "3.9.7"
  },
  "toc": {
   "base_numbering": 1,
   "nav_menu": {},
   "number_sections": true,
   "sideBar": true,
   "skip_h1_title": false,
   "title_cell": "Table of Contents",
   "title_sidebar": "Contents",
   "toc_cell": false,
   "toc_position": {},
   "toc_section_display": true,
   "toc_window_display": false
  },
  "varInspector": {
   "cols": {
    "lenName": 16,
    "lenType": 16,
    "lenVar": 40
   },
   "kernels_config": {
    "python": {
     "delete_cmd_postfix": "",
     "delete_cmd_prefix": "del ",
     "library": "var_list.py",
     "varRefreshCmd": "print(var_dic_list())"
    },
    "r": {
     "delete_cmd_postfix": ") ",
     "delete_cmd_prefix": "rm(",
     "library": "var_list.r",
     "varRefreshCmd": "cat(var_dic_list()) "
    }
   },
   "types_to_exclude": [
    "module",
    "function",
    "builtin_function_or_method",
    "instance",
    "_Feature"
   ],
   "window_display": false
  }
 },
 "nbformat": 4,
 "nbformat_minor": 5
}
