{
 "cells": [
  {
   "cell_type": "markdown",
   "id": "9d7349fe",
   "metadata": {},
   "source": [
    "# Clean all pieces of data"
   ]
  },
  {
   "cell_type": "code",
   "execution_count": 1,
   "id": "10e47c79",
   "metadata": {},
   "outputs": [],
   "source": [
    "import pandas as pd\n",
    "import numpy as np\n",
    "import seaborn as sns\n",
    "import matplotlib.pyplot as plt\n",
    "from functools import reduce\n",
    "from sklearn.cluster import KMeans \n",
    "from sklearn.preprocessing import StandardScaler \n",
    "from sklearn.metrics import silhouette_score"
   ]
  },
  {
   "cell_type": "markdown",
   "id": "8c67d9c8",
   "metadata": {},
   "source": [
    "## First, download the data (this time, without the religions)"
   ]
  },
  {
   "cell_type": "code",
   "execution_count": 2,
   "id": "5fdd7eb0",
   "metadata": {},
   "outputs": [],
   "source": [
    "IW = pd.read_excel('Inglehart - Welzel.xlsx')"
   ]
  },
  {
   "cell_type": "code",
   "execution_count": 3,
   "id": "5be585ca",
   "metadata": {},
   "outputs": [],
   "source": [
    "IWdict={}\n",
    "counter = 0\n",
    "for cell in IW['nation & wave']:\n",
    "    IWdict[str(cell)[:-2]]=IW['Trad Rat values'][counter], IW['Surv Self values'][counter]\n",
    "    counter += 1"
   ]
  },
  {
   "cell_type": "code",
   "execution_count": 4,
   "id": "c866a9ce",
   "metadata": {},
   "outputs": [],
   "source": [
    "GPI = pd.read_excel('global peace index.xlsx')"
   ]
  },
  {
   "cell_type": "code",
   "execution_count": 5,
   "id": "cab7fbc6",
   "metadata": {},
   "outputs": [],
   "source": [
    "EF = pd.read_csv('eco footprint.csv')"
   ]
  },
  {
   "cell_type": "code",
   "execution_count": 6,
   "id": "850da22b",
   "metadata": {},
   "outputs": [],
   "source": [
    "EI = pd.read_excel('educationindex.xlsx')"
   ]
  },
  {
   "cell_type": "code",
   "execution_count": 7,
   "id": "3fba49ce",
   "metadata": {},
   "outputs": [],
   "source": [
    "GDP = pd.read_excel('GDP nominal.xlsx')"
   ]
  },
  {
   "cell_type": "code",
   "execution_count": 8,
   "id": "7cf5c730",
   "metadata": {},
   "outputs": [],
   "source": [
    "gini = pd.read_csv('Gini.csv')"
   ]
  },
  {
   "cell_type": "code",
   "execution_count": 9,
   "id": "47f2f2d6",
   "metadata": {},
   "outputs": [],
   "source": [
    "LE = pd.read_excel('life expectancy at birth.xlsx')"
   ]
  },
  {
   "cell_type": "code",
   "execution_count": 10,
   "id": "5dc9d710",
   "metadata": {},
   "outputs": [],
   "source": [
    "WHR = pd.read_csv('world happiness ranking.csv')"
   ]
  },
  {
   "cell_type": "markdown",
   "id": "e580251b",
   "metadata": {},
   "source": [
    "## Let's standarize the country names"
   ]
  },
  {
   "cell_type": "code",
   "execution_count": 11,
   "id": "6c79fd39",
   "metadata": {},
   "outputs": [],
   "source": [
    "# We take the dictionary and list of corrections\n",
    "\n",
    "to_substitute ={'Yemen, Rep.': 'Yemen', 'Palestinian National Authority': 'Palestine', 'West Bank and Gaza':'Palestine',\n",
    "            'Venezuela, RB':'Venezuela', 'United States': 'United States of America', 'USA': 'United States of America',\n",
    "            'Trinidad':'Trinidad and Tobago', 'The Gambia':'Gambia', 'São Tomé and Príncipe': 'São Tomé and Principe',\n",
    "            'Sao Tome and Principe': 'São Tomé and Principe', 'Syrian Arab Republic': 'Syria', 'St. Lucia': 'Saint Lucia',\n",
    "            'St. Kitts and Nevis': 'Saint Kitts and Nevis', 'Slovak Republic':'Slovakia', 'Singapo':'Singapore',\n",
    "            'Russian Federation': 'Russia', 'Republic of the Congo':'Congo', 'Philipines':'Philippines',\n",
    "            'Phillipines':'Philippines', 'Macedonia (FYR) ': 'Macedonia', 'Lao PDR': 'Laos', 'Kyrgyz Republic': 'Kyrgyzstan',\n",
    "            'Kyrgyzistan': 'Kyrgyzstan', \"Korea, Dem. People's Rep.\":'North Korea', 'Korea, Rep.': 'South Korea',\n",
    "            \"Côte d'Ivoire\":'Ivory Coast', \"Cote d' Ivoire\": 'Ivory Coast', 'Iran, Islamic Rep.': 'Iran',\n",
    "            'Hong Kong SAR, China': 'Hong Kong', 'Gambia, The': 'Gambia', 'Egypt, Arab Rep.': 'Egypt',\n",
    "            'DR Congo': 'Democratic Republic of the Congo', 'Congo, Dem. Rep.': 'Democratic Republic of the Congo',\n",
    "            'Congo, Rep.': 'Congo', 'Czech':'Czech Republic', 'Curacao': 'Curaçao', 'Cape Verde': 'Cabo Verde',\n",
    "            'Brunei Darussalam': 'Brunei', 'Bosnia': 'Bosnia and Herzegovina', 'Bahamas, The': 'Bahamas'}\n",
    "\n",
    "to_drop = ['World', 'Western Sahara', 'Wallis and Futuna', 'Virgin Islands (U.S.)', 'Upper middle income',\n",
    "        'United States Virgin Islands', 'Sub-Saharan Africa', 'Sub-Saharan Africa (IDA & IBRD)',\n",
    "        'Sub-Saharan Africa (excluding high income)', 'St. Martin (French part)', 'South Asia', 'South Asia (IDA & IBRD)',\n",
    "        'Small states', 'Sint Maarten', 'Sint Maarten (Dutch part)', 'Saint Pierre and Miquelon', 'Reunion',\n",
    "        'Post-demographic dividend', 'Pre-demographic dividend', 'Pacific island small states', 'Other small states',\n",
    "        'OECD members', 'North America', 'Niue', 'Montserrat', 'Middle East & North Africa',\n",
    "        'Middle East & North Africa (IDA & IBRD)', 'Middle East & North Africa (excluding high income)', 'Middle income',\n",
    "        'Micronesia', 'Micronesia, Fed. Sts.', 'Martinique', 'Low & middle income', 'Low income', 'Lower middle income',\n",
    "        'Macao SAR, China', 'Macau', 'Late-demographic dividend', 'Latin America & Caribbean',\n",
    "        'Latin America & Caribbean (IDA & IBRD)', 'Latin America & Caribbean (excluding high income)',\n",
    "        'Least developed countries: UN classification', 'Heavily indebted poor countries (HIPC)', 'High income', 'Guadeloupe',\n",
    "        'Gibraltar', 'Galicia', 'Fragile and conflict affected situations', 'French Guiana', 'French Polynesia',\n",
    "        'Federated States of Micronesia', 'Faroe Islands', 'Falkland Islands', 'Euro area', 'Europe & Central Asia',\n",
    "        'Europe & Central Asia (IDA & IBRD)', 'Europe & Central Asia (excluding high income)', 'European Union',\n",
    "        'Early-demographic dividend', 'East Asia & Pacific', 'East Asia & Pacific (IDA & IBRD)',\n",
    "        'East Asia & Pacific (excluding high income)', 'Central Europe and the Baltics', 'Cayman Islands',\n",
    "        'Caribbean small states', 'British Virgin Islands', 'Bermuda', 'Africa Eastern and Southern',\n",
    "        'Africa Western and Central', 'Arab World', 'Aruba', 'Anguilla', 'American Samoa', 'Moscow', 'North Ireland']"
   ]
  },
  {
   "cell_type": "code",
   "execution_count": 12,
   "id": "519746a1",
   "metadata": {},
   "outputs": [],
   "source": [
    "# and we set up the cleaning function\n",
    "\n",
    "def clean(df,column):\n",
    "    counter = 0\n",
    "    for cell in column:\n",
    "        if str(cell)[:1] == '\\xa0':\n",
    "            column[counter] = str(cell)[1:]\n",
    "        if str(cell) in to_drop:\n",
    "            df.drop(df.index[counter])\n",
    "        counter += 1\n",
    "    for key in to_substitute.keys():\n",
    "        column.mask(column == str(key), str(to_substitute[str(key)]), inplace=True)"
   ]
  },
  {
   "cell_type": "markdown",
   "id": "ef13f43a",
   "metadata": {},
   "source": [
    "## Cleaning data"
   ]
  },
  {
   "cell_type": "markdown",
   "id": "69291d93",
   "metadata": {},
   "source": [
    "### Clean Inglehart Welzel data"
   ]
  },
  {
   "cell_type": "code",
   "execution_count": 13,
   "id": "054a02b6",
   "metadata": {},
   "outputs": [],
   "source": [
    "fixedIW=pd.DataFrame.from_dict(IWdict, orient='index')"
   ]
  },
  {
   "cell_type": "code",
   "execution_count": 14,
   "id": "8a52a0a6",
   "metadata": {},
   "outputs": [],
   "source": [
    "fixedIW.reset_index(inplace=True)"
   ]
  },
  {
   "cell_type": "code",
   "execution_count": 15,
   "id": "e0acfd73",
   "metadata": {},
   "outputs": [],
   "source": [
    "clean(fixedIW, fixedIW['index'])"
   ]
  },
  {
   "cell_type": "code",
   "execution_count": 16,
   "id": "da639edd",
   "metadata": {},
   "outputs": [],
   "source": [
    "fixedIW = fixedIW.rename(columns={0: \"trad_rat_values\", 1: \"surv_self_values\", 'index': 'country'})"
   ]
  },
  {
   "cell_type": "markdown",
   "id": "a24a90ab",
   "metadata": {},
   "source": [
    "### Clean global peace index data"
   ]
  },
  {
   "cell_type": "code",
   "execution_count": 17,
   "id": "8322946b",
   "metadata": {},
   "outputs": [],
   "source": [
    "clean(GPI, GPI['Country'])"
   ]
  },
  {
   "cell_type": "code",
   "execution_count": 18,
   "id": "bcf5e266",
   "metadata": {},
   "outputs": [],
   "source": [
    "fixedGPI = GPI[['Country',2019]].copy()\n",
    "fixedGPI.rename(columns={2019: 'global_peace_index', 'Country': 'country'}, inplace=True, errors='raise')"
   ]
  },
  {
   "cell_type": "markdown",
   "id": "ff69a783",
   "metadata": {},
   "source": [
    "### Clean ecological footprint data"
   ]
  },
  {
   "cell_type": "code",
   "execution_count": 19,
   "id": "e5e19aa8",
   "metadata": {},
   "outputs": [],
   "source": [
    "clean(EF, EF['country'])"
   ]
  },
  {
   "cell_type": "code",
   "execution_count": 20,
   "id": "6d390399",
   "metadata": {},
   "outputs": [],
   "source": [
    "fixedEF = EF[['country','footprintPerCap']].copy()"
   ]
  },
  {
   "cell_type": "markdown",
   "id": "40395511",
   "metadata": {},
   "source": [
    "### Clean education index data"
   ]
  },
  {
   "cell_type": "code",
   "execution_count": 21,
   "id": "4127a456",
   "metadata": {},
   "outputs": [
    {
     "name": "stderr",
     "output_type": "stream",
     "text": [
      "C:\\Users\\x\\AppData\\Local\\Temp/ipykernel_16056/1532366911.py:4: SettingWithCopyWarning: \n",
      "A value is trying to be set on a copy of a slice from a DataFrame\n",
      "\n",
      "See the caveats in the documentation: https://pandas.pydata.org/pandas-docs/stable/user_guide/indexing.html#returning-a-view-versus-a-copy\n",
      "  EI['Unnamed: 0'][counter] = EI['Unnamed: 0'][counter+2]\n"
     ]
    }
   ],
   "source": [
    "counter=0\n",
    "for cell in EI['Unnamed: 0']:\n",
    "    try:\n",
    "        EI['Unnamed: 0'][counter] = EI['Unnamed: 0'][counter+2]\n",
    "    except:\n",
    "        pass\n",
    "    counter+= 1"
   ]
  },
  {
   "cell_type": "code",
   "execution_count": 22,
   "id": "60549e5a",
   "metadata": {},
   "outputs": [],
   "source": [
    "fixedEI=EI.dropna()"
   ]
  },
  {
   "cell_type": "code",
   "execution_count": 23,
   "id": "0abc6fa2",
   "metadata": {},
   "outputs": [
    {
     "name": "stderr",
     "output_type": "stream",
     "text": [
      "C:\\Users\\x\\anaconda3\\lib\\site-packages\\pandas\\core\\generic.py:8870: SettingWithCopyWarning: \n",
      "A value is trying to be set on a copy of a slice from a DataFrame\n",
      "\n",
      "See the caveats in the documentation: https://pandas.pydata.org/pandas-docs/stable/user_guide/indexing.html#returning-a-view-versus-a-copy\n",
      "  return self._update_inplace(result)\n"
     ]
    }
   ],
   "source": [
    "clean(fixedEI, fixedEI['Unnamed: 0'])"
   ]
  },
  {
   "cell_type": "code",
   "execution_count": 24,
   "id": "8583644b",
   "metadata": {},
   "outputs": [],
   "source": [
    "fixedEI = fixedEI[['Unnamed: 0','Education index']].copy()"
   ]
  },
  {
   "cell_type": "code",
   "execution_count": 25,
   "id": "b509fc45",
   "metadata": {},
   "outputs": [],
   "source": [
    "fixedEI = fixedEI.rename(columns={'Unnamed: 0': 'country'})"
   ]
  },
  {
   "cell_type": "markdown",
   "id": "5f85aa4f",
   "metadata": {},
   "source": [
    "### Clean nominal GDP data"
   ]
  },
  {
   "cell_type": "code",
   "execution_count": 26,
   "id": "d7e1bb3e",
   "metadata": {},
   "outputs": [
    {
     "name": "stderr",
     "output_type": "stream",
     "text": [
      "C:\\Users\\x\\AppData\\Local\\Temp/ipykernel_16056/667535603.py:7: SettingWithCopyWarning: \n",
      "A value is trying to be set on a copy of a slice from a DataFrame\n",
      "\n",
      "See the caveats in the documentation: https://pandas.pydata.org/pandas-docs/stable/user_guide/indexing.html#returning-a-view-versus-a-copy\n",
      "  column[counter] = str(cell)[1:]\n"
     ]
    }
   ],
   "source": [
    "clean(GDP, GDP['Country/Territory'])"
   ]
  },
  {
   "cell_type": "code",
   "execution_count": 27,
   "id": "f20a84aa",
   "metadata": {},
   "outputs": [],
   "source": [
    "fixedGDP = GDP[['Country/Territory','IMF']].copy()"
   ]
  },
  {
   "cell_type": "code",
   "execution_count": 28,
   "id": "522279e7",
   "metadata": {},
   "outputs": [],
   "source": [
    "fixedGDP = fixedGDP.rename(columns={'Country/Territory': 'country'})"
   ]
  },
  {
   "cell_type": "markdown",
   "id": "b33b20db",
   "metadata": {},
   "source": [
    "### Clean Gini index data"
   ]
  },
  {
   "cell_type": "code",
   "execution_count": 29,
   "id": "7a194a5e",
   "metadata": {},
   "outputs": [],
   "source": [
    "clean(gini, gini['country'])"
   ]
  },
  {
   "cell_type": "code",
   "execution_count": 30,
   "id": "62f62a9e",
   "metadata": {},
   "outputs": [],
   "source": [
    "fixedgini = gini[['country','giniCIA']].copy()"
   ]
  },
  {
   "cell_type": "markdown",
   "id": "11243a45",
   "metadata": {},
   "source": [
    "### Clean life expectancy at birth data"
   ]
  },
  {
   "cell_type": "code",
   "execution_count": 31,
   "id": "7b1e7f0e",
   "metadata": {},
   "outputs": [],
   "source": [
    "clean(LE, LE['country'])"
   ]
  },
  {
   "cell_type": "code",
   "execution_count": 32,
   "id": "cc30a54a",
   "metadata": {},
   "outputs": [],
   "source": [
    "fixedLE = LE"
   ]
  },
  {
   "cell_type": "markdown",
   "id": "f71a81e8",
   "metadata": {},
   "source": [
    "### Clean word happiness index data"
   ]
  },
  {
   "cell_type": "code",
   "execution_count": 33,
   "id": "c2efa0f0",
   "metadata": {},
   "outputs": [],
   "source": [
    "clean(WHR, WHR['country'])"
   ]
  },
  {
   "cell_type": "code",
   "execution_count": 34,
   "id": "a8e670be",
   "metadata": {},
   "outputs": [],
   "source": [
    "fixedWHR = WHR[['country','happiness2021']].copy()"
   ]
  },
  {
   "cell_type": "markdown",
   "id": "9e8a06dd",
   "metadata": {},
   "source": [
    "# Join all selected data into a single dataframe"
   ]
  },
  {
   "cell_type": "code",
   "execution_count": 35,
   "id": "d624278f",
   "metadata": {},
   "outputs": [],
   "source": [
    "data_frames = [fixedIW, fixedGPI, fixedEF, fixedEI, fixedGDP, fixedgini, fixedLE, fixedWHR]\n",
    "data = reduce(lambda  left,right: pd.merge(left,right,on=['country'],\n",
    "                                            how='outer'), data_frames)"
   ]
  },
  {
   "cell_type": "code",
   "execution_count": 36,
   "id": "3068e89b",
   "metadata": {},
   "outputs": [],
   "source": [
    "data.rename(columns={\"trad_rat_values\": \"tradition_secularism\", \"surv_self_values\": \"survival_self-expression\", \"global_peace_index\": \"unpeacefulness\", \"footprintPerCap\": \"eco_footprint\", \"Education index\": \"education\", \"IMF\":\"nominal_GDP\", \"giniCIA\":\"inequality\", \"life expectancy at birth\": \"life_expectancy\", \"happiness2021\": \"happiness\"},\n",
    "errors=\"raise\", inplace=True)"
   ]
  },
  {
   "cell_type": "code",
   "execution_count": 37,
   "id": "be9bd788",
   "metadata": {},
   "outputs": [],
   "source": [
    "data=data.set_index('country')"
   ]
  },
  {
   "cell_type": "code",
   "execution_count": 38,
   "id": "115970e8",
   "metadata": {},
   "outputs": [
    {
     "data": {
      "text/html": [
       "<div>\n",
       "<style scoped>\n",
       "    .dataframe tbody tr th:only-of-type {\n",
       "        vertical-align: middle;\n",
       "    }\n",
       "\n",
       "    .dataframe tbody tr th {\n",
       "        vertical-align: top;\n",
       "    }\n",
       "\n",
       "    .dataframe thead th {\n",
       "        text-align: right;\n",
       "    }\n",
       "</style>\n",
       "<table border=\"1\" class=\"dataframe\">\n",
       "  <thead>\n",
       "    <tr style=\"text-align: right;\">\n",
       "      <th></th>\n",
       "      <th>tradition_secularism</th>\n",
       "      <th>survival_self-expression</th>\n",
       "      <th>unpeacefulness</th>\n",
       "      <th>eco_footprint</th>\n",
       "      <th>education</th>\n",
       "      <th>nominal_GDP</th>\n",
       "      <th>inequality</th>\n",
       "      <th>life_expectancy</th>\n",
       "      <th>happiness</th>\n",
       "    </tr>\n",
       "    <tr>\n",
       "      <th>country</th>\n",
       "      <th></th>\n",
       "      <th></th>\n",
       "      <th></th>\n",
       "      <th></th>\n",
       "      <th></th>\n",
       "      <th></th>\n",
       "      <th></th>\n",
       "      <th></th>\n",
       "      <th></th>\n",
       "    </tr>\n",
       "  </thead>\n",
       "  <tbody>\n",
       "    <tr>\n",
       "      <th>Albania</th>\n",
       "      <td>0.07</td>\n",
       "      <td>-1.14</td>\n",
       "      <td>1.821</td>\n",
       "      <td>2.21</td>\n",
       "      <td>0.745</td>\n",
       "      <td>1677.0</td>\n",
       "      <td>33.2</td>\n",
       "      <td>78.573000</td>\n",
       "      <td>5.117</td>\n",
       "    </tr>\n",
       "    <tr>\n",
       "      <th>Algeria</th>\n",
       "      <td>-1.48</td>\n",
       "      <td>-0.74</td>\n",
       "      <td>2.219</td>\n",
       "      <td>2.12</td>\n",
       "      <td>0.664</td>\n",
       "      <td>163812.0</td>\n",
       "      <td>27.6</td>\n",
       "      <td>76.880000</td>\n",
       "      <td>4.887</td>\n",
       "    </tr>\n",
       "    <tr>\n",
       "      <th>Andorra</th>\n",
       "      <td>0.80</td>\n",
       "      <td>1.62</td>\n",
       "      <td>NaN</td>\n",
       "      <td>NaN</td>\n",
       "      <td>0.714</td>\n",
       "      <td>3213.0</td>\n",
       "      <td>NaN</td>\n",
       "      <td>NaN</td>\n",
       "      <td>NaN</td>\n",
       "    </tr>\n",
       "    <tr>\n",
       "      <th>Argentina</th>\n",
       "      <td>-0.66</td>\n",
       "      <td>0.38</td>\n",
       "      <td>1.989</td>\n",
       "      <td>3.14</td>\n",
       "      <td>0.816</td>\n",
       "      <td>455172.0</td>\n",
       "      <td>41.4</td>\n",
       "      <td>76.667000</td>\n",
       "      <td>5.929</td>\n",
       "    </tr>\n",
       "    <tr>\n",
       "      <th>Armenia</th>\n",
       "      <td>0.55</td>\n",
       "      <td>-1.31</td>\n",
       "      <td>2.294</td>\n",
       "      <td>2.23</td>\n",
       "      <td>0.749</td>\n",
       "      <td>13612.0</td>\n",
       "      <td>34.4</td>\n",
       "      <td>75.087000</td>\n",
       "      <td>5.283</td>\n",
       "    </tr>\n",
       "    <tr>\n",
       "      <th>...</th>\n",
       "      <td>...</td>\n",
       "      <td>...</td>\n",
       "      <td>...</td>\n",
       "      <td>...</td>\n",
       "      <td>...</td>\n",
       "      <td>...</td>\n",
       "      <td>...</td>\n",
       "      <td>...</td>\n",
       "      <td>...</td>\n",
       "    </tr>\n",
       "    <tr>\n",
       "      <th>Sub-Saharan Africa (IDA &amp; IBRD)</th>\n",
       "      <td>NaN</td>\n",
       "      <td>NaN</td>\n",
       "      <td>NaN</td>\n",
       "      <td>NaN</td>\n",
       "      <td>NaN</td>\n",
       "      <td>NaN</td>\n",
       "      <td>NaN</td>\n",
       "      <td>61.627443</td>\n",
       "      <td>NaN</td>\n",
       "    </tr>\n",
       "    <tr>\n",
       "      <th>Upper middle income</th>\n",
       "      <td>NaN</td>\n",
       "      <td>NaN</td>\n",
       "      <td>NaN</td>\n",
       "      <td>NaN</td>\n",
       "      <td>NaN</td>\n",
       "      <td>NaN</td>\n",
       "      <td>NaN</td>\n",
       "      <td>75.946931</td>\n",
       "      <td>NaN</td>\n",
       "    </tr>\n",
       "    <tr>\n",
       "      <th>St. Vincent and the Grenadines</th>\n",
       "      <td>NaN</td>\n",
       "      <td>NaN</td>\n",
       "      <td>NaN</td>\n",
       "      <td>NaN</td>\n",
       "      <td>NaN</td>\n",
       "      <td>NaN</td>\n",
       "      <td>NaN</td>\n",
       "      <td>72.534000</td>\n",
       "      <td>NaN</td>\n",
       "    </tr>\n",
       "    <tr>\n",
       "      <th>Virgin Islands (U.S.)</th>\n",
       "      <td>NaN</td>\n",
       "      <td>NaN</td>\n",
       "      <td>NaN</td>\n",
       "      <td>NaN</td>\n",
       "      <td>NaN</td>\n",
       "      <td>NaN</td>\n",
       "      <td>NaN</td>\n",
       "      <td>79.668293</td>\n",
       "      <td>NaN</td>\n",
       "    </tr>\n",
       "    <tr>\n",
       "      <th>World</th>\n",
       "      <td>NaN</td>\n",
       "      <td>NaN</td>\n",
       "      <td>NaN</td>\n",
       "      <td>NaN</td>\n",
       "      <td>NaN</td>\n",
       "      <td>NaN</td>\n",
       "      <td>NaN</td>\n",
       "      <td>72.747132</td>\n",
       "      <td>NaN</td>\n",
       "    </tr>\n",
       "  </tbody>\n",
       "</table>\n",
       "<p>284 rows × 9 columns</p>\n",
       "</div>"
      ],
      "text/plain": [
       "                                 tradition_secularism  \\\n",
       "country                                                 \n",
       "Albania                                          0.07   \n",
       "Algeria                                         -1.48   \n",
       "Andorra                                          0.80   \n",
       "Argentina                                       -0.66   \n",
       "Armenia                                          0.55   \n",
       "...                                               ...   \n",
       "Sub-Saharan Africa (IDA & IBRD)                   NaN   \n",
       "Upper middle income                               NaN   \n",
       "St. Vincent and the Grenadines                    NaN   \n",
       "Virgin Islands (U.S.)                             NaN   \n",
       "World                                             NaN   \n",
       "\n",
       "                                 survival_self-expression  unpeacefulness  \\\n",
       "country                                                                     \n",
       "Albania                                             -1.14           1.821   \n",
       "Algeria                                             -0.74           2.219   \n",
       "Andorra                                              1.62             NaN   \n",
       "Argentina                                            0.38           1.989   \n",
       "Armenia                                             -1.31           2.294   \n",
       "...                                                   ...             ...   \n",
       "Sub-Saharan Africa (IDA & IBRD)                       NaN             NaN   \n",
       "Upper middle income                                   NaN             NaN   \n",
       "St. Vincent and the Grenadines                        NaN             NaN   \n",
       "Virgin Islands (U.S.)                                 NaN             NaN   \n",
       "World                                                 NaN             NaN   \n",
       "\n",
       "                                 eco_footprint  education  nominal_GDP  \\\n",
       "country                                                                  \n",
       "Albania                                   2.21      0.745       1677.0   \n",
       "Algeria                                   2.12      0.664     163812.0   \n",
       "Andorra                                    NaN      0.714       3213.0   \n",
       "Argentina                                 3.14      0.816     455172.0   \n",
       "Armenia                                   2.23      0.749      13612.0   \n",
       "...                                        ...        ...          ...   \n",
       "Sub-Saharan Africa (IDA & IBRD)            NaN        NaN          NaN   \n",
       "Upper middle income                        NaN        NaN          NaN   \n",
       "St. Vincent and the Grenadines             NaN        NaN          NaN   \n",
       "Virgin Islands (U.S.)                      NaN        NaN          NaN   \n",
       "World                                      NaN        NaN          NaN   \n",
       "\n",
       "                                 inequality  life_expectancy  happiness  \n",
       "country                                                                  \n",
       "Albania                                33.2        78.573000      5.117  \n",
       "Algeria                                27.6        76.880000      4.887  \n",
       "Andorra                                 NaN              NaN        NaN  \n",
       "Argentina                              41.4        76.667000      5.929  \n",
       "Armenia                                34.4        75.087000      5.283  \n",
       "...                                     ...              ...        ...  \n",
       "Sub-Saharan Africa (IDA & IBRD)         NaN        61.627443        NaN  \n",
       "Upper middle income                     NaN        75.946931        NaN  \n",
       "St. Vincent and the Grenadines          NaN        72.534000        NaN  \n",
       "Virgin Islands (U.S.)                   NaN        79.668293        NaN  \n",
       "World                                   NaN        72.747132        NaN  \n",
       "\n",
       "[284 rows x 9 columns]"
      ]
     },
     "execution_count": 38,
     "metadata": {},
     "output_type": "execute_result"
    }
   ],
   "source": [
    "data"
   ]
  },
  {
   "cell_type": "code",
   "execution_count": 39,
   "id": "b696d66a",
   "metadata": {},
   "outputs": [
    {
     "name": "stdout",
     "output_type": "stream",
     "text": [
      "<class 'pandas.core.frame.DataFrame'>\n",
      "Index: 284 entries, Albania to World\n",
      "Data columns (total 9 columns):\n",
      " #   Column                    Non-Null Count  Dtype  \n",
      "---  ------                    --------------  -----  \n",
      " 0   tradition_secularism      99 non-null     float64\n",
      " 1   survival_self-expression  99 non-null     float64\n",
      " 2   unpeacefulness            163 non-null    float64\n",
      " 3   eco_footprint             187 non-null    float64\n",
      " 4   education                 189 non-null    float64\n",
      " 5   nominal_GDP               196 non-null    float64\n",
      " 6   inequality                165 non-null    float64\n",
      " 7   life_expectancy           241 non-null    float64\n",
      " 8   happiness                 146 non-null    float64\n",
      "dtypes: float64(9)\n",
      "memory usage: 22.2+ KB\n"
     ]
    }
   ],
   "source": [
    "data.info()"
   ]
  },
  {
   "cell_type": "code",
   "execution_count": 40,
   "id": "87e78af3",
   "metadata": {},
   "outputs": [],
   "source": [
    "dataredux=data[data['tradition_secularism'].notna()]"
   ]
  },
  {
   "cell_type": "code",
   "execution_count": 41,
   "id": "0dc43d84",
   "metadata": {},
   "outputs": [],
   "source": [
    "counter=0\n",
    "for cell in dataredux['tradition_secularism']:\n",
    "    if str(cell) == 'NaN':\n",
    "        print (dataredux.iloc[[counter]])\n",
    "    counter+=1"
   ]
  },
  {
   "cell_type": "code",
   "execution_count": 42,
   "id": "4e05938f",
   "metadata": {},
   "outputs": [
    {
     "name": "stdout",
     "output_type": "stream",
     "text": [
      "<class 'pandas.core.frame.DataFrame'>\n",
      "Index: 99 entries, Albania to Germany\n",
      "Data columns (total 9 columns):\n",
      " #   Column                    Non-Null Count  Dtype  \n",
      "---  ------                    --------------  -----  \n",
      " 0   tradition_secularism      99 non-null     float64\n",
      " 1   survival_self-expression  99 non-null     float64\n",
      " 2   unpeacefulness            89 non-null     float64\n",
      " 3   eco_footprint             89 non-null     float64\n",
      " 4   education                 93 non-null     float64\n",
      " 5   nominal_GDP               94 non-null     float64\n",
      " 6   inequality                90 non-null     float64\n",
      " 7   life_expectancy           92 non-null     float64\n",
      " 8   happiness                 91 non-null     float64\n",
      "dtypes: float64(9)\n",
      "memory usage: 7.7+ KB\n"
     ]
    }
   ],
   "source": [
    "dataredux.info()"
   ]
  },
  {
   "cell_type": "code",
   "execution_count": 43,
   "id": "046f796f",
   "metadata": {
    "scrolled": true
   },
   "outputs": [
    {
     "data": {
      "text/html": [
       "<div>\n",
       "<style scoped>\n",
       "    .dataframe tbody tr th:only-of-type {\n",
       "        vertical-align: middle;\n",
       "    }\n",
       "\n",
       "    .dataframe tbody tr th {\n",
       "        vertical-align: top;\n",
       "    }\n",
       "\n",
       "    .dataframe thead th {\n",
       "        text-align: right;\n",
       "    }\n",
       "</style>\n",
       "<table border=\"1\" class=\"dataframe\">\n",
       "  <thead>\n",
       "    <tr style=\"text-align: right;\">\n",
       "      <th></th>\n",
       "      <th>tradition_secularism</th>\n",
       "      <th>survival_self-expression</th>\n",
       "      <th>unpeacefulness</th>\n",
       "      <th>eco_footprint</th>\n",
       "      <th>education</th>\n",
       "      <th>nominal_GDP</th>\n",
       "      <th>inequality</th>\n",
       "      <th>life_expectancy</th>\n",
       "      <th>happiness</th>\n",
       "    </tr>\n",
       "    <tr>\n",
       "      <th>country</th>\n",
       "      <th></th>\n",
       "      <th></th>\n",
       "      <th></th>\n",
       "      <th></th>\n",
       "      <th></th>\n",
       "      <th></th>\n",
       "      <th></th>\n",
       "      <th></th>\n",
       "      <th></th>\n",
       "    </tr>\n",
       "  </thead>\n",
       "  <tbody>\n",
       "    <tr>\n",
       "      <th>Albania</th>\n",
       "      <td>0.070</td>\n",
       "      <td>-1.14</td>\n",
       "      <td>1.821</td>\n",
       "      <td>2.21</td>\n",
       "      <td>0.745</td>\n",
       "      <td>1677.0</td>\n",
       "      <td>33.2</td>\n",
       "      <td>78.573000</td>\n",
       "      <td>5.117</td>\n",
       "    </tr>\n",
       "    <tr>\n",
       "      <th>Algeria</th>\n",
       "      <td>-1.480</td>\n",
       "      <td>-0.74</td>\n",
       "      <td>2.219</td>\n",
       "      <td>2.12</td>\n",
       "      <td>0.664</td>\n",
       "      <td>163812.0</td>\n",
       "      <td>27.6</td>\n",
       "      <td>76.880000</td>\n",
       "      <td>4.887</td>\n",
       "    </tr>\n",
       "    <tr>\n",
       "      <th>Andorra</th>\n",
       "      <td>0.800</td>\n",
       "      <td>1.62</td>\n",
       "      <td>NaN</td>\n",
       "      <td>NaN</td>\n",
       "      <td>0.714</td>\n",
       "      <td>3213.0</td>\n",
       "      <td>NaN</td>\n",
       "      <td>NaN</td>\n",
       "      <td>NaN</td>\n",
       "    </tr>\n",
       "    <tr>\n",
       "      <th>Argentina</th>\n",
       "      <td>-0.660</td>\n",
       "      <td>0.38</td>\n",
       "      <td>1.989</td>\n",
       "      <td>3.14</td>\n",
       "      <td>0.816</td>\n",
       "      <td>455172.0</td>\n",
       "      <td>41.4</td>\n",
       "      <td>76.667000</td>\n",
       "      <td>5.929</td>\n",
       "    </tr>\n",
       "    <tr>\n",
       "      <th>Armenia</th>\n",
       "      <td>0.550</td>\n",
       "      <td>-1.31</td>\n",
       "      <td>2.294</td>\n",
       "      <td>2.23</td>\n",
       "      <td>0.749</td>\n",
       "      <td>13612.0</td>\n",
       "      <td>34.4</td>\n",
       "      <td>75.087000</td>\n",
       "      <td>5.283</td>\n",
       "    </tr>\n",
       "    <tr>\n",
       "      <th>...</th>\n",
       "      <td>...</td>\n",
       "      <td>...</td>\n",
       "      <td>...</td>\n",
       "      <td>...</td>\n",
       "      <td>...</td>\n",
       "      <td>...</td>\n",
       "      <td>...</td>\n",
       "      <td>...</td>\n",
       "      <td>...</td>\n",
       "    </tr>\n",
       "    <tr>\n",
       "      <th>Venezuela</th>\n",
       "      <td>-1.600</td>\n",
       "      <td>0.43</td>\n",
       "      <td>2.671</td>\n",
       "      <td>3.57</td>\n",
       "      <td>0.741</td>\n",
       "      <td>44893.0</td>\n",
       "      <td>39.0</td>\n",
       "      <td>72.064000</td>\n",
       "      <td>4.892</td>\n",
       "    </tr>\n",
       "    <tr>\n",
       "      <th>Vietnam</th>\n",
       "      <td>-0.300</td>\n",
       "      <td>-0.26</td>\n",
       "      <td>1.877</td>\n",
       "      <td>1.65</td>\n",
       "      <td>0.626</td>\n",
       "      <td>368002.0</td>\n",
       "      <td>35.7</td>\n",
       "      <td>75.400000</td>\n",
       "      <td>5.411</td>\n",
       "    </tr>\n",
       "    <tr>\n",
       "      <th>Zambia</th>\n",
       "      <td>-0.770</td>\n",
       "      <td>-0.62</td>\n",
       "      <td>1.805</td>\n",
       "      <td>0.99</td>\n",
       "      <td>0.580</td>\n",
       "      <td>21699.0</td>\n",
       "      <td>57.1</td>\n",
       "      <td>63.886000</td>\n",
       "      <td>4.073</td>\n",
       "    </tr>\n",
       "    <tr>\n",
       "      <th>Zimbabwe</th>\n",
       "      <td>-1.500</td>\n",
       "      <td>-1.36</td>\n",
       "      <td>2.463</td>\n",
       "      <td>1.37</td>\n",
       "      <td>0.558</td>\n",
       "      <td>25791.0</td>\n",
       "      <td>44.3</td>\n",
       "      <td>61.490000</td>\n",
       "      <td>3.145</td>\n",
       "    </tr>\n",
       "    <tr>\n",
       "      <th>Germany</th>\n",
       "      <td>1.385</td>\n",
       "      <td>0.50</td>\n",
       "      <td>1.547</td>\n",
       "      <td>5.30</td>\n",
       "      <td>0.940</td>\n",
       "      <td>4230172.0</td>\n",
       "      <td>31.9</td>\n",
       "      <td>80.941463</td>\n",
       "      <td>7.155</td>\n",
       "    </tr>\n",
       "  </tbody>\n",
       "</table>\n",
       "<p>99 rows × 9 columns</p>\n",
       "</div>"
      ],
      "text/plain": [
       "           tradition_secularism  survival_self-expression  unpeacefulness  \\\n",
       "country                                                                     \n",
       "Albania                   0.070                     -1.14           1.821   \n",
       "Algeria                  -1.480                     -0.74           2.219   \n",
       "Andorra                   0.800                      1.62             NaN   \n",
       "Argentina                -0.660                      0.38           1.989   \n",
       "Armenia                   0.550                     -1.31           2.294   \n",
       "...                         ...                       ...             ...   \n",
       "Venezuela                -1.600                      0.43           2.671   \n",
       "Vietnam                  -0.300                     -0.26           1.877   \n",
       "Zambia                   -0.770                     -0.62           1.805   \n",
       "Zimbabwe                 -1.500                     -1.36           2.463   \n",
       "Germany                   1.385                      0.50           1.547   \n",
       "\n",
       "           eco_footprint  education  nominal_GDP  inequality  life_expectancy  \\\n",
       "country                                                                         \n",
       "Albania             2.21      0.745       1677.0        33.2        78.573000   \n",
       "Algeria             2.12      0.664     163812.0        27.6        76.880000   \n",
       "Andorra              NaN      0.714       3213.0         NaN              NaN   \n",
       "Argentina           3.14      0.816     455172.0        41.4        76.667000   \n",
       "Armenia             2.23      0.749      13612.0        34.4        75.087000   \n",
       "...                  ...        ...          ...         ...              ...   \n",
       "Venezuela           3.57      0.741      44893.0        39.0        72.064000   \n",
       "Vietnam             1.65      0.626     368002.0        35.7        75.400000   \n",
       "Zambia              0.99      0.580      21699.0        57.1        63.886000   \n",
       "Zimbabwe            1.37      0.558      25791.0        44.3        61.490000   \n",
       "Germany             5.30      0.940    4230172.0        31.9        80.941463   \n",
       "\n",
       "           happiness  \n",
       "country               \n",
       "Albania        5.117  \n",
       "Algeria        4.887  \n",
       "Andorra          NaN  \n",
       "Argentina      5.929  \n",
       "Armenia        5.283  \n",
       "...              ...  \n",
       "Venezuela      4.892  \n",
       "Vietnam        5.411  \n",
       "Zambia         4.073  \n",
       "Zimbabwe       3.145  \n",
       "Germany        7.155  \n",
       "\n",
       "[99 rows x 9 columns]"
      ]
     },
     "execution_count": 43,
     "metadata": {},
     "output_type": "execute_result"
    }
   ],
   "source": [
    "dataredux"
   ]
  },
  {
   "cell_type": "code",
   "execution_count": 44,
   "id": "9972d3ad",
   "metadata": {},
   "outputs": [
    {
     "name": "stderr",
     "output_type": "stream",
     "text": [
      "C:\\Users\\x\\anaconda3\\lib\\site-packages\\pandas\\util\\_decorators.py:311: SettingWithCopyWarning: \n",
      "A value is trying to be set on a copy of a slice from a DataFrame\n",
      "\n",
      "See the caveats in the documentation: https://pandas.pydata.org/pandas-docs/stable/user_guide/indexing.html#returning-a-view-versus-a-copy\n",
      "  return func(*args, **kwargs)\n"
     ]
    }
   ],
   "source": [
    "for column in dataredux:\n",
    "    dataredux.dropna(subset=[column], how='all', inplace=True)"
   ]
  },
  {
   "cell_type": "code",
   "execution_count": 45,
   "id": "707d97f8",
   "metadata": {},
   "outputs": [
    {
     "name": "stdout",
     "output_type": "stream",
     "text": [
      "<class 'pandas.core.frame.DataFrame'>\n",
      "Index: 85 entries, Albania to Germany\n",
      "Data columns (total 9 columns):\n",
      " #   Column                    Non-Null Count  Dtype  \n",
      "---  ------                    --------------  -----  \n",
      " 0   tradition_secularism      85 non-null     float64\n",
      " 1   survival_self-expression  85 non-null     float64\n",
      " 2   unpeacefulness            85 non-null     float64\n",
      " 3   eco_footprint             85 non-null     float64\n",
      " 4   education                 85 non-null     float64\n",
      " 5   nominal_GDP               85 non-null     float64\n",
      " 6   inequality                85 non-null     float64\n",
      " 7   life_expectancy           85 non-null     float64\n",
      " 8   happiness                 85 non-null     float64\n",
      "dtypes: float64(9)\n",
      "memory usage: 6.6+ KB\n"
     ]
    }
   ],
   "source": [
    "dataredux.info()"
   ]
  },
  {
   "cell_type": "markdown",
   "id": "57358e1e",
   "metadata": {},
   "source": [
    "# Now that we have a dataframe, let's make some clusters"
   ]
  },
  {
   "cell_type": "markdown",
   "id": "6965cae9",
   "metadata": {},
   "source": [
    "## First we will try doing them scaling the data"
   ]
  },
  {
   "cell_type": "code",
   "execution_count": 46,
   "id": "c1ff7020",
   "metadata": {},
   "outputs": [],
   "source": [
    "scaler=StandardScaler()"
   ]
  },
  {
   "cell_type": "code",
   "execution_count": 47,
   "id": "04dfc9ba",
   "metadata": {},
   "outputs": [
    {
     "data": {
      "text/plain": [
       "StandardScaler()"
      ]
     },
     "execution_count": 47,
     "metadata": {},
     "output_type": "execute_result"
    }
   ],
   "source": [
    "scaler.fit(dataredux)"
   ]
  },
  {
   "cell_type": "code",
   "execution_count": 48,
   "id": "3b88b586",
   "metadata": {},
   "outputs": [
    {
     "data": {
      "text/plain": [
       "array([-2.99588235e-01, -5.84705882e-02,  2.00600000e+00,  3.60658824e+00,\n",
       "        7.29635294e-01,  1.01238093e+06,  3.63058824e+01,  7.55674126e+01,\n",
       "        5.77791765e+00])"
      ]
     },
     "execution_count": 48,
     "metadata": {},
     "output_type": "execute_result"
    }
   ],
   "source": [
    "scaler.mean_"
   ]
  },
  {
   "cell_type": "code",
   "execution_count": 49,
   "id": "4bda4b32",
   "metadata": {},
   "outputs": [],
   "source": [
    "array_scaled_redux=scaler.transform(dataredux)"
   ]
  },
  {
   "cell_type": "code",
   "execution_count": 50,
   "id": "11f22e37",
   "metadata": {},
   "outputs": [],
   "source": [
    "scaled_redux=pd.DataFrame(array_scaled_redux,columns=[\"tradition_secularism\", \"survival_self-expression\", \"unpeacefulness\", \"eco_footprint\", \"education\", \"nominal_GDP\", \"inequality\", \"life_expectancy\", \"happiness\"])"
   ]
  },
  {
   "cell_type": "code",
   "execution_count": 51,
   "id": "d93e3a99",
   "metadata": {},
   "outputs": [
    {
     "data": {
      "image/png": "[encoded data removed]",
      "text/plain": [
       "<Figure size 1080x1080 with 9 Axes>"
      ]
     },
     "metadata": {
      "needs_background": "light"
     },
     "output_type": "display_data"
    }
   ],
   "source": [
    "# let's see if the data has changed while scaling\n",
    "dataredux.hist(bins=15,figsize=(15,15));"
   ]
  },
  {
   "cell_type": "code",
   "execution_count": 52,
   "id": "bea78124",
   "metadata": {},
   "outputs": [
    {
     "data": {
      "image/png": "[encoded data removed]",
      "text/plain": [
       "<Figure size 1080x1080 with 9 Axes>"
      ]
     },
     "metadata": {
      "needs_background": "light"
     },
     "output_type": "display_data"
    }
   ],
   "source": [
    "scaled_redux.hist(bins=15,figsize=(15,15));"
   ]
  },
  {
   "cell_type": "code",
   "execution_count": 53,
   "id": "85cdc313",
   "metadata": {},
   "outputs": [],
   "source": [
    "# they are unchanged, so we will continue\n",
    "K_Means=KMeans(n_clusters=10,random_state=5)"
   ]
  },
  {
   "cell_type": "code",
   "execution_count": 54,
   "id": "4e07ac4e",
   "metadata": {},
   "outputs": [],
   "source": [
    "clusters=K_Means.fit(scaled_redux)"
   ]
  },
  {
   "cell_type": "code",
   "execution_count": 55,
   "id": "1bab61e7",
   "metadata": {},
   "outputs": [],
   "source": [
    "scaled_redux['cluster']=clusters.labels_"
   ]
  },
  {
   "cell_type": "code",
   "execution_count": 56,
   "id": "c9a33d1a",
   "metadata": {},
   "outputs": [
    {
     "data": {
      "text/plain": [
       "3    15\n",
       "5    13\n",
       "6    13\n",
       "0    11\n",
       "1    11\n",
       "4    10\n",
       "8     8\n",
       "7     2\n",
       "9     1\n",
       "2     1\n",
       "Name: cluster, dtype: int64"
      ]
     },
     "execution_count": 56,
     "metadata": {},
     "output_type": "execute_result"
    }
   ],
   "source": [
    "scaled_redux['cluster'].value_counts()"
   ]
  },
  {
   "cell_type": "code",
   "execution_count": 57,
   "id": "50d5aa1e",
   "metadata": {},
   "outputs": [],
   "source": [
    "scaled_redux.index=dataredux.index"
   ]
  },
  {
   "cell_type": "code",
   "execution_count": 58,
   "id": "e6f226da",
   "metadata": {},
   "outputs": [
    {
     "data": {
      "text/html": [
       "<div>\n",
       "<style scoped>\n",
       "    .dataframe tbody tr th:only-of-type {\n",
       "        vertical-align: middle;\n",
       "    }\n",
       "\n",
       "    .dataframe tbody tr th {\n",
       "        vertical-align: top;\n",
       "    }\n",
       "\n",
       "    .dataframe thead th {\n",
       "        text-align: right;\n",
       "    }\n",
       "</style>\n",
       "<table border=\"1\" class=\"dataframe\">\n",
       "  <thead>\n",
       "    <tr style=\"text-align: right;\">\n",
       "      <th></th>\n",
       "      <th>tradition_secularism</th>\n",
       "      <th>survival_self-expression</th>\n",
       "      <th>unpeacefulness</th>\n",
       "      <th>eco_footprint</th>\n",
       "      <th>education</th>\n",
       "      <th>nominal_GDP</th>\n",
       "      <th>inequality</th>\n",
       "      <th>life_expectancy</th>\n",
       "      <th>happiness</th>\n",
       "      <th>cluster</th>\n",
       "    </tr>\n",
       "    <tr>\n",
       "      <th>country</th>\n",
       "      <th></th>\n",
       "      <th></th>\n",
       "      <th></th>\n",
       "      <th></th>\n",
       "      <th></th>\n",
       "      <th></th>\n",
       "      <th></th>\n",
       "      <th></th>\n",
       "      <th></th>\n",
       "      <th></th>\n",
       "    </tr>\n",
       "  </thead>\n",
       "  <tbody>\n",
       "    <tr>\n",
       "      <th>Albania</th>\n",
       "      <td>0.372103</td>\n",
       "      <td>-1.087243</td>\n",
       "      <td>-0.377554</td>\n",
       "      <td>-0.682703</td>\n",
       "      <td>0.098970</td>\n",
       "      <td>-0.325817</td>\n",
       "      <td>-0.437767</td>\n",
       "      <td>0.478484</td>\n",
       "      <td>-0.651899</td>\n",
       "      <td>5</td>\n",
       "    </tr>\n",
       "    <tr>\n",
       "      <th>Algeria</th>\n",
       "      <td>-1.188444</td>\n",
       "      <td>-0.685130</td>\n",
       "      <td>0.434697</td>\n",
       "      <td>-0.726698</td>\n",
       "      <td>-0.422782</td>\n",
       "      <td>-0.273550</td>\n",
       "      <td>-1.227075</td>\n",
       "      <td>0.208962</td>\n",
       "      <td>-0.878760</td>\n",
       "      <td>0</td>\n",
       "    </tr>\n",
       "    <tr>\n",
       "      <th>Argentina</th>\n",
       "      <td>-0.362864</td>\n",
       "      <td>0.440787</td>\n",
       "      <td>-0.034694</td>\n",
       "      <td>-0.228085</td>\n",
       "      <td>0.556308</td>\n",
       "      <td>-0.179626</td>\n",
       "      <td>0.718005</td>\n",
       "      <td>0.175052</td>\n",
       "      <td>0.149021</td>\n",
       "      <td>1</td>\n",
       "    </tr>\n",
       "    <tr>\n",
       "      <th>Armenia</th>\n",
       "      <td>0.855369</td>\n",
       "      <td>-1.258142</td>\n",
       "      <td>0.587760</td>\n",
       "      <td>-0.672926</td>\n",
       "      <td>0.124736</td>\n",
       "      <td>-0.321970</td>\n",
       "      <td>-0.268630</td>\n",
       "      <td>-0.076481</td>\n",
       "      <td>-0.488164</td>\n",
       "      <td>5</td>\n",
       "    </tr>\n",
       "    <tr>\n",
       "      <th>Australia</th>\n",
       "      <td>0.513056</td>\n",
       "      <td>1.818025</td>\n",
       "      <td>-1.197969</td>\n",
       "      <td>2.788035</td>\n",
       "      <td>1.284185</td>\n",
       "      <td>0.192832</td>\n",
       "      <td>-0.268630</td>\n",
       "      <td>1.167336</td>\n",
       "      <td>1.385908</td>\n",
       "      <td>3</td>\n",
       "    </tr>\n",
       "    <tr>\n",
       "      <th>...</th>\n",
       "      <td>...</td>\n",
       "      <td>...</td>\n",
       "      <td>...</td>\n",
       "      <td>...</td>\n",
       "      <td>...</td>\n",
       "      <td>...</td>\n",
       "      <td>...</td>\n",
       "      <td>...</td>\n",
       "      <td>...</td>\n",
       "      <td>...</td>\n",
       "    </tr>\n",
       "    <tr>\n",
       "      <th>Venezuela</th>\n",
       "      <td>-1.309261</td>\n",
       "      <td>0.491051</td>\n",
       "      <td>1.357153</td>\n",
       "      <td>-0.017886</td>\n",
       "      <td>0.073204</td>\n",
       "      <td>-0.311886</td>\n",
       "      <td>0.379730</td>\n",
       "      <td>-0.557737</td>\n",
       "      <td>-0.873828</td>\n",
       "      <td>6</td>\n",
       "    </tr>\n",
       "    <tr>\n",
       "      <th>Vietnam</th>\n",
       "      <td>-0.000415</td>\n",
       "      <td>-0.202594</td>\n",
       "      <td>-0.263267</td>\n",
       "      <td>-0.956451</td>\n",
       "      <td>-0.667555</td>\n",
       "      <td>-0.207726</td>\n",
       "      <td>-0.085398</td>\n",
       "      <td>-0.026652</td>\n",
       "      <td>-0.361911</td>\n",
       "      <td>0</td>\n",
       "    </tr>\n",
       "    <tr>\n",
       "      <th>Zambia</th>\n",
       "      <td>-0.473613</td>\n",
       "      <td>-0.564496</td>\n",
       "      <td>-0.410207</td>\n",
       "      <td>-1.279083</td>\n",
       "      <td>-0.963858</td>\n",
       "      <td>-0.319363</td>\n",
       "      <td>2.930885</td>\n",
       "      <td>-1.859661</td>\n",
       "      <td>-1.681652</td>\n",
       "      <td>7</td>\n",
       "    </tr>\n",
       "    <tr>\n",
       "      <th>Zimbabwe</th>\n",
       "      <td>-1.208580</td>\n",
       "      <td>-1.308406</td>\n",
       "      <td>0.932660</td>\n",
       "      <td>-1.093325</td>\n",
       "      <td>-1.105569</td>\n",
       "      <td>-0.318044</td>\n",
       "      <td>1.126753</td>\n",
       "      <td>-2.241100</td>\n",
       "      <td>-2.596989</td>\n",
       "      <td>4</td>\n",
       "    </tr>\n",
       "    <tr>\n",
       "      <th>Germany</th>\n",
       "      <td>1.696051</td>\n",
       "      <td>0.561421</td>\n",
       "      <td>-0.936742</td>\n",
       "      <td>0.827801</td>\n",
       "      <td>1.355040</td>\n",
       "      <td>1.037308</td>\n",
       "      <td>-0.620999</td>\n",
       "      <td>0.855540</td>\n",
       "      <td>1.358291</td>\n",
       "      <td>3</td>\n",
       "    </tr>\n",
       "  </tbody>\n",
       "</table>\n",
       "<p>85 rows × 10 columns</p>\n",
       "</div>"
      ],
      "text/plain": [
       "           tradition_secularism  survival_self-expression  unpeacefulness  \\\n",
       "country                                                                     \n",
       "Albania                0.372103                 -1.087243       -0.377554   \n",
       "Algeria               -1.188444                 -0.685130        0.434697   \n",
       "Argentina             -0.362864                  0.440787       -0.034694   \n",
       "Armenia                0.855369                 -1.258142        0.587760   \n",
       "Australia              0.513056                  1.818025       -1.197969   \n",
       "...                         ...                       ...             ...   \n",
       "Venezuela             -1.309261                  0.491051        1.357153   \n",
       "Vietnam               -0.000415                 -0.202594       -0.263267   \n",
       "Zambia                -0.473613                 -0.564496       -0.410207   \n",
       "Zimbabwe              -1.208580                 -1.308406        0.932660   \n",
       "Germany                1.696051                  0.561421       -0.936742   \n",
       "\n",
       "           eco_footprint  education  nominal_GDP  inequality  life_expectancy  \\\n",
       "country                                                                         \n",
       "Albania        -0.682703   0.098970    -0.325817   -0.437767         0.478484   \n",
       "Algeria        -0.726698  -0.422782    -0.273550   -1.227075         0.208962   \n",
       "Argentina      -0.228085   0.556308    -0.179626    0.718005         0.175052   \n",
       "Armenia        -0.672926   0.124736    -0.321970   -0.268630        -0.076481   \n",
       "Australia       2.788035   1.284185     0.192832   -0.268630         1.167336   \n",
       "...                  ...        ...          ...         ...              ...   \n",
       "Venezuela      -0.017886   0.073204    -0.311886    0.379730        -0.557737   \n",
       "Vietnam        -0.956451  -0.667555    -0.207726   -0.085398        -0.026652   \n",
       "Zambia         -1.279083  -0.963858    -0.319363    2.930885        -1.859661   \n",
       "Zimbabwe       -1.093325  -1.105569    -0.318044    1.126753        -2.241100   \n",
       "Germany         0.827801   1.355040     1.037308   -0.620999         0.855540   \n",
       "\n",
       "           happiness  cluster  \n",
       "country                        \n",
       "Albania    -0.651899        5  \n",
       "Algeria    -0.878760        0  \n",
       "Argentina   0.149021        1  \n",
       "Armenia    -0.488164        5  \n",
       "Australia   1.385908        3  \n",
       "...              ...      ...  \n",
       "Venezuela  -0.873828        6  \n",
       "Vietnam    -0.361911        0  \n",
       "Zambia     -1.681652        7  \n",
       "Zimbabwe   -2.596989        4  \n",
       "Germany     1.358291        3  \n",
       "\n",
       "[85 rows x 10 columns]"
      ]
     },
     "execution_count": 58,
     "metadata": {},
     "output_type": "execute_result"
    }
   ],
   "source": [
    "scaled_redux"
   ]
  },
  {
   "cell_type": "markdown",
   "id": "5fe8ebe3",
   "metadata": {},
   "source": [
    "# Definitive clusters\n",
    "## First we have to find the optimum number of clusters (K)"
   ]
  },
  {
   "cell_type": "code",
   "execution_count": 59,
   "id": "e3297e2d",
   "metadata": {},
   "outputs": [],
   "source": [
    "scaled_redux=scaled_redux.drop('cluster',axis=1)"
   ]
  },
  {
   "cell_type": "code",
   "execution_count": 60,
   "id": "7085933e",
   "metadata": {},
   "outputs": [],
   "source": [
    "K=range(2,25)\n",
    "inertia=[]\n",
    "for k in K:\n",
    "    kmeans=KMeans(n_clusters=k,random_state=5)\n",
    "    kmeans.fit(scaled_redux)\n",
    "    inertia.append(kmeans.inertia_)"
   ]
  },
  {
   "cell_type": "code",
   "execution_count": 61,
   "id": "9c37f9dc",
   "metadata": {
    "scrolled": false
   },
   "outputs": [
    {
     "data": {
      "image/png": "[encoded data removed]",
      "text/plain": [
       "<Figure size 1440x1440 with 1 Axes>"
      ]
     },
     "metadata": {
      "needs_background": "light"
     },
     "output_type": "display_data"
    }
   ],
   "source": [
    "# let's see the elbow\n",
    "\n",
    "plt.figure(figsize=(20,20))\n",
    "plt.plot(K,inertia,'bx-')\n",
    "plt.xlabel('number of clusters')\n",
    "plt.ylabel('inertia')\n",
    "plt.xticks(np.arange(min(K),max(K)+1,1.0));\n",
    "\n",
    "# it's not really clear where the elbow is... could be 17?"
   ]
  },
  {
   "cell_type": "code",
   "execution_count": 62,
   "id": "fe6f9a2f",
   "metadata": {},
   "outputs": [],
   "source": [
    "K=range(2,25)\n",
    "sil=[]\n",
    "for k in K:\n",
    "    kmeans=KMeans(n_clusters=k,random_state=5)\n",
    "    kmeans.fit(scaled_redux)\n",
    "    sil.append(silhouette_score(scaled_redux,kmeans.predict(scaled_redux)))"
   ]
  },
  {
   "cell_type": "code",
   "execution_count": 63,
   "id": "0df1c76e",
   "metadata": {},
   "outputs": [
    {
     "data": {
      "image/png": "[encoded data removed]",
      "text/plain": [
       "<Figure size 1152x576 with 1 Axes>"
      ]
     },
     "metadata": {
      "needs_background": "light"
     },
     "output_type": "display_data"
    }
   ],
   "source": [
    "# and now, the silhouette score\n",
    "\n",
    "plt.figure(figsize=(16,8))\n",
    "plt.plot(K,sil,'bo-')\n",
    "plt.xlabel('number of clusters')\n",
    "plt.ylabel('silhouette')\n",
    "plt.xticks(np.arange(min(K),max(K)+1,1.0));\n",
    "\n",
    "# we will again stick with 5"
   ]
  },
  {
   "cell_type": "markdown",
   "id": "5274d1d2",
   "metadata": {},
   "source": [
    "## Now we will apply the 5 clusters to the dataframe"
   ]
  },
  {
   "cell_type": "code",
   "execution_count": 64,
   "id": "cbf91fb1",
   "metadata": {},
   "outputs": [],
   "source": [
    "kmeans=KMeans(n_clusters=5, random_state=5)"
   ]
  },
  {
   "cell_type": "code",
   "execution_count": 65,
   "id": "81e9d3a0",
   "metadata": {},
   "outputs": [],
   "source": [
    "clusters=kmeans.fit(scaled_redux)"
   ]
  },
  {
   "cell_type": "code",
   "execution_count": 66,
   "id": "b1ecd13e",
   "metadata": {},
   "outputs": [],
   "source": [
    "scaled_redux['cluster']=clusters.labels_"
   ]
  },
  {
   "cell_type": "code",
   "execution_count": 67,
   "id": "1429c806",
   "metadata": {},
   "outputs": [],
   "source": [
    "scaled_redux.to_csv('scaled clusters no religion.csv')"
   ]
  }
 ],
 "metadata": {
  "kernelspec": {
   "display_name": "Python 3 (ipykernel)",
   "language": "python",
   "name": "python3"
  },
  "language_info": {
   "codemirror_mode": {
    "name": "ipython",
    "version": 3
   },
   "file_extension": ".py",
   "mimetype": "text/x-python",
   "name": "python",
   "nbconvert_exporter": "python",
   "pygments_lexer": "ipython3",
   "version": "3.9.7"
  },
  "toc": {
   "base_numbering": 1,
   "nav_menu": {},
   "number_sections": true,
   "sideBar": true,
   "skip_h1_title": false,
   "title_cell": "Table of Contents",
   "title_sidebar": "Contents",
   "toc_cell": false,
   "toc_position": {},
   "toc_section_display": true,
   "toc_window_display": false
  },
  "varInspector": {
   "cols": {
    "lenName": 16,
    "lenType": 16,
    "lenVar": 40
   },
   "kernels_config": {
    "python": {
     "delete_cmd_postfix": "",
     "delete_cmd_prefix": "del ",
     "library": "var_list.py",
     "varRefreshCmd": "print(var_dic_list())"
    },
    "r": {
     "delete_cmd_postfix": ") ",
     "delete_cmd_prefix": "rm(",
     "library": "var_list.r",
     "varRefreshCmd": "cat(var_dic_list()) "
    }
   },
   "types_to_exclude": [
    "module",
    "function",
    "builtin_function_or_method",
    "instance",
    "_Feature"
   ],
   "window_display": false
  }
 },
 "nbformat": 4,
 "nbformat_minor": 5
}
