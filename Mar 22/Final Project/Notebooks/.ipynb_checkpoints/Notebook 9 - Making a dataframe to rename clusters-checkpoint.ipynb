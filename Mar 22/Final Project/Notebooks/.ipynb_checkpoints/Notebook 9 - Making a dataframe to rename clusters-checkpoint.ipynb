{
 "cells": [
  {
   "cell_type": "code",
   "execution_count": 1,
   "id": "3b17bdcc",
   "metadata": {},
   "outputs": [],
   "source": [
    "import numpy as np\n",
    "import pandas as pd\n",
    "from functools import reduce"
   ]
  },
  {
   "cell_type": "code",
   "execution_count": 2,
   "id": "4197cf1f",
   "metadata": {},
   "outputs": [],
   "source": [
    "IW = pd.read_csv('IW clusters.csv')\n",
    "HDI = pd.read_csv('HDI clusters.csv')\n",
    "FULL = pd.read_csv('scaled clusters.csv')\n",
    "NO_IW = pd.read_csv('scaled clusters no IW.csv')"
   ]
  },
  {
   "cell_type": "code",
   "execution_count": 3,
   "id": "cac76ed0",
   "metadata": {},
   "outputs": [
    {
     "name": "stdout",
     "output_type": "stream",
     "text": [
      "<class 'pandas.core.frame.DataFrame'>\n",
      "RangeIndex: 99 entries, 0 to 98\n",
      "Data columns (total 4 columns):\n",
      " #   Column                    Non-Null Count  Dtype  \n",
      "---  ------                    --------------  -----  \n",
      " 0   country                   99 non-null     object \n",
      " 1   tradition_secularism      99 non-null     float64\n",
      " 2   survival_self-expression  99 non-null     float64\n",
      " 3   cluster                   99 non-null     int64  \n",
      "dtypes: float64(2), int64(1), object(1)\n",
      "memory usage: 3.2+ KB\n"
     ]
    }
   ],
   "source": [
    "IW.info()"
   ]
  },
  {
   "cell_type": "code",
   "execution_count": 4,
   "id": "7e8d0ef8",
   "metadata": {},
   "outputs": [],
   "source": [
    "IW = IW.rename(columns = {'cluster':'cluster_IW'})"
   ]
  },
  {
   "cell_type": "code",
   "execution_count": 5,
   "id": "72c8cb14",
   "metadata": {},
   "outputs": [
    {
     "name": "stdout",
     "output_type": "stream",
     "text": [
      "<class 'pandas.core.frame.DataFrame'>\n",
      "RangeIndex: 189 entries, 0 to 188\n",
      "Data columns (total 6 columns):\n",
      " #   Column                                  Non-Null Count  Dtype  \n",
      "---  ------                                  --------------  -----  \n",
      " 0   Country                                 189 non-null    object \n",
      " 1   Life expectancy at birth                189 non-null    float64\n",
      " 2   Expected years of schooling             189 non-null    float64\n",
      " 3   Mean years of schooling                 189 non-null    float64\n",
      " 4   Gross national income (GNI) per capita  189 non-null    float64\n",
      " 5   cluster                                 189 non-null    int64  \n",
      "dtypes: float64(4), int64(1), object(1)\n",
      "memory usage: 9.0+ KB\n"
     ]
    }
   ],
   "source": [
    "HDI.info()"
   ]
  },
  {
   "cell_type": "code",
   "execution_count": 6,
   "id": "3d7f18cf",
   "metadata": {},
   "outputs": [],
   "source": [
    "HDI = HDI.rename(columns = {'Country':'country', 'cluster':'cluster_HDI'})"
   ]
  },
  {
   "cell_type": "code",
   "execution_count": 7,
   "id": "8a7e2506",
   "metadata": {},
   "outputs": [
    {
     "name": "stdout",
     "output_type": "stream",
     "text": [
      "<class 'pandas.core.frame.DataFrame'>\n",
      "RangeIndex: 85 entries, 0 to 84\n",
      "Data columns (total 19 columns):\n",
      " #   Column                    Non-Null Count  Dtype  \n",
      "---  ------                    --------------  -----  \n",
      " 0   country                   85 non-null     object \n",
      " 1   tradition_secularism      85 non-null     float64\n",
      " 2   survival_self-expression  85 non-null     float64\n",
      " 3   unpeacefulness            85 non-null     float64\n",
      " 4   eco_footprint             85 non-null     float64\n",
      " 5   education                 85 non-null     float64\n",
      " 6   nominal_GDP               85 non-null     float64\n",
      " 7   inequality                85 non-null     float64\n",
      " 8   life_expectancy           85 non-null     float64\n",
      " 9   religion_christian        85 non-null     float64\n",
      " 10  religion_muslim           85 non-null     float64\n",
      " 11  religion_unaffiliated     85 non-null     float64\n",
      " 12  religion_hinduism         85 non-null     float64\n",
      " 13  religion_buddhism         85 non-null     float64\n",
      " 14  religion_folk             85 non-null     float64\n",
      " 15  religions_other           85 non-null     float64\n",
      " 16  religion_judaism          85 non-null     float64\n",
      " 17  happiness                 85 non-null     float64\n",
      " 18  cluster                   85 non-null     int64  \n",
      "dtypes: float64(17), int64(1), object(1)\n",
      "memory usage: 12.7+ KB\n"
     ]
    }
   ],
   "source": [
    "FULL.info()"
   ]
  },
  {
   "cell_type": "code",
   "execution_count": 8,
   "id": "c6add191",
   "metadata": {},
   "outputs": [],
   "source": [
    "FULL = FULL.rename(columns = {'cluster':'cluster_FULL'})"
   ]
  },
  {
   "cell_type": "code",
   "execution_count": 9,
   "id": "5c59ed1c",
   "metadata": {},
   "outputs": [
    {
     "name": "stdout",
     "output_type": "stream",
     "text": [
      "<class 'pandas.core.frame.DataFrame'>\n",
      "RangeIndex: 85 entries, 0 to 84\n",
      "Data columns (total 11 columns):\n",
      " #   Column                    Non-Null Count  Dtype  \n",
      "---  ------                    --------------  -----  \n",
      " 0   country                   85 non-null     object \n",
      " 1   tradition_secularism      85 non-null     float64\n",
      " 2   survival_self-expression  85 non-null     float64\n",
      " 3   unpeacefulness            85 non-null     float64\n",
      " 4   eco_footprint             85 non-null     float64\n",
      " 5   education                 85 non-null     float64\n",
      " 6   nominal_GDP               85 non-null     float64\n",
      " 7   inequality                85 non-null     float64\n",
      " 8   life_expectancy           85 non-null     float64\n",
      " 9   happiness                 85 non-null     float64\n",
      " 10  cluster                   85 non-null     int64  \n",
      "dtypes: float64(9), int64(1), object(1)\n",
      "memory usage: 7.4+ KB\n"
     ]
    }
   ],
   "source": [
    "NO_IW.info()"
   ]
  },
  {
   "cell_type": "code",
   "execution_count": 10,
   "id": "52dd742a",
   "metadata": {},
   "outputs": [],
   "source": [
    "NO_IW = NO_IW.rename(columns = {'cluster':'cluster_NO_IW'})"
   ]
  },
  {
   "cell_type": "code",
   "execution_count": 11,
   "id": "e5474841",
   "metadata": {},
   "outputs": [],
   "source": [
    "data_frames = [IW, HDI, FULL, NO_IW]\n",
    "data = reduce(lambda left,right: pd.merge(left,right,on=['country'], how='outer'), data_frames)"
   ]
  },
  {
   "cell_type": "code",
   "execution_count": 12,
   "id": "f6224f9a",
   "metadata": {},
   "outputs": [
    {
     "name": "stdout",
     "output_type": "stream",
     "text": [
      "<class 'pandas.core.frame.DataFrame'>\n",
      "Int64Index: 204 entries, 0 to 203\n",
      "Data columns (total 37 columns):\n",
      " #   Column                                  Non-Null Count  Dtype  \n",
      "---  ------                                  --------------  -----  \n",
      " 0   country                                 204 non-null    object \n",
      " 1   tradition_secularism_x                  99 non-null     float64\n",
      " 2   survival_self-expression_x              99 non-null     float64\n",
      " 3   cluster_IW                              99 non-null     float64\n",
      " 4   Life expectancy at birth                189 non-null    float64\n",
      " 5   Expected years of schooling             189 non-null    float64\n",
      " 6   Mean years of schooling                 189 non-null    float64\n",
      " 7   Gross national income (GNI) per capita  189 non-null    float64\n",
      " 8   cluster_HDI                             189 non-null    float64\n",
      " 9   tradition_secularism_y                  85 non-null     float64\n",
      " 10  survival_self-expression_y              85 non-null     float64\n",
      " 11  unpeacefulness_x                        85 non-null     float64\n",
      " 12  eco_footprint_x                         85 non-null     float64\n",
      " 13  education_x                             85 non-null     float64\n",
      " 14  nominal_GDP_x                           85 non-null     float64\n",
      " 15  inequality_x                            85 non-null     float64\n",
      " 16  life_expectancy_x                       85 non-null     float64\n",
      " 17  religion_christian                      85 non-null     float64\n",
      " 18  religion_muslim                         85 non-null     float64\n",
      " 19  religion_unaffiliated                   85 non-null     float64\n",
      " 20  religion_hinduism                       85 non-null     float64\n",
      " 21  religion_buddhism                       85 non-null     float64\n",
      " 22  religion_folk                           85 non-null     float64\n",
      " 23  religions_other                         85 non-null     float64\n",
      " 24  religion_judaism                        85 non-null     float64\n",
      " 25  happiness_x                             85 non-null     float64\n",
      " 26  cluster_FULL                            85 non-null     float64\n",
      " 27  tradition_secularism                    85 non-null     float64\n",
      " 28  survival_self-expression                85 non-null     float64\n",
      " 29  unpeacefulness_y                        85 non-null     float64\n",
      " 30  eco_footprint_y                         85 non-null     float64\n",
      " 31  education_y                             85 non-null     float64\n",
      " 32  nominal_GDP_y                           85 non-null     float64\n",
      " 33  inequality_y                            85 non-null     float64\n",
      " 34  life_expectancy_y                       85 non-null     float64\n",
      " 35  happiness_y                             85 non-null     float64\n",
      " 36  cluster_NO_IW                           85 non-null     float64\n",
      "dtypes: float64(36), object(1)\n",
      "memory usage: 60.6+ KB\n"
     ]
    }
   ],
   "source": [
    "data.info()"
   ]
  },
  {
   "cell_type": "code",
   "execution_count": 14,
   "id": "f9da6ce5",
   "metadata": {},
   "outputs": [],
   "source": [
    "data2=data[['country', 'cluster_IW', 'cluster_HDI', 'cluster_FULL', 'cluster_NO_IW']].copy()"
   ]
  },
  {
   "cell_type": "code",
   "execution_count": 15,
   "id": "09637f3d",
   "metadata": {},
   "outputs": [
    {
     "name": "stdout",
     "output_type": "stream",
     "text": [
      "<class 'pandas.core.frame.DataFrame'>\n",
      "Int64Index: 204 entries, 0 to 203\n",
      "Data columns (total 5 columns):\n",
      " #   Column         Non-Null Count  Dtype  \n",
      "---  ------         --------------  -----  \n",
      " 0   country        204 non-null    object \n",
      " 1   cluster_IW     99 non-null     float64\n",
      " 2   cluster_HDI    189 non-null    float64\n",
      " 3   cluster_FULL   85 non-null     float64\n",
      " 4   cluster_NO_IW  85 non-null     float64\n",
      "dtypes: float64(4), object(1)\n",
      "memory usage: 9.6+ KB\n"
     ]
    }
   ],
   "source": [
    "data2.info()"
   ]
  },
  {
   "cell_type": "code",
   "execution_count": 16,
   "id": "fc8e8a28",
   "metadata": {},
   "outputs": [],
   "source": [
    "data2.to_excel('rename clusters.xlsx')"
   ]
  },
  {
   "cell_type": "markdown",
   "id": "f2d8ded1",
   "metadata": {},
   "source": [
    "Now that we have the exce file, we will use it there to rename the clusters with \"find and replace all\" in each column."
   ]
  }
 ],
 "metadata": {
  "kernelspec": {
   "display_name": "Python 3 (ipykernel)",
   "language": "python",
   "name": "python3"
  },
  "language_info": {
   "codemirror_mode": {
    "name": "ipython",
    "version": 3
   },
   "file_extension": ".py",
   "mimetype": "text/x-python",
   "name": "python",
   "nbconvert_exporter": "python",
   "pygments_lexer": "ipython3",
   "version": "3.9.7"
  },
  "toc": {
   "base_numbering": 1,
   "nav_menu": {},
   "number_sections": true,
   "sideBar": true,
   "skip_h1_title": false,
   "title_cell": "Table of Contents",
   "title_sidebar": "Contents",
   "toc_cell": false,
   "toc_position": {},
   "toc_section_display": true,
   "toc_window_display": false
  },
  "varInspector": {
   "cols": {
    "lenName": 16,
    "lenType": 16,
    "lenVar": 40
   },
   "kernels_config": {
    "python": {
     "delete_cmd_postfix": "",
     "delete_cmd_prefix": "del ",
     "library": "var_list.py",
     "varRefreshCmd": "print(var_dic_list())"
    },
    "r": {
     "delete_cmd_postfix": ") ",
     "delete_cmd_prefix": "rm(",
     "library": "var_list.r",
     "varRefreshCmd": "cat(var_dic_list()) "
    }
   },
   "types_to_exclude": [
    "module",
    "function",
    "builtin_function_or_method",
    "instance",
    "_Feature"
   ],
   "window_display": false
  }
 },
 "nbformat": 4,
 "nbformat_minor": 5
}
