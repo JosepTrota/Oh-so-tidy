{
 "cells": [
  {
   "cell_type": "markdown",
   "id": "9d7349fe",
   "metadata": {},
   "source": [
    "# Clean all pieces of data"
   ]
  },
  {
   "cell_type": "code",
   "execution_count": 1,
   "id": "10e47c79",
   "metadata": {},
   "outputs": [],
   "source": [
    "import pandas as pd\n",
    "import numpy as np\n",
    "import seaborn as sns\n",
    "import matplotlib.pyplot as plt\n",
    "from functools import reduce\n",
    "from sklearn.cluster import KMeans \n",
    "from sklearn.preprocessing import StandardScaler \n",
    "from sklearn.metrics import silhouette_score"
   ]
  },
  {
   "cell_type": "markdown",
   "id": "8c67d9c8",
   "metadata": {},
   "source": [
    "## First, download the data (this time, without the religions)"
   ]
  },
  {
   "cell_type": "code",
   "execution_count": 2,
   "id": "c866a9ce",
   "metadata": {},
   "outputs": [],
   "source": [
    "GPI = pd.read_excel('global peace index.xlsx')"
   ]
  },
  {
   "cell_type": "code",
   "execution_count": 3,
   "id": "cab7fbc6",
   "metadata": {},
   "outputs": [],
   "source": [
    "EF = pd.read_csv('eco footprint.csv')"
   ]
  },
  {
   "cell_type": "code",
   "execution_count": 4,
   "id": "850da22b",
   "metadata": {},
   "outputs": [],
   "source": [
    "EI = pd.read_excel('educationindex.xlsx')"
   ]
  },
  {
   "cell_type": "code",
   "execution_count": 5,
   "id": "3fba49ce",
   "metadata": {},
   "outputs": [],
   "source": [
    "GDP = pd.read_excel('GDP nominal.xlsx')"
   ]
  },
  {
   "cell_type": "code",
   "execution_count": 6,
   "id": "7cf5c730",
   "metadata": {},
   "outputs": [],
   "source": [
    "gini = pd.read_csv('Gini.csv')"
   ]
  },
  {
   "cell_type": "code",
   "execution_count": 7,
   "id": "47f2f2d6",
   "metadata": {},
   "outputs": [],
   "source": [
    "LE = pd.read_excel('life expectancy at birth.xlsx')"
   ]
  },
  {
   "cell_type": "code",
   "execution_count": 8,
   "id": "5dc9d710",
   "metadata": {},
   "outputs": [],
   "source": [
    "WHR = pd.read_csv('world happiness ranking.csv')"
   ]
  },
  {
   "cell_type": "markdown",
   "id": "e580251b",
   "metadata": {},
   "source": [
    "## Let's standarize the country names"
   ]
  },
  {
   "cell_type": "code",
   "execution_count": 9,
   "id": "6c79fd39",
   "metadata": {},
   "outputs": [],
   "source": [
    "# We take the dictionary and list of corrections\n",
    "\n",
    "to_substitute ={'Yemen, Rep.': 'Yemen', 'Palestinian National Authority': 'Palestine', 'West Bank and Gaza':'Palestine',\n",
    "            'Venezuela, RB':'Venezuela', 'United States': 'United States of America', 'USA': 'United States of America',\n",
    "            'Trinidad':'Trinidad and Tobago', 'The Gambia':'Gambia', 'São Tomé and Príncipe': 'São Tomé and Principe',\n",
    "            'Sao Tome and Principe': 'São Tomé and Principe', 'Syrian Arab Republic': 'Syria', 'St. Lucia': 'Saint Lucia',\n",
    "            'St. Kitts and Nevis': 'Saint Kitts and Nevis', 'Slovak Republic':'Slovakia', 'Singapo':'Singapore',\n",
    "            'Russian Federation': 'Russia', 'Republic of the Congo':'Congo', 'Philipines':'Philippines',\n",
    "            'Phillipines':'Philippines', 'Macedonia (FYR) ': 'Macedonia', 'Lao PDR': 'Laos', 'Kyrgyz Republic': 'Kyrgyzstan',\n",
    "            'Kyrgyzistan': 'Kyrgyzstan', \"Korea, Dem. People's Rep.\":'North Korea', 'Korea, Rep.': 'South Korea',\n",
    "            \"Côte d'Ivoire\":'Ivory Coast', \"Cote d' Ivoire\": 'Ivory Coast', 'Iran, Islamic Rep.': 'Iran',\n",
    "            'Hong Kong SAR, China': 'Hong Kong', 'Gambia, The': 'Gambia', 'Egypt, Arab Rep.': 'Egypt',\n",
    "            'DR Congo': 'Democratic Republic of the Congo', 'Congo, Dem. Rep.': 'Democratic Republic of the Congo',\n",
    "            'Congo, Rep.': 'Congo', 'Czech':'Czech Republic', 'Curacao': 'Curaçao', 'Cape Verde': 'Cabo Verde',\n",
    "            'Brunei Darussalam': 'Brunei', 'Bosnia': 'Bosnia and Herzegovina', 'Bahamas, The': 'Bahamas'}\n",
    "\n",
    "to_drop = ['World', 'Western Sahara', 'Wallis and Futuna', 'Virgin Islands (U.S.)', 'Upper middle income',\n",
    "        'United States Virgin Islands', 'Sub-Saharan Africa', 'Sub-Saharan Africa (IDA & IBRD)',\n",
    "        'Sub-Saharan Africa (excluding high income)', 'St. Martin (French part)', 'South Asia', 'South Asia (IDA & IBRD)',\n",
    "        'Small states', 'Sint Maarten', 'Sint Maarten (Dutch part)', 'Saint Pierre and Miquelon', 'Reunion',\n",
    "        'Post-demographic dividend', 'Pre-demographic dividend', 'Pacific island small states', 'Other small states',\n",
    "        'OECD members', 'North America', 'Niue', 'Montserrat', 'Middle East & North Africa',\n",
    "        'Middle East & North Africa (IDA & IBRD)', 'Middle East & North Africa (excluding high income)', 'Middle income',\n",
    "        'Micronesia', 'Micronesia, Fed. Sts.', 'Martinique', 'Low & middle income', 'Low income', 'Lower middle income',\n",
    "        'Macao SAR, China', 'Macau', 'Late-demographic dividend', 'Latin America & Caribbean',\n",
    "        'Latin America & Caribbean (IDA & IBRD)', 'Latin America & Caribbean (excluding high income)',\n",
    "        'Least developed countries: UN classification', 'Heavily indebted poor countries (HIPC)', 'High income', 'Guadeloupe',\n",
    "        'Gibraltar', 'Galicia', 'Fragile and conflict affected situations', 'French Guiana', 'French Polynesia',\n",
    "        'Federated States of Micronesia', 'Faroe Islands', 'Falkland Islands', 'Euro area', 'Europe & Central Asia',\n",
    "        'Europe & Central Asia (IDA & IBRD)', 'Europe & Central Asia (excluding high income)', 'European Union',\n",
    "        'Early-demographic dividend', 'East Asia & Pacific', 'East Asia & Pacific (IDA & IBRD)',\n",
    "        'East Asia & Pacific (excluding high income)', 'Central Europe and the Baltics', 'Cayman Islands',\n",
    "        'Caribbean small states', 'British Virgin Islands', 'Bermuda', 'Africa Eastern and Southern',\n",
    "        'Africa Western and Central', 'Arab World', 'Aruba', 'Anguilla', 'American Samoa', 'Moscow', 'North Ireland']"
   ]
  },
  {
   "cell_type": "code",
   "execution_count": 10,
   "id": "519746a1",
   "metadata": {},
   "outputs": [],
   "source": [
    "# and we set up the cleaning function\n",
    "\n",
    "def clean(df,column):\n",
    "    counter = 0\n",
    "    for cell in column:\n",
    "        if str(cell)[:1] == '\\xa0':\n",
    "            column[counter] = str(cell)[1:]\n",
    "        if str(cell) in to_drop:\n",
    "            df.drop(df.index[counter])\n",
    "        counter += 1\n",
    "    for key in to_substitute.keys():\n",
    "        column.mask(column == str(key), str(to_substitute[str(key)]), inplace=True)"
   ]
  },
  {
   "cell_type": "markdown",
   "id": "ef13f43a",
   "metadata": {},
   "source": [
    "## Cleaning data"
   ]
  },
  {
   "cell_type": "markdown",
   "id": "a24a90ab",
   "metadata": {},
   "source": [
    "### Clean global peace index data"
   ]
  },
  {
   "cell_type": "code",
   "execution_count": 11,
   "id": "8322946b",
   "metadata": {},
   "outputs": [],
   "source": [
    "clean(GPI, GPI['Country'])"
   ]
  },
  {
   "cell_type": "code",
   "execution_count": 12,
   "id": "bcf5e266",
   "metadata": {},
   "outputs": [],
   "source": [
    "fixedGPI = GPI[['Country',2019]].copy()\n",
    "fixedGPI.rename(columns={2019: 'global_peace_index', 'Country': 'country'}, inplace=True, errors='raise')"
   ]
  },
  {
   "cell_type": "markdown",
   "id": "ff69a783",
   "metadata": {},
   "source": [
    "### Clean ecological footprint data"
   ]
  },
  {
   "cell_type": "code",
   "execution_count": 13,
   "id": "e5e19aa8",
   "metadata": {},
   "outputs": [],
   "source": [
    "clean(EF, EF['country'])"
   ]
  },
  {
   "cell_type": "code",
   "execution_count": 14,
   "id": "6d390399",
   "metadata": {},
   "outputs": [],
   "source": [
    "fixedEF = EF[['country','footprintPerCap']].copy()"
   ]
  },
  {
   "cell_type": "markdown",
   "id": "40395511",
   "metadata": {},
   "source": [
    "### Clean education index data"
   ]
  },
  {
   "cell_type": "code",
   "execution_count": 15,
   "id": "4127a456",
   "metadata": {},
   "outputs": [
    {
     "name": "stderr",
     "output_type": "stream",
     "text": [
      "C:\\Users\\x\\AppData\\Local\\Temp/ipykernel_27712/1532366911.py:4: SettingWithCopyWarning: \n",
      "A value is trying to be set on a copy of a slice from a DataFrame\n",
      "\n",
      "See the caveats in the documentation: https://pandas.pydata.org/pandas-docs/stable/user_guide/indexing.html#returning-a-view-versus-a-copy\n",
      "  EI['Unnamed: 0'][counter] = EI['Unnamed: 0'][counter+2]\n"
     ]
    }
   ],
   "source": [
    "counter=0\n",
    "for cell in EI['Unnamed: 0']:\n",
    "    try:\n",
    "        EI['Unnamed: 0'][counter] = EI['Unnamed: 0'][counter+2]\n",
    "    except:\n",
    "        pass\n",
    "    counter+= 1"
   ]
  },
  {
   "cell_type": "code",
   "execution_count": 16,
   "id": "60549e5a",
   "metadata": {},
   "outputs": [],
   "source": [
    "fixedEI=EI.dropna()"
   ]
  },
  {
   "cell_type": "code",
   "execution_count": 17,
   "id": "0abc6fa2",
   "metadata": {},
   "outputs": [
    {
     "name": "stderr",
     "output_type": "stream",
     "text": [
      "C:\\Users\\x\\anaconda3\\lib\\site-packages\\pandas\\core\\generic.py:8870: SettingWithCopyWarning: \n",
      "A value is trying to be set on a copy of a slice from a DataFrame\n",
      "\n",
      "See the caveats in the documentation: https://pandas.pydata.org/pandas-docs/stable/user_guide/indexing.html#returning-a-view-versus-a-copy\n",
      "  return self._update_inplace(result)\n"
     ]
    }
   ],
   "source": [
    "clean(fixedEI, fixedEI['Unnamed: 0'])"
   ]
  },
  {
   "cell_type": "code",
   "execution_count": 18,
   "id": "8583644b",
   "metadata": {},
   "outputs": [],
   "source": [
    "fixedEI = fixedEI[['Unnamed: 0','Education index']].copy()"
   ]
  },
  {
   "cell_type": "code",
   "execution_count": 19,
   "id": "b509fc45",
   "metadata": {},
   "outputs": [],
   "source": [
    "fixedEI = fixedEI.rename(columns={'Unnamed: 0': 'country'})"
   ]
  },
  {
   "cell_type": "markdown",
   "id": "5f85aa4f",
   "metadata": {},
   "source": [
    "### Clean nominal GDP data"
   ]
  },
  {
   "cell_type": "code",
   "execution_count": 20,
   "id": "d7e1bb3e",
   "metadata": {},
   "outputs": [
    {
     "name": "stderr",
     "output_type": "stream",
     "text": [
      "C:\\Users\\x\\AppData\\Local\\Temp/ipykernel_27712/667535603.py:7: SettingWithCopyWarning: \n",
      "A value is trying to be set on a copy of a slice from a DataFrame\n",
      "\n",
      "See the caveats in the documentation: https://pandas.pydata.org/pandas-docs/stable/user_guide/indexing.html#returning-a-view-versus-a-copy\n",
      "  column[counter] = str(cell)[1:]\n"
     ]
    }
   ],
   "source": [
    "clean(GDP, GDP['Country/Territory'])"
   ]
  },
  {
   "cell_type": "code",
   "execution_count": 21,
   "id": "f20a84aa",
   "metadata": {},
   "outputs": [],
   "source": [
    "fixedGDP = GDP[['Country/Territory','IMF']].copy()"
   ]
  },
  {
   "cell_type": "code",
   "execution_count": 22,
   "id": "522279e7",
   "metadata": {},
   "outputs": [],
   "source": [
    "fixedGDP = fixedGDP.rename(columns={'Country/Territory': 'country'})"
   ]
  },
  {
   "cell_type": "markdown",
   "id": "b33b20db",
   "metadata": {},
   "source": [
    "### Clean Gini index data"
   ]
  },
  {
   "cell_type": "code",
   "execution_count": 23,
   "id": "7a194a5e",
   "metadata": {},
   "outputs": [],
   "source": [
    "clean(gini, gini['country'])"
   ]
  },
  {
   "cell_type": "code",
   "execution_count": 24,
   "id": "62f62a9e",
   "metadata": {},
   "outputs": [],
   "source": [
    "fixedgini = gini[['country','giniCIA']].copy()"
   ]
  },
  {
   "cell_type": "markdown",
   "id": "11243a45",
   "metadata": {},
   "source": [
    "### Clean life expectancy at birth data"
   ]
  },
  {
   "cell_type": "code",
   "execution_count": 25,
   "id": "7b1e7f0e",
   "metadata": {},
   "outputs": [],
   "source": [
    "clean(LE, LE['country'])"
   ]
  },
  {
   "cell_type": "code",
   "execution_count": 26,
   "id": "cc30a54a",
   "metadata": {},
   "outputs": [],
   "source": [
    "fixedLE = LE"
   ]
  },
  {
   "cell_type": "markdown",
   "id": "f71a81e8",
   "metadata": {},
   "source": [
    "### Clean word happiness index data"
   ]
  },
  {
   "cell_type": "code",
   "execution_count": 27,
   "id": "c2efa0f0",
   "metadata": {},
   "outputs": [],
   "source": [
    "clean(WHR, WHR['country'])"
   ]
  },
  {
   "cell_type": "code",
   "execution_count": 28,
   "id": "a8e670be",
   "metadata": {},
   "outputs": [],
   "source": [
    "fixedWHR = WHR[['country','happiness2021']].copy()"
   ]
  },
  {
   "cell_type": "markdown",
   "id": "9e8a06dd",
   "metadata": {},
   "source": [
    "# Join all selected data into a single dataframe"
   ]
  },
  {
   "cell_type": "code",
   "execution_count": 29,
   "id": "d624278f",
   "metadata": {},
   "outputs": [],
   "source": [
    "data_frames = [fixedGPI, fixedEF, fixedEI, fixedGDP, fixedgini, fixedLE, fixedWHR]\n",
    "data = reduce(lambda  left,right: pd.merge(left,right,on=['country'],\n",
    "                                            how='outer'), data_frames)"
   ]
  },
  {
   "cell_type": "code",
   "execution_count": 30,
   "id": "3068e89b",
   "metadata": {},
   "outputs": [],
   "source": [
    "data.rename(columns={\"global_peace_index\": \"unpeacefulness\", \"footprintPerCap\": \"eco_footprint\", \"Education index\": \"education\", \"IMF\":\"nominal_GDP\", \"giniCIA\":\"inequality\", \"life expectancy at birth\": \"life_expectancy\", \"happiness2021\": \"happiness\"},\n",
    "errors=\"raise\", inplace=True)"
   ]
  },
  {
   "cell_type": "code",
   "execution_count": 31,
   "id": "be9bd788",
   "metadata": {},
   "outputs": [],
   "source": [
    "data=data.set_index('country')"
   ]
  },
  {
   "cell_type": "code",
   "execution_count": 32,
   "id": "115970e8",
   "metadata": {},
   "outputs": [
    {
     "data": {
      "text/html": [
       "<div>\n",
       "<style scoped>\n",
       "    .dataframe tbody tr th:only-of-type {\n",
       "        vertical-align: middle;\n",
       "    }\n",
       "\n",
       "    .dataframe tbody tr th {\n",
       "        vertical-align: top;\n",
       "    }\n",
       "\n",
       "    .dataframe thead th {\n",
       "        text-align: right;\n",
       "    }\n",
       "</style>\n",
       "<table border=\"1\" class=\"dataframe\">\n",
       "  <thead>\n",
       "    <tr style=\"text-align: right;\">\n",
       "      <th></th>\n",
       "      <th>unpeacefulness</th>\n",
       "      <th>eco_footprint</th>\n",
       "      <th>education</th>\n",
       "      <th>nominal_GDP</th>\n",
       "      <th>inequality</th>\n",
       "      <th>life_expectancy</th>\n",
       "      <th>happiness</th>\n",
       "    </tr>\n",
       "    <tr>\n",
       "      <th>country</th>\n",
       "      <th></th>\n",
       "      <th></th>\n",
       "      <th></th>\n",
       "      <th></th>\n",
       "      <th></th>\n",
       "      <th></th>\n",
       "      <th></th>\n",
       "    </tr>\n",
       "  </thead>\n",
       "  <tbody>\n",
       "    <tr>\n",
       "      <th>Iceland</th>\n",
       "      <td>1.072</td>\n",
       "      <td>NaN</td>\n",
       "      <td>0.912</td>\n",
       "      <td>25476.0</td>\n",
       "      <td>26.8</td>\n",
       "      <td>82.560976</td>\n",
       "      <td>7.554</td>\n",
       "    </tr>\n",
       "    <tr>\n",
       "      <th>New Zealand</th>\n",
       "      <td>1.221</td>\n",
       "      <td>5.60</td>\n",
       "      <td>0.917</td>\n",
       "      <td>24764.0</td>\n",
       "      <td>36.2</td>\n",
       "      <td>81.707317</td>\n",
       "      <td>7.277</td>\n",
       "    </tr>\n",
       "    <tr>\n",
       "      <th>Portugal</th>\n",
       "      <td>1.274</td>\n",
       "      <td>3.88</td>\n",
       "      <td>0.759</td>\n",
       "      <td>251709.0</td>\n",
       "      <td>33.8</td>\n",
       "      <td>80.682927</td>\n",
       "      <td>5.929</td>\n",
       "    </tr>\n",
       "    <tr>\n",
       "      <th>Austria</th>\n",
       "      <td>1.291</td>\n",
       "      <td>6.06</td>\n",
       "      <td>0.852</td>\n",
       "      <td>481209.0</td>\n",
       "      <td>29.7</td>\n",
       "      <td>81.792683</td>\n",
       "      <td>7.268</td>\n",
       "    </tr>\n",
       "    <tr>\n",
       "      <th>Denmark</th>\n",
       "      <td>1.316</td>\n",
       "      <td>5.51</td>\n",
       "      <td>0.920</td>\n",
       "      <td>396666.0</td>\n",
       "      <td>28.7</td>\n",
       "      <td>81.202439</td>\n",
       "      <td>7.620</td>\n",
       "    </tr>\n",
       "    <tr>\n",
       "      <th>...</th>\n",
       "      <td>...</td>\n",
       "      <td>...</td>\n",
       "      <td>...</td>\n",
       "      <td>...</td>\n",
       "      <td>...</td>\n",
       "      <td>...</td>\n",
       "      <td>...</td>\n",
       "    </tr>\n",
       "    <tr>\n",
       "      <th>Sub-Saharan Africa (IDA &amp; IBRD)</th>\n",
       "      <td>NaN</td>\n",
       "      <td>NaN</td>\n",
       "      <td>NaN</td>\n",
       "      <td>NaN</td>\n",
       "      <td>NaN</td>\n",
       "      <td>61.627443</td>\n",
       "      <td>NaN</td>\n",
       "    </tr>\n",
       "    <tr>\n",
       "      <th>Upper middle income</th>\n",
       "      <td>NaN</td>\n",
       "      <td>NaN</td>\n",
       "      <td>NaN</td>\n",
       "      <td>NaN</td>\n",
       "      <td>NaN</td>\n",
       "      <td>75.946931</td>\n",
       "      <td>NaN</td>\n",
       "    </tr>\n",
       "    <tr>\n",
       "      <th>St. Vincent and the Grenadines</th>\n",
       "      <td>NaN</td>\n",
       "      <td>NaN</td>\n",
       "      <td>NaN</td>\n",
       "      <td>NaN</td>\n",
       "      <td>NaN</td>\n",
       "      <td>72.534000</td>\n",
       "      <td>NaN</td>\n",
       "    </tr>\n",
       "    <tr>\n",
       "      <th>Virgin Islands (U.S.)</th>\n",
       "      <td>NaN</td>\n",
       "      <td>NaN</td>\n",
       "      <td>NaN</td>\n",
       "      <td>NaN</td>\n",
       "      <td>NaN</td>\n",
       "      <td>79.668293</td>\n",
       "      <td>NaN</td>\n",
       "    </tr>\n",
       "    <tr>\n",
       "      <th>World</th>\n",
       "      <td>NaN</td>\n",
       "      <td>NaN</td>\n",
       "      <td>NaN</td>\n",
       "      <td>NaN</td>\n",
       "      <td>NaN</td>\n",
       "      <td>72.747132</td>\n",
       "      <td>NaN</td>\n",
       "    </tr>\n",
       "  </tbody>\n",
       "</table>\n",
       "<p>280 rows × 7 columns</p>\n",
       "</div>"
      ],
      "text/plain": [
       "                                 unpeacefulness  eco_footprint  education  \\\n",
       "country                                                                     \n",
       "Iceland                                   1.072            NaN      0.912   \n",
       "New Zealand                               1.221           5.60      0.917   \n",
       "Portugal                                  1.274           3.88      0.759   \n",
       "Austria                                   1.291           6.06      0.852   \n",
       "Denmark                                   1.316           5.51      0.920   \n",
       "...                                         ...            ...        ...   \n",
       "Sub-Saharan Africa (IDA & IBRD)             NaN            NaN        NaN   \n",
       "Upper middle income                         NaN            NaN        NaN   \n",
       "St. Vincent and the Grenadines              NaN            NaN        NaN   \n",
       "Virgin Islands (U.S.)                       NaN            NaN        NaN   \n",
       "World                                       NaN            NaN        NaN   \n",
       "\n",
       "                                 nominal_GDP  inequality  life_expectancy  \\\n",
       "country                                                                     \n",
       "Iceland                              25476.0        26.8        82.560976   \n",
       "New Zealand                          24764.0        36.2        81.707317   \n",
       "Portugal                            251709.0        33.8        80.682927   \n",
       "Austria                             481209.0        29.7        81.792683   \n",
       "Denmark                             396666.0        28.7        81.202439   \n",
       "...                                      ...         ...              ...   \n",
       "Sub-Saharan Africa (IDA & IBRD)          NaN         NaN        61.627443   \n",
       "Upper middle income                      NaN         NaN        75.946931   \n",
       "St. Vincent and the Grenadines           NaN         NaN        72.534000   \n",
       "Virgin Islands (U.S.)                    NaN         NaN        79.668293   \n",
       "World                                    NaN         NaN        72.747132   \n",
       "\n",
       "                                 happiness  \n",
       "country                                     \n",
       "Iceland                              7.554  \n",
       "New Zealand                          7.277  \n",
       "Portugal                             5.929  \n",
       "Austria                              7.268  \n",
       "Denmark                              7.620  \n",
       "...                                    ...  \n",
       "Sub-Saharan Africa (IDA & IBRD)        NaN  \n",
       "Upper middle income                    NaN  \n",
       "St. Vincent and the Grenadines         NaN  \n",
       "Virgin Islands (U.S.)                  NaN  \n",
       "World                                  NaN  \n",
       "\n",
       "[280 rows x 7 columns]"
      ]
     },
     "execution_count": 32,
     "metadata": {},
     "output_type": "execute_result"
    }
   ],
   "source": [
    "data"
   ]
  },
  {
   "cell_type": "code",
   "execution_count": 33,
   "id": "b696d66a",
   "metadata": {},
   "outputs": [
    {
     "name": "stdout",
     "output_type": "stream",
     "text": [
      "<class 'pandas.core.frame.DataFrame'>\n",
      "Index: 280 entries, Iceland to World\n",
      "Data columns (total 7 columns):\n",
      " #   Column           Non-Null Count  Dtype  \n",
      "---  ------           --------------  -----  \n",
      " 0   unpeacefulness   163 non-null    float64\n",
      " 1   eco_footprint    187 non-null    float64\n",
      " 2   education        189 non-null    float64\n",
      " 3   nominal_GDP      196 non-null    float64\n",
      " 4   inequality       165 non-null    float64\n",
      " 5   life_expectancy  241 non-null    float64\n",
      " 6   happiness        146 non-null    float64\n",
      "dtypes: float64(7)\n",
      "memory usage: 17.5+ KB\n"
     ]
    }
   ],
   "source": [
    "data.info()"
   ]
  },
  {
   "cell_type": "code",
   "execution_count": 34,
   "id": "47a7d813",
   "metadata": {},
   "outputs": [
    {
     "data": {
      "image/png": "[encoded data removed]",
      "text/plain": [
       "<Figure size 1080x1080 with 9 Axes>"
      ]
     },
     "metadata": {
      "needs_background": "light"
     },
     "output_type": "display_data"
    }
   ],
   "source": [
    "data.hist(bins=20,figsize=(15,15));"
   ]
  },
  {
   "cell_type": "markdown",
   "id": "7489e92e",
   "metadata": {},
   "source": [
    "# Let's try to predict the nulls in the data!"
   ]
  },
  {
   "cell_type": "code",
   "execution_count": 35,
   "id": "4abb98ab",
   "metadata": {},
   "outputs": [],
   "source": [
    "from sklearn import linear_model\n",
    "\n",
    "def infer_nulls_allnumericals_linear(df):\n",
    "    to_predict = df.copy()\n",
    "    predicted = df.copy()\n",
    "    for column in to_predict:\n",
    "        columnpredicted = to_predict\n",
    "        for col in columnpredicted:\n",
    "            if col != column:\n",
    "                columnpredicted[col] = columnpredicted[col].fillna(columnpredicted[col].mean())\n",
    "        nonnulldf = columnpredicted\n",
    "        nonnulldf.dropna(subset=[column], how='all', inplace=True)\n",
    "        X = nonnulldf.drop(column,axis=1)\n",
    "        y = nonnulldf[column]\n",
    "        nulldf = columnpredicted.drop(column,axis=1)\n",
    "        for i in range(len(nulldf.index)):\n",
    "            if nulldf.index[i-1] not in nonnulldf.index:\n",
    "                nulldf.drop(nulldf.loc[:, nulldf.index[i-1]], axis=0, inplace=True)\n",
    "        lm=linear_model.LinearRegression()\n",
    "        model=lm.fit(X,y)\n",
    "        nulldf[column]=lm.predict(nulldf)\n",
    "        for i in range(len(to_predict.index)):\n",
    "            if nulldf.index[i-1] in predicted.index:\n",
    "                predicted[column][str(nulldf.index[i-1])]=nulldf[column][str(nulldf.index[i-1])]\n",
    "    return predicted"
   ]
  },
  {
   "cell_type": "code",
   "execution_count": 36,
   "id": "489cb14e",
   "metadata": {
    "scrolled": true
   },
   "outputs": [
    {
     "data": {
      "text/plain": [
       "Index(['unpeacefulness', 'eco_footprint', 'education', 'nominal_GDP',\n",
       "       'inequality', 'life_expectancy', 'happiness'],\n",
       "      dtype='object')"
      ]
     },
     "execution_count": 36,
     "metadata": {},
     "output_type": "execute_result"
    }
   ],
   "source": [
    "# our function gives us a dataframe as large as the first column... so we will change the order to bypass this trouble\n",
    "\n",
    "data.columns"
   ]
  },
  {
   "cell_type": "code",
   "execution_count": 37,
   "id": "4e91731b",
   "metadata": {},
   "outputs": [],
   "source": [
    "data = data.reindex(columns = ['life_expectancy', 'unpeacefulness', 'eco_footprint', 'education', 'nominal_GDP',\n",
    "       'inequality', 'happiness'])"
   ]
  },
  {
   "cell_type": "code",
   "execution_count": 38,
   "id": "547c1168",
   "metadata": {},
   "outputs": [
    {
     "name": "stdout",
     "output_type": "stream",
     "text": [
      "<class 'pandas.core.frame.DataFrame'>\n",
      "Index: 280 entries, Iceland to World\n",
      "Data columns (total 7 columns):\n",
      " #   Column           Non-Null Count  Dtype  \n",
      "---  ------           --------------  -----  \n",
      " 0   life_expectancy  241 non-null    float64\n",
      " 1   unpeacefulness   163 non-null    float64\n",
      " 2   eco_footprint    187 non-null    float64\n",
      " 3   education        189 non-null    float64\n",
      " 4   nominal_GDP      196 non-null    float64\n",
      " 5   inequality       165 non-null    float64\n",
      " 6   happiness        146 non-null    float64\n",
      "dtypes: float64(7)\n",
      "memory usage: 17.5+ KB\n"
     ]
    }
   ],
   "source": [
    "data.info()"
   ]
  },
  {
   "cell_type": "code",
   "execution_count": 39,
   "id": "16c1a99a",
   "metadata": {},
   "outputs": [],
   "source": [
    "data=infer_nulls_allnumericals_linear(data)"
   ]
  },
  {
   "cell_type": "code",
   "execution_count": 40,
   "id": "760e9f29",
   "metadata": {},
   "outputs": [
    {
     "name": "stdout",
     "output_type": "stream",
     "text": [
      "<class 'pandas.core.frame.DataFrame'>\n",
      "Index: 280 entries, Iceland to World\n",
      "Data columns (total 7 columns):\n",
      " #   Column           Non-Null Count  Dtype  \n",
      "---  ------           --------------  -----  \n",
      " 0   life_expectancy  241 non-null    float64\n",
      " 1   unpeacefulness   244 non-null    float64\n",
      " 2   eco_footprint    254 non-null    float64\n",
      " 3   education        251 non-null    float64\n",
      " 4   nominal_GDP      254 non-null    float64\n",
      " 5   inequality       247 non-null    float64\n",
      " 6   happiness        242 non-null    float64\n",
      "dtypes: float64(7)\n",
      "memory usage: 25.6+ KB\n"
     ]
    }
   ],
   "source": [
    "data.info()"
   ]
  },
  {
   "cell_type": "code",
   "execution_count": 41,
   "id": "8dad1ef4",
   "metadata": {},
   "outputs": [],
   "source": [
    "data = data.reindex(columns = ['unpeacefulness', 'eco_footprint', 'education', 'nominal_GDP', 'inequality', 'life_expectancy', 'happiness'])"
   ]
  },
  {
   "cell_type": "code",
   "execution_count": 42,
   "id": "c9c237ab",
   "metadata": {},
   "outputs": [
    {
     "data": {
      "image/png": "[encoded data removed]",
      "text/plain": [
       "<Figure size 1080x1080 with 9 Axes>"
      ]
     },
     "metadata": {
      "needs_background": "light"
     },
     "output_type": "display_data"
    }
   ],
   "source": [
    "data.hist(bins=20,figsize=(15,15));"
   ]
  },
  {
   "cell_type": "markdown",
   "id": "d33c2fe4",
   "metadata": {},
   "source": [
    "As we can see if we compare the histograms before and after applying the function, the data has surely been corrupted with too much bias. The nulls in some features exceed 1/3 of the data. Our function substituted null values (in columns the model was not predicting for each loop) with the mean of its column to predict each cell in the column to be predicted, and now the data is hardly usable.\n",
    "\n",
    "A better option,, maybe:\n",
    "* Make a new dataframe containing only rows with maximum one null value\n",
    "* Try to predict those ones training the model only with the subset of rows without a single null in the values not to be predicted.\n",
    "* Then do it again for rows with two null values, then three, and so on.\n",
    "\n",
    "This way, altough the training datasets would be small, we would never be using anything that is not a prediction to deal with a null, and the bias would be somewhat corrected.\n",
    "Mind you, countries that are missing part of the data seem to have some things in common, so a bias towards the \"full non_null\" ser would compromise the validity of the predicted data.\n",
    "\n",
    "---\n",
    "\n",
    "*For the sake of doing the project in time, this option is discarded.*\n",
    "\n",
    "---\n",
    "\n",
    "The notebook will still be in the repo as a testimony of what the next step could have been - a new dataframe to show plotted in the map after the regular ones (aknowledging the bias behind the method, of course)."
   ]
  }
 ],
 "metadata": {
  "kernelspec": {
   "display_name": "Python 3 (ipykernel)",
   "language": "python",
   "name": "python3"
  },
  "language_info": {
   "codemirror_mode": {
    "name": "ipython",
    "version": 3
   },
   "file_extension": ".py",
   "mimetype": "text/x-python",
   "name": "python",
   "nbconvert_exporter": "python",
   "pygments_lexer": "ipython3",
   "version": "3.9.7"
  },
  "toc": {
   "base_numbering": 1,
   "nav_menu": {},
   "number_sections": true,
   "sideBar": true,
   "skip_h1_title": false,
   "title_cell": "Table of Contents",
   "title_sidebar": "Contents",
   "toc_cell": false,
   "toc_position": {},
   "toc_section_display": true,
   "toc_window_display": false
  },
  "varInspector": {
   "cols": {
    "lenName": 16,
    "lenType": 16,
    "lenVar": 40
   },
   "kernels_config": {
    "python": {
     "delete_cmd_postfix": "",
     "delete_cmd_prefix": "del ",
     "library": "var_list.py",
     "varRefreshCmd": "print(var_dic_list())"
    },
    "r": {
     "delete_cmd_postfix": ") ",
     "delete_cmd_prefix": "rm(",
     "library": "var_list.r",
     "varRefreshCmd": "cat(var_dic_list()) "
    }
   },
   "types_to_exclude": [
    "module",
    "function",
    "builtin_function_or_method",
    "instance",
    "_Feature"
   ],
   "window_display": false
  }
 },
 "nbformat": 4,
 "nbformat_minor": 5
}
