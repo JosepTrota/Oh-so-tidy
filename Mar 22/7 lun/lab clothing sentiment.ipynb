{
 "cells": [
  {
   "cell_type": "code",
   "execution_count": 1,
   "id": "a0386a7d",
   "metadata": {},
   "outputs": [],
   "source": [
    "# importing packages and defining some useful \n",
    "\n",
    "import nltk\n",
    "import pandas as pd\n",
    "import docx2txt\n",
    "from textblob import TextBlob\n",
    "import matplotlib.pyplot as plt\n",
    "import seaborn as sns\n",
    "from nltk.tokenize import word_tokenize\n",
    "from nltk.corpus import stopwords\n",
    "from nltk.text import Text\n",
    "from nltk.stem import WordNetLemmatizer\n",
    "\n",
    "# to display everyting, no truncating\n",
    "\n",
    "pd.set_option('display.max_colwidth', None)\n",
    "\n",
    "# set stop words = english\n",
    "\n",
    "stop_words=stopwords.words('english')"
   ]
  },
  {
   "cell_type": "markdown",
   "id": "8d12def7",
   "metadata": {},
   "source": [
    "# Get data"
   ]
  },
  {
   "cell_type": "code",
   "execution_count": 2,
   "id": "dbf28ccb",
   "metadata": {},
   "outputs": [],
   "source": [
    "data=pd.read_csv('Womens Clothing E-Commerce Reviews.txt')"
   ]
  },
  {
   "cell_type": "code",
   "execution_count": 3,
   "id": "194c5c1e",
   "metadata": {},
   "outputs": [],
   "source": [
    "# lower headers\n",
    "\n",
    "data.columns=data.columns.str.lower()"
   ]
  },
  {
   "cell_type": "code",
   "execution_count": 4,
   "id": "fc7468a5",
   "metadata": {},
   "outputs": [],
   "source": [
    "# dropping unnecesary column\n",
    "\n",
    "data.drop(['unnamed: 0'], axis=1, inplace=True)"
   ]
  },
  {
   "cell_type": "markdown",
   "id": "db5494dc",
   "metadata": {},
   "source": [
    "# investigate data"
   ]
  },
  {
   "cell_type": "code",
   "execution_count": 5,
   "id": "e35cb042",
   "metadata": {
    "scrolled": true
   },
   "outputs": [
    {
     "data": {
      "text/plain": [
       "Index(['clothing id', 'age', 'title', 'review text', 'rating',\n",
       "       'recommended ind', 'positive feedback count', 'division name',\n",
       "       'department name', 'class name'],\n",
       "      dtype='object')"
      ]
     },
     "execution_count": 5,
     "metadata": {},
     "output_type": "execute_result"
    }
   ],
   "source": [
    "data.columns"
   ]
  },
  {
   "cell_type": "code",
   "execution_count": 6,
   "id": "37480dfd",
   "metadata": {
    "scrolled": true
   },
   "outputs": [
    {
     "data": {
      "text/plain": [
       "(23486, 10)"
      ]
     },
     "execution_count": 6,
     "metadata": {},
     "output_type": "execute_result"
    }
   ],
   "source": [
    "data.shape"
   ]
  },
  {
   "cell_type": "code",
   "execution_count": 7,
   "id": "f0ae372d",
   "metadata": {
    "scrolled": true
   },
   "outputs": [
    {
     "name": "stdout",
     "output_type": "stream",
     "text": [
      "<class 'pandas.core.frame.DataFrame'>\n",
      "RangeIndex: 23486 entries, 0 to 23485\n",
      "Data columns (total 10 columns):\n",
      " #   Column                   Non-Null Count  Dtype \n",
      "---  ------                   --------------  ----- \n",
      " 0   clothing id              23486 non-null  int64 \n",
      " 1   age                      23486 non-null  int64 \n",
      " 2   title                    19676 non-null  object\n",
      " 3   review text              22641 non-null  object\n",
      " 4   rating                   23486 non-null  int64 \n",
      " 5   recommended ind          23486 non-null  int64 \n",
      " 6   positive feedback count  23486 non-null  int64 \n",
      " 7   division name            23472 non-null  object\n",
      " 8   department name          23472 non-null  object\n",
      " 9   class name               23472 non-null  object\n",
      "dtypes: int64(5), object(5)\n",
      "memory usage: 1.8+ MB\n"
     ]
    }
   ],
   "source": [
    "data.info()"
   ]
  },
  {
   "cell_type": "markdown",
   "id": "0d4c2ec9",
   "metadata": {},
   "source": [
    "# Drop nulls in selected columns"
   ]
  },
  {
   "cell_type": "code",
   "execution_count": 8,
   "id": "2f8c62e5",
   "metadata": {},
   "outputs": [],
   "source": [
    "data.dropna(subset=['review text', 'department name'], inplace=True)"
   ]
  },
  {
   "cell_type": "code",
   "execution_count": 9,
   "id": "589148dd",
   "metadata": {},
   "outputs": [
    {
     "name": "stdout",
     "output_type": "stream",
     "text": [
      "<class 'pandas.core.frame.DataFrame'>\n",
      "Int64Index: 22628 entries, 0 to 23485\n",
      "Data columns (total 10 columns):\n",
      " #   Column                   Non-Null Count  Dtype \n",
      "---  ------                   --------------  ----- \n",
      " 0   clothing id              22628 non-null  int64 \n",
      " 1   age                      22628 non-null  int64 \n",
      " 2   title                    19662 non-null  object\n",
      " 3   review text              22628 non-null  object\n",
      " 4   rating                   22628 non-null  int64 \n",
      " 5   recommended ind          22628 non-null  int64 \n",
      " 6   positive feedback count  22628 non-null  int64 \n",
      " 7   division name            22628 non-null  object\n",
      " 8   department name          22628 non-null  object\n",
      " 9   class name               22628 non-null  object\n",
      "dtypes: int64(5), object(5)\n",
      "memory usage: 1.9+ MB\n"
     ]
    }
   ],
   "source": [
    "data.info()"
   ]
  },
  {
   "cell_type": "markdown",
   "id": "6c76b53f",
   "metadata": {},
   "source": [
    "# Cleaning review text"
   ]
  },
  {
   "cell_type": "code",
   "execution_count": 10,
   "id": "7a2f6027",
   "metadata": {},
   "outputs": [],
   "source": [
    "# this is Sian's function ;P\n",
    "\n",
    "def cleaning(data):\n",
    "    text_tokens = word_tokenize(data.replace(\"'\", \"\").lower())\n",
    "    tokens_without_punc = [w for w in text_tokens if w.isalpha()]\n",
    "    tokens_without_sw = [t for t in tokens_without_punc if t not in stop_words]\n",
    "    text_cleaned = [WordNetLemmatizer().lemmatize(t) for t in tokens_without_sw]\n",
    "    return \" \".join(text_cleaned)"
   ]
  },
  {
   "cell_type": "code",
   "execution_count": 11,
   "id": "61050b65",
   "metadata": {},
   "outputs": [
    {
     "name": "stderr",
     "output_type": "stream",
     "text": [
      "C:\\Users\\x\\AppData\\Local\\Temp/ipykernel_27840/2330650537.py:5: SettingWithCopyWarning: \n",
      "A value is trying to be set on a copy of a slice from a DataFrame\n",
      "\n",
      "See the caveats in the documentation: https://pandas.pydata.org/pandas-docs/stable/user_guide/indexing.html#returning-a-view-versus-a-copy\n",
      "  data['tokenized'][counter]=cleaning(cell)\n"
     ]
    }
   ],
   "source": [
    "# applying the function to get a new column\n",
    "\n",
    "counter = 0\n",
    "data['tokenized']=None\n",
    "for cell in data['review text']:\n",
    "    data['tokenized'][counter]=cleaning(cell)\n",
    "    counter += 1"
   ]
  },
  {
   "cell_type": "markdown",
   "id": "49513d06",
   "metadata": {},
   "source": [
    "# checking numerical info and making some simple graphs"
   ]
  },
  {
   "cell_type": "code",
   "execution_count": 12,
   "id": "58fee0fd",
   "metadata": {},
   "outputs": [
    {
     "data": {
      "text/html": [
       "<div>\n",
       "<style scoped>\n",
       "    .dataframe tbody tr th:only-of-type {\n",
       "        vertical-align: middle;\n",
       "    }\n",
       "\n",
       "    .dataframe tbody tr th {\n",
       "        vertical-align: top;\n",
       "    }\n",
       "\n",
       "    .dataframe thead th {\n",
       "        text-align: right;\n",
       "    }\n",
       "</style>\n",
       "<table border=\"1\" class=\"dataframe\">\n",
       "  <thead>\n",
       "    <tr style=\"text-align: right;\">\n",
       "      <th></th>\n",
       "      <th>clothing id</th>\n",
       "      <th>age</th>\n",
       "      <th>rating</th>\n",
       "      <th>recommended ind</th>\n",
       "      <th>positive feedback count</th>\n",
       "    </tr>\n",
       "  </thead>\n",
       "  <tbody>\n",
       "    <tr>\n",
       "      <th>count</th>\n",
       "      <td>22628.000000</td>\n",
       "      <td>22628.000000</td>\n",
       "      <td>22628.000000</td>\n",
       "      <td>22628.000000</td>\n",
       "      <td>22628.000000</td>\n",
       "    </tr>\n",
       "    <tr>\n",
       "      <th>mean</th>\n",
       "      <td>919.695908</td>\n",
       "      <td>43.282880</td>\n",
       "      <td>4.183092</td>\n",
       "      <td>0.818764</td>\n",
       "      <td>2.631784</td>\n",
       "    </tr>\n",
       "    <tr>\n",
       "      <th>std</th>\n",
       "      <td>201.683804</td>\n",
       "      <td>12.328176</td>\n",
       "      <td>1.115911</td>\n",
       "      <td>0.385222</td>\n",
       "      <td>5.787520</td>\n",
       "    </tr>\n",
       "    <tr>\n",
       "      <th>min</th>\n",
       "      <td>1.000000</td>\n",
       "      <td>18.000000</td>\n",
       "      <td>1.000000</td>\n",
       "      <td>0.000000</td>\n",
       "      <td>0.000000</td>\n",
       "    </tr>\n",
       "    <tr>\n",
       "      <th>25%</th>\n",
       "      <td>861.000000</td>\n",
       "      <td>34.000000</td>\n",
       "      <td>4.000000</td>\n",
       "      <td>1.000000</td>\n",
       "      <td>0.000000</td>\n",
       "    </tr>\n",
       "    <tr>\n",
       "      <th>50%</th>\n",
       "      <td>936.000000</td>\n",
       "      <td>41.000000</td>\n",
       "      <td>5.000000</td>\n",
       "      <td>1.000000</td>\n",
       "      <td>1.000000</td>\n",
       "    </tr>\n",
       "    <tr>\n",
       "      <th>75%</th>\n",
       "      <td>1078.000000</td>\n",
       "      <td>52.000000</td>\n",
       "      <td>5.000000</td>\n",
       "      <td>1.000000</td>\n",
       "      <td>3.000000</td>\n",
       "    </tr>\n",
       "    <tr>\n",
       "      <th>max</th>\n",
       "      <td>1205.000000</td>\n",
       "      <td>99.000000</td>\n",
       "      <td>5.000000</td>\n",
       "      <td>1.000000</td>\n",
       "      <td>122.000000</td>\n",
       "    </tr>\n",
       "  </tbody>\n",
       "</table>\n",
       "</div>"
      ],
      "text/plain": [
       "        clothing id           age        rating  recommended ind  \\\n",
       "count  22628.000000  22628.000000  22628.000000     22628.000000   \n",
       "mean     919.695908     43.282880      4.183092         0.818764   \n",
       "std      201.683804     12.328176      1.115911         0.385222   \n",
       "min        1.000000     18.000000      1.000000         0.000000   \n",
       "25%      861.000000     34.000000      4.000000         1.000000   \n",
       "50%      936.000000     41.000000      5.000000         1.000000   \n",
       "75%     1078.000000     52.000000      5.000000         1.000000   \n",
       "max     1205.000000     99.000000      5.000000         1.000000   \n",
       "\n",
       "       positive feedback count  \n",
       "count             22628.000000  \n",
       "mean                  2.631784  \n",
       "std                   5.787520  \n",
       "min                   0.000000  \n",
       "25%                   0.000000  \n",
       "50%                   1.000000  \n",
       "75%                   3.000000  \n",
       "max                 122.000000  "
      ]
     },
     "execution_count": 12,
     "metadata": {},
     "output_type": "execute_result"
    }
   ],
   "source": [
    "data.describe()"
   ]
  },
  {
   "cell_type": "code",
   "execution_count": 13,
   "id": "23ad5f1c",
   "metadata": {
    "scrolled": true
   },
   "outputs": [
    {
     "data": {
      "image/png": "[encoded data removed]",
      "text/plain": [
       "<Figure size 1080x1080 with 6 Axes>"
      ]
     },
     "metadata": {
      "needs_background": "light"
     },
     "output_type": "display_data"
    }
   ],
   "source": [
    "data.hist(bins=15,figsize=(15,15));"
   ]
  },
  {
   "cell_type": "code",
   "execution_count": 14,
   "id": "dc8c3b99",
   "metadata": {},
   "outputs": [
    {
     "data": {
      "text/plain": [
       "<AxesSubplot:ylabel='recommended ind'>"
      ]
     },
     "execution_count": 14,
     "metadata": {},
     "output_type": "execute_result"
    },
    {
     "data": {
      "image/png": "[encoded data removed]",
      "text/plain": [
       "<Figure size 432x288 with 1 Axes>"
      ]
     },
     "metadata": {
      "needs_background": "light"
     },
     "output_type": "display_data"
    }
   ],
   "source": [
    "data.plot.barh(x='recommended ind', y='rating')"
   ]
  },
  {
   "cell_type": "markdown",
   "id": "1c108667",
   "metadata": {},
   "source": [
    "# First group by (rating)"
   ]
  },
  {
   "cell_type": "code",
   "execution_count": 15,
   "id": "1afd4bec",
   "metadata": {},
   "outputs": [],
   "source": [
    "subdata=data[['rating', 'division name', 'department name']].copy()"
   ]
  },
  {
   "cell_type": "code",
   "execution_count": 16,
   "id": "8343142b",
   "metadata": {},
   "outputs": [
    {
     "data": {
      "text/html": [
       "<div>\n",
       "<style scoped>\n",
       "    .dataframe tbody tr th:only-of-type {\n",
       "        vertical-align: middle;\n",
       "    }\n",
       "\n",
       "    .dataframe tbody tr th {\n",
       "        vertical-align: top;\n",
       "    }\n",
       "\n",
       "    .dataframe thead th {\n",
       "        text-align: right;\n",
       "    }\n",
       "</style>\n",
       "<table border=\"1\" class=\"dataframe\">\n",
       "  <thead>\n",
       "    <tr style=\"text-align: right;\">\n",
       "      <th></th>\n",
       "      <th>rating</th>\n",
       "      <th>division name</th>\n",
       "      <th>department name</th>\n",
       "    </tr>\n",
       "  </thead>\n",
       "  <tbody>\n",
       "    <tr>\n",
       "      <th>0</th>\n",
       "      <td>4</td>\n",
       "      <td>Initmates</td>\n",
       "      <td>Intimate</td>\n",
       "    </tr>\n",
       "    <tr>\n",
       "      <th>1</th>\n",
       "      <td>5</td>\n",
       "      <td>General</td>\n",
       "      <td>Dresses</td>\n",
       "    </tr>\n",
       "    <tr>\n",
       "      <th>2</th>\n",
       "      <td>3</td>\n",
       "      <td>General</td>\n",
       "      <td>Dresses</td>\n",
       "    </tr>\n",
       "    <tr>\n",
       "      <th>3</th>\n",
       "      <td>5</td>\n",
       "      <td>General Petite</td>\n",
       "      <td>Bottoms</td>\n",
       "    </tr>\n",
       "    <tr>\n",
       "      <th>4</th>\n",
       "      <td>5</td>\n",
       "      <td>General</td>\n",
       "      <td>Tops</td>\n",
       "    </tr>\n",
       "  </tbody>\n",
       "</table>\n",
       "</div>"
      ],
      "text/plain": [
       "   rating   division name department name\n",
       "0       4       Initmates        Intimate\n",
       "1       5         General         Dresses\n",
       "2       3         General         Dresses\n",
       "3       5  General Petite         Bottoms\n",
       "4       5         General            Tops"
      ]
     },
     "execution_count": 16,
     "metadata": {},
     "output_type": "execute_result"
    }
   ],
   "source": [
    "subdata.head()"
   ]
  },
  {
   "cell_type": "code",
   "execution_count": 17,
   "id": "4ca2d306",
   "metadata": {},
   "outputs": [],
   "source": [
    "grouped_df = subdata.groupby([\"division name\", \"department name\"]).mean()"
   ]
  },
  {
   "cell_type": "code",
   "execution_count": 18,
   "id": "9bb35514",
   "metadata": {
    "scrolled": true
   },
   "outputs": [
    {
     "data": {
      "text/html": [
       "<div>\n",
       "<style scoped>\n",
       "    .dataframe tbody tr th:only-of-type {\n",
       "        vertical-align: middle;\n",
       "    }\n",
       "\n",
       "    .dataframe tbody tr th {\n",
       "        vertical-align: top;\n",
       "    }\n",
       "\n",
       "    .dataframe thead th {\n",
       "        text-align: right;\n",
       "    }\n",
       "</style>\n",
       "<table border=\"1\" class=\"dataframe\">\n",
       "  <thead>\n",
       "    <tr style=\"text-align: right;\">\n",
       "      <th></th>\n",
       "      <th></th>\n",
       "      <th>rating</th>\n",
       "    </tr>\n",
       "    <tr>\n",
       "      <th>division name</th>\n",
       "      <th>department name</th>\n",
       "      <th></th>\n",
       "    </tr>\n",
       "  </thead>\n",
       "  <tbody>\n",
       "    <tr>\n",
       "      <th rowspan=\"5\" valign=\"top\">General</th>\n",
       "      <th>Bottoms</th>\n",
       "      <td>4.260727</td>\n",
       "    </tr>\n",
       "    <tr>\n",
       "      <th>Dresses</th>\n",
       "      <td>4.150318</td>\n",
       "    </tr>\n",
       "    <tr>\n",
       "      <th>Jackets</th>\n",
       "      <td>4.225962</td>\n",
       "    </tr>\n",
       "    <tr>\n",
       "      <th>Tops</th>\n",
       "      <td>4.136778</td>\n",
       "    </tr>\n",
       "    <tr>\n",
       "      <th>Trend</th>\n",
       "      <td>3.852632</td>\n",
       "    </tr>\n",
       "    <tr>\n",
       "      <th rowspan=\"6\" valign=\"top\">General Petite</th>\n",
       "      <th>Bottoms</th>\n",
       "      <td>4.315226</td>\n",
       "    </tr>\n",
       "    <tr>\n",
       "      <th>Dresses</th>\n",
       "      <td>4.122328</td>\n",
       "    </tr>\n",
       "    <tr>\n",
       "      <th>Intimate</th>\n",
       "      <td>4.242291</td>\n",
       "    </tr>\n",
       "    <tr>\n",
       "      <th>Jackets</th>\n",
       "      <td>4.301587</td>\n",
       "    </tr>\n",
       "    <tr>\n",
       "      <th>Tops</th>\n",
       "      <td>4.197520</td>\n",
       "    </tr>\n",
       "    <tr>\n",
       "      <th>Trend</th>\n",
       "      <td>3.782609</td>\n",
       "    </tr>\n",
       "    <tr>\n",
       "      <th>Initmates</th>\n",
       "      <th>Intimate</th>\n",
       "      <td>4.275596</td>\n",
       "    </tr>\n",
       "  </tbody>\n",
       "</table>\n",
       "</div>"
      ],
      "text/plain": [
       "                                  rating\n",
       "division name  department name          \n",
       "General        Bottoms          4.260727\n",
       "               Dresses          4.150318\n",
       "               Jackets          4.225962\n",
       "               Tops             4.136778\n",
       "               Trend            3.852632\n",
       "General Petite Bottoms          4.315226\n",
       "               Dresses          4.122328\n",
       "               Intimate         4.242291\n",
       "               Jackets          4.301587\n",
       "               Tops             4.197520\n",
       "               Trend            3.782609\n",
       "Initmates      Intimate         4.275596"
      ]
     },
     "execution_count": 18,
     "metadata": {},
     "output_type": "execute_result"
    }
   ],
   "source": [
    "grouped_df.head(30)"
   ]
  },
  {
   "cell_type": "code",
   "execution_count": 19,
   "id": "d70272b2",
   "metadata": {
    "scrolled": true
   },
   "outputs": [
    {
     "data": {
      "text/plain": [
       "<AxesSubplot:xlabel='division name,department name'>"
      ]
     },
     "execution_count": 19,
     "metadata": {},
     "output_type": "execute_result"
    },
    {
     "data": {
      "image/png": "[encoded data removed]",
      "text/plain": [
       "<Figure size 1944x1944 with 1 Axes>"
      ]
     },
     "metadata": {
      "needs_background": "light"
     },
     "output_type": "display_data"
    }
   ],
   "source": [
    "grouped_df.plot.bar(rot=0, figsize=(27,27))"
   ]
  },
  {
   "cell_type": "markdown",
   "id": "8c016c96",
   "metadata": {},
   "source": [
    "# Check polarity in selected cells"
   ]
  },
  {
   "cell_type": "code",
   "execution_count": 20,
   "id": "616c5457",
   "metadata": {},
   "outputs": [
    {
     "name": "stdout",
     "output_type": "stream",
     "text": [
      "cell number 1:\n",
      "\n",
      "love dress sooo pretty happened find store im glad bc never would ordered online bc petite bought petite love length hit little knee would definitely true midi someone truly petite\n",
      "\n",
      "0.31875000000000003\n",
      "low polarity\n",
      "\n",
      "\n",
      "\n",
      "cell number 2:\n",
      "\n",
      "high hope dress really wanted work initially ordered petite small usual size found outrageously small small fact could zip reordered petite medium overall top half comfortable fit nicely bottom half tight layer several somewhat cheap net layer imo major design flaw net layer sewn directly zipper c\n",
      "\n",
      "0.0624092970521542\n",
      "low polarity\n",
      "\n",
      "\n",
      "\n",
      "cell number 3:\n",
      "\n",
      "love love love jumpsuit fun flirty fabulous every time wear get nothing great compliment\n",
      "\n",
      "0.5\n",
      "medium polarity\n",
      "\n",
      "\n",
      "\n",
      "cell number 5:\n",
      "\n",
      "love tracy reese dress one petite foot tall usually wear brand dress pretty package lot dress skirt long full overwhelmed small frame stranger alteration shortening narrowing skirt would take away embellishment garment love color idea style work returned dress\n",
      "\n",
      "0.15\n",
      "low polarity\n",
      "\n",
      "\n",
      "\n",
      "cell number 7:\n",
      "\n",
      "ordered carbon store pick ton stuff always try used top pair skirt pant everything went color really nice charcoal shimmer went well pencil skirt flare pant etc compaint bit big sleeve long doesnt go petite also bit loose xx kept wil ldecide later since light color already sold hte smallest size\n",
      "\n",
      "0.19615384615384615\n",
      "low polarity\n",
      "\n",
      "\n",
      "\n",
      "cell number 11:\n",
      "\n",
      "dress perfection pretty flattering\n",
      "\n",
      "0.25\n",
      "low polarity\n",
      "\n",
      "\n",
      "\n",
      "cell number 13:\n",
      "\n",
      "bought black x go larkspur midi dress didnt bother lining skirt portion grrrrrrrrrrr stats x fit smoothly around chest flowy around lower half would say running big strap pretty could easily nightwear im came knee\n",
      "\n",
      "0.1642857142857143\n",
      "low polarity\n",
      "\n",
      "\n",
      "\n",
      "cell number 17:\n",
      "\n",
      "took chance blouse glad wasnt crazy blouse photographed model paired whit white pant worked perfectly crisp clean would describe launders well fit great drape perfect wear tucked cant go wrong\n",
      "\n",
      "0.24629629629629632\n",
      "low polarity\n",
      "\n",
      "\n",
      "\n",
      "cell number 19:\n",
      "\n",
      "love look feel tulle dress looking something different top new year eve im small chested top dress form fitting flattering look steamed tulle perfect ordered xsp length perfect\n",
      "\n",
      "0.4318181818181818\n",
      "medium polarity\n",
      "\n",
      "\n",
      "\n",
      "cell number 23:\n",
      "\n",
      "cute little dress fit tt little high waisted good length height like dress im love dont think look feel cheap appears pictured\n",
      "\n",
      "0.285625\n",
      "low polarity\n",
      "\n",
      "\n",
      "\n",
      "cell number 29:\n",
      "\n",
      "sweater comfy classic balance quirky look beautiful color practical fit bit cropped boxy part style others mentioned gap knit make opinion make perfect layering like longer camisole showing underneath wearing little dress warm still thin enough fit jacket coat\n",
      "\n",
      "0.28291666666666665\n",
      "low polarity\n",
      "\n",
      "\n",
      "\n"
     ]
    }
   ],
   "source": [
    "lst = [1, 2, 3, 5, 7, 11, 13, 17, 19, 23, 29]\n",
    "for i in lst:\n",
    "    print('cell number ' + str(i) + ':')\n",
    "    print()\n",
    "    print(data['tokenized'][i])\n",
    "    print()\n",
    "    print(TextBlob(data['tokenized'][i]).polarity)\n",
    "    if TextBlob(data['tokenized'][i]).polarity < 0.333:\n",
    "        print('low polarity')\n",
    "    elif TextBlob(data['tokenized'][i]).polarity > 0.666:\n",
    "        print('high polarity')\n",
    "    else:\n",
    "        print('medium polarity')\n",
    "    print()\n",
    "    print()\n",
    "    print()\n"
   ]
  },
  {
   "cell_type": "markdown",
   "id": "1db72df5",
   "metadata": {},
   "source": [
    "# Separate sentences"
   ]
  },
  {
   "cell_type": "code",
   "execution_count": 21,
   "id": "f9944955",
   "metadata": {},
   "outputs": [
    {
     "name": "stdout",
     "output_type": "stream",
     "text": [
      "Cell 5 - sentence number 1: I love tracy reese dresses, but this one is not for the very petite.\n",
      "Cell 5 - sentence number 2: i am just under 5 feet tall and usually wear a 0p in this brand.\n",
      "Cell 5 - sentence number 3: this dress was very pretty out of the package but its a lot of dress.\n",
      "Cell 5 - sentence number 4: the skirt is long and very full so it overwhelmed my small frame.\n",
      "Cell 5 - sentence number 5: not a stranger to alterations, shortening and narrowing the skirt would take away from the embellishment of the garment.\n",
      "Cell 5 - sentence number 6: i love the color and the idea of the style but it just did not work on me.\n",
      "Cell 5 - sentence number 7: i returned this dress.\n",
      "\n",
      "Cell 50 - sentence number 1: This is a cute top that can transition easily from summer to fall.\n",
      "Cell 50 - sentence number 2: it fits well, nice print and it's comfortable.\n",
      "Cell 50 - sentence number 3: i tried this on in the store, but did not purchase it because the color washed me out.\n",
      "Cell 50 - sentence number 4: this is not the best color for a blonde.\n",
      "Cell 50 - sentence number 5: would look much better on a brunette.\n",
      "Cell 50 - sentence number 6: if this was in a different color i most likely would have purchased it.\n",
      "\n",
      "Cell 65 - sentence number 1: Beautiful top, but delicate!\n",
      "Cell 65 - sentence number 2: i wore it to school and the straps on my backpack caused some pilling.\n",
      "Cell 65 - sentence number 3: other than that it is beautiful and vibrant!\n",
      "Cell 65 - sentence number 4: just make sure you aren't doing/wearing anything that will rub it continuously since the fabric is delicate\n",
      "\n",
      "Cell 105 - sentence number 1: I bought this lovely silk/velvet shirt in the &quot;sky&quot; color but it is more on the teal blue side than sky blue, which disappointed me.\n",
      "Cell 105 - sentence number 2: it is definitely darker than appears in photo.\n",
      "Cell 105 - sentence number 3: still a luxurious well-made beauty with sassy appeal.\n",
      "Cell 105 - sentence number 4: it drapes like a snake slithering down your body.\n",
      "Cell 105 - sentence number 5: it comes with attitude.\n",
      "\n"
     ]
    }
   ],
   "source": [
    "lst = [5, 50, 65, 105]\n",
    "for i in lst:\n",
    "    counter = 0\n",
    "    for sentence in (nltk.sent_tokenize(data['review text'][i])):\n",
    "        counter += 1\n",
    "        print ('Cell ' + str(i) + ' - sentence number '+ str(counter) + ': ' + str(sentence))\n",
    "    print()"
   ]
  },
  {
   "cell_type": "markdown",
   "id": "d17bb321",
   "metadata": {},
   "source": [
    "# Create polarity column"
   ]
  },
  {
   "cell_type": "code",
   "execution_count": 22,
   "id": "d263122f",
   "metadata": {},
   "outputs": [],
   "source": [
    "data=data.dropna(subset=['rating'])"
   ]
  },
  {
   "cell_type": "code",
   "execution_count": 23,
   "id": "04fb2453",
   "metadata": {},
   "outputs": [
    {
     "name": "stdout",
     "output_type": "stream",
     "text": [
      "<class 'pandas.core.frame.DataFrame'>\n",
      "Int64Index: 22628 entries, 0 to 23485\n",
      "Data columns (total 11 columns):\n",
      " #   Column                   Non-Null Count  Dtype \n",
      "---  ------                   --------------  ----- \n",
      " 0   clothing id              22628 non-null  int64 \n",
      " 1   age                      22628 non-null  int64 \n",
      " 2   title                    19662 non-null  object\n",
      " 3   review text              22628 non-null  object\n",
      " 4   rating                   22628 non-null  int64 \n",
      " 5   recommended ind          22628 non-null  int64 \n",
      " 6   positive feedback count  22628 non-null  int64 \n",
      " 7   division name            22628 non-null  object\n",
      " 8   department name          22628 non-null  object\n",
      " 9   class name               22628 non-null  object\n",
      " 10  tokenized                21798 non-null  object\n",
      "dtypes: int64(5), object(6)\n",
      "memory usage: 2.1+ MB\n"
     ]
    }
   ],
   "source": [
    "data.info()"
   ]
  },
  {
   "cell_type": "code",
   "execution_count": 24,
   "id": "7b4d1662",
   "metadata": {},
   "outputs": [
    {
     "name": "stderr",
     "output_type": "stream",
     "text": [
      "C:\\Users\\x\\AppData\\Local\\Temp/ipykernel_27840/523480082.py:4: SettingWithCopyWarning: \n",
      "A value is trying to be set on a copy of a slice from a DataFrame\n",
      "\n",
      "See the caveats in the documentation: https://pandas.pydata.org/pandas-docs/stable/user_guide/indexing.html#returning-a-view-versus-a-copy\n",
      "  data['polarity'][counter]=TextBlob(cell).polarity\n"
     ]
    }
   ],
   "source": [
    "data['polarity']= None\n",
    "counter=0\n",
    "for cell in data['review text']:\n",
    "    data['polarity'][counter]=TextBlob(cell).polarity\n",
    "    counter+=1"
   ]
  },
  {
   "cell_type": "markdown",
   "id": "7ac4f5e0",
   "metadata": {},
   "source": [
    "# Second group by (minimum polarity)"
   ]
  },
  {
   "cell_type": "code",
   "execution_count": 25,
   "id": "5d3a5643",
   "metadata": {},
   "outputs": [],
   "source": [
    "subdata2=data[['polarity', 'division name', 'department name']].copy()"
   ]
  },
  {
   "cell_type": "code",
   "execution_count": 26,
   "id": "d7aa7b4a",
   "metadata": {},
   "outputs": [
    {
     "data": {
      "text/html": [
       "<div>\n",
       "<style scoped>\n",
       "    .dataframe tbody tr th:only-of-type {\n",
       "        vertical-align: middle;\n",
       "    }\n",
       "\n",
       "    .dataframe tbody tr th {\n",
       "        vertical-align: top;\n",
       "    }\n",
       "\n",
       "    .dataframe thead th {\n",
       "        text-align: right;\n",
       "    }\n",
       "</style>\n",
       "<table border=\"1\" class=\"dataframe\">\n",
       "  <thead>\n",
       "    <tr style=\"text-align: right;\">\n",
       "      <th></th>\n",
       "      <th>polarity</th>\n",
       "      <th>division name</th>\n",
       "      <th>department name</th>\n",
       "    </tr>\n",
       "  </thead>\n",
       "  <tbody>\n",
       "    <tr>\n",
       "      <th>0</th>\n",
       "      <td>0.633333</td>\n",
       "      <td>Initmates</td>\n",
       "      <td>Intimate</td>\n",
       "    </tr>\n",
       "    <tr>\n",
       "      <th>1</th>\n",
       "      <td>0.339583</td>\n",
       "      <td>General</td>\n",
       "      <td>Dresses</td>\n",
       "    </tr>\n",
       "    <tr>\n",
       "      <th>2</th>\n",
       "      <td>0.073675</td>\n",
       "      <td>General</td>\n",
       "      <td>Dresses</td>\n",
       "    </tr>\n",
       "    <tr>\n",
       "      <th>3</th>\n",
       "      <td>0.55</td>\n",
       "      <td>General Petite</td>\n",
       "      <td>Bottoms</td>\n",
       "    </tr>\n",
       "    <tr>\n",
       "      <th>4</th>\n",
       "      <td>0.512891</td>\n",
       "      <td>General</td>\n",
       "      <td>Tops</td>\n",
       "    </tr>\n",
       "  </tbody>\n",
       "</table>\n",
       "</div>"
      ],
      "text/plain": [
       "   polarity   division name department name\n",
       "0  0.633333       Initmates        Intimate\n",
       "1  0.339583         General         Dresses\n",
       "2  0.073675         General         Dresses\n",
       "3      0.55  General Petite         Bottoms\n",
       "4  0.512891         General            Tops"
      ]
     },
     "execution_count": 26,
     "metadata": {},
     "output_type": "execute_result"
    }
   ],
   "source": [
    "subdata2.head()"
   ]
  },
  {
   "cell_type": "code",
   "execution_count": 27,
   "id": "5e7f491d",
   "metadata": {},
   "outputs": [],
   "source": [
    "grouped_df2 = subdata2.groupby([\"division name\", \"department name\"]).min()"
   ]
  },
  {
   "cell_type": "code",
   "execution_count": 28,
   "id": "0d8294e6",
   "metadata": {
    "scrolled": false
   },
   "outputs": [
    {
     "data": {
      "text/html": [
       "<div>\n",
       "<style scoped>\n",
       "    .dataframe tbody tr th:only-of-type {\n",
       "        vertical-align: middle;\n",
       "    }\n",
       "\n",
       "    .dataframe tbody tr th {\n",
       "        vertical-align: top;\n",
       "    }\n",
       "\n",
       "    .dataframe thead th {\n",
       "        text-align: right;\n",
       "    }\n",
       "</style>\n",
       "<table border=\"1\" class=\"dataframe\">\n",
       "  <thead>\n",
       "    <tr style=\"text-align: right;\">\n",
       "      <th></th>\n",
       "      <th></th>\n",
       "      <th>polarity</th>\n",
       "    </tr>\n",
       "    <tr>\n",
       "      <th>division name</th>\n",
       "      <th>department name</th>\n",
       "      <th></th>\n",
       "    </tr>\n",
       "  </thead>\n",
       "  <tbody>\n",
       "    <tr>\n",
       "      <th rowspan=\"5\" valign=\"top\">General</th>\n",
       "      <th>Bottoms</th>\n",
       "      <td>-0.800000</td>\n",
       "    </tr>\n",
       "    <tr>\n",
       "      <th>Dresses</th>\n",
       "      <td>-0.500000</td>\n",
       "    </tr>\n",
       "    <tr>\n",
       "      <th>Jackets</th>\n",
       "      <td>-0.409524</td>\n",
       "    </tr>\n",
       "    <tr>\n",
       "      <th>Tops</th>\n",
       "      <td>-0.575000</td>\n",
       "    </tr>\n",
       "    <tr>\n",
       "      <th>Trend</th>\n",
       "      <td>-0.212500</td>\n",
       "    </tr>\n",
       "    <tr>\n",
       "      <th rowspan=\"6\" valign=\"top\">General Petite</th>\n",
       "      <th>Bottoms</th>\n",
       "      <td>-0.500000</td>\n",
       "    </tr>\n",
       "    <tr>\n",
       "      <th>Dresses</th>\n",
       "      <td>-0.975000</td>\n",
       "    </tr>\n",
       "    <tr>\n",
       "      <th>Intimate</th>\n",
       "      <td>-0.250000</td>\n",
       "    </tr>\n",
       "    <tr>\n",
       "      <th>Jackets</th>\n",
       "      <td>-0.975000</td>\n",
       "    </tr>\n",
       "    <tr>\n",
       "      <th>Tops</th>\n",
       "      <td>-0.750000</td>\n",
       "    </tr>\n",
       "    <tr>\n",
       "      <th>Trend</th>\n",
       "      <td>-0.057407</td>\n",
       "    </tr>\n",
       "    <tr>\n",
       "      <th>Initmates</th>\n",
       "      <th>Intimate</th>\n",
       "      <td>-0.375000</td>\n",
       "    </tr>\n",
       "  </tbody>\n",
       "</table>\n",
       "</div>"
      ],
      "text/plain": [
       "                                polarity\n",
       "division name  department name          \n",
       "General        Bottoms         -0.800000\n",
       "               Dresses         -0.500000\n",
       "               Jackets         -0.409524\n",
       "               Tops            -0.575000\n",
       "               Trend           -0.212500\n",
       "General Petite Bottoms         -0.500000\n",
       "               Dresses         -0.975000\n",
       "               Intimate        -0.250000\n",
       "               Jackets         -0.975000\n",
       "               Tops            -0.750000\n",
       "               Trend           -0.057407\n",
       "Initmates      Intimate        -0.375000"
      ]
     },
     "execution_count": 28,
     "metadata": {},
     "output_type": "execute_result"
    }
   ],
   "source": [
    "grouped_df2.head(30)"
   ]
  },
  {
   "cell_type": "code",
   "execution_count": 29,
   "id": "f79225fd",
   "metadata": {
    "scrolled": false
   },
   "outputs": [
    {
     "data": {
      "text/plain": [
       "<AxesSubplot:xlabel='division name,department name'>"
      ]
     },
     "execution_count": 29,
     "metadata": {},
     "output_type": "execute_result"
    },
    {
     "data": {
      "image/png": "[encoded data removed]",
      "text/plain": [
       "<Figure size 432x288 with 1 Axes>"
      ]
     },
     "metadata": {
      "needs_background": "light"
     },
     "output_type": "display_data"
    }
   ],
   "source": [
    "grouped_df2[['polarity']].sort_values(by='polarity',ascending=False).plot(kind='bar')"
   ]
  },
  {
   "cell_type": "markdown",
   "id": "4c7ef9ad",
   "metadata": {},
   "source": [
    "# Third group by (mean polarity)"
   ]
  },
  {
   "cell_type": "code",
   "execution_count": 30,
   "id": "bf43677c",
   "metadata": {},
   "outputs": [],
   "source": [
    "grouped_df3 = subdata2.groupby([\"division name\", \"department name\"]).mean()"
   ]
  },
  {
   "cell_type": "code",
   "execution_count": 31,
   "id": "29df8d7c",
   "metadata": {
    "scrolled": false
   },
   "outputs": [
    {
     "data": {
      "text/html": [
       "<div>\n",
       "<style scoped>\n",
       "    .dataframe tbody tr th:only-of-type {\n",
       "        vertical-align: middle;\n",
       "    }\n",
       "\n",
       "    .dataframe tbody tr th {\n",
       "        vertical-align: top;\n",
       "    }\n",
       "\n",
       "    .dataframe thead th {\n",
       "        text-align: right;\n",
       "    }\n",
       "</style>\n",
       "<table border=\"1\" class=\"dataframe\">\n",
       "  <thead>\n",
       "    <tr style=\"text-align: right;\">\n",
       "      <th></th>\n",
       "      <th></th>\n",
       "      <th>polarity</th>\n",
       "    </tr>\n",
       "    <tr>\n",
       "      <th>division name</th>\n",
       "      <th>department name</th>\n",
       "      <th></th>\n",
       "    </tr>\n",
       "  </thead>\n",
       "  <tbody>\n",
       "    <tr>\n",
       "      <th rowspan=\"5\" valign=\"top\">General</th>\n",
       "      <th>Bottoms</th>\n",
       "      <td>0.250396</td>\n",
       "    </tr>\n",
       "    <tr>\n",
       "      <th>Dresses</th>\n",
       "      <td>0.253652</td>\n",
       "    </tr>\n",
       "    <tr>\n",
       "      <th>Jackets</th>\n",
       "      <td>0.245392</td>\n",
       "    </tr>\n",
       "    <tr>\n",
       "      <th>Tops</th>\n",
       "      <td>0.248483</td>\n",
       "    </tr>\n",
       "    <tr>\n",
       "      <th>Trend</th>\n",
       "      <td>0.235739</td>\n",
       "    </tr>\n",
       "    <tr>\n",
       "      <th rowspan=\"6\" valign=\"top\">General Petite</th>\n",
       "      <th>Bottoms</th>\n",
       "      <td>0.254209</td>\n",
       "    </tr>\n",
       "    <tr>\n",
       "      <th>Dresses</th>\n",
       "      <td>0.250058</td>\n",
       "    </tr>\n",
       "    <tr>\n",
       "      <th>Intimate</th>\n",
       "      <td>0.248243</td>\n",
       "    </tr>\n",
       "    <tr>\n",
       "      <th>Jackets</th>\n",
       "      <td>0.240644</td>\n",
       "    </tr>\n",
       "    <tr>\n",
       "      <th>Tops</th>\n",
       "      <td>0.250122</td>\n",
       "    </tr>\n",
       "    <tr>\n",
       "      <th>Trend</th>\n",
       "      <td>0.247564</td>\n",
       "    </tr>\n",
       "    <tr>\n",
       "      <th>Initmates</th>\n",
       "      <th>Intimate</th>\n",
       "      <td>0.248210</td>\n",
       "    </tr>\n",
       "  </tbody>\n",
       "</table>\n",
       "</div>"
      ],
      "text/plain": [
       "                                polarity\n",
       "division name  department name          \n",
       "General        Bottoms          0.250396\n",
       "               Dresses          0.253652\n",
       "               Jackets          0.245392\n",
       "               Tops             0.248483\n",
       "               Trend            0.235739\n",
       "General Petite Bottoms          0.254209\n",
       "               Dresses          0.250058\n",
       "               Intimate         0.248243\n",
       "               Jackets          0.240644\n",
       "               Tops             0.250122\n",
       "               Trend            0.247564\n",
       "Initmates      Intimate         0.248210"
      ]
     },
     "execution_count": 31,
     "metadata": {},
     "output_type": "execute_result"
    }
   ],
   "source": [
    "grouped_df3.head(30)"
   ]
  },
  {
   "cell_type": "code",
   "execution_count": 32,
   "id": "e590250b",
   "metadata": {
    "scrolled": true
   },
   "outputs": [
    {
     "data": {
      "text/plain": [
       "<AxesSubplot:xlabel='division name,department name'>"
      ]
     },
     "execution_count": 32,
     "metadata": {},
     "output_type": "execute_result"
    },
    {
     "data": {
      "image/png": "[encoded data removed]",
      "text/plain": [
       "<Figure size 432x288 with 1 Axes>"
      ]
     },
     "metadata": {
      "needs_background": "light"
     },
     "output_type": "display_data"
    }
   ],
   "source": [
    "grouped_df3[['polarity']].sort_values(by='polarity',ascending=False).plot(kind='bar')"
   ]
  }
 ],
 "metadata": {
  "kernelspec": {
   "display_name": "Python 3 (ipykernel)",
   "language": "python",
   "name": "python3"
  },
  "language_info": {
   "codemirror_mode": {
    "name": "ipython",
    "version": 3
   },
   "file_extension": ".py",
   "mimetype": "text/x-python",
   "name": "python",
   "nbconvert_exporter": "python",
   "pygments_lexer": "ipython3",
   "version": "3.9.7"
  },
  "toc": {
   "base_numbering": 1,
   "nav_menu": {},
   "number_sections": true,
   "sideBar": true,
   "skip_h1_title": false,
   "title_cell": "Table of Contents",
   "title_sidebar": "Contents",
   "toc_cell": false,
   "toc_position": {},
   "toc_section_display": true,
   "toc_window_display": false
  },
  "varInspector": {
   "cols": {
    "lenName": 16,
    "lenType": 16,
    "lenVar": 40
   },
   "kernels_config": {
    "python": {
     "delete_cmd_postfix": "",
     "delete_cmd_prefix": "del ",
     "library": "var_list.py",
     "varRefreshCmd": "print(var_dic_list())"
    },
    "r": {
     "delete_cmd_postfix": ") ",
     "delete_cmd_prefix": "rm(",
     "library": "var_list.r",
     "varRefreshCmd": "cat(var_dic_list()) "
    }
   },
   "types_to_exclude": [
    "module",
    "function",
    "builtin_function_or_method",
    "instance",
    "_Feature"
   ],
   "window_display": false
  }
 },
 "nbformat": 4,
 "nbformat_minor": 5
}
