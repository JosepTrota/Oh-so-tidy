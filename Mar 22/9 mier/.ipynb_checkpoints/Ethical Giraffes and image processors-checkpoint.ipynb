{
 "cells": [
  {
   "cell_type": "markdown",
   "id": "11e96655",
   "metadata": {},
   "source": [
    "# DANGER!\n",
    "\n",
    "<font size=\"5\">**An artist made a [full website](https://exposing.ai/) about ethical dangers of face recognition in multiple areas**</font>\n",
    "\n",
    "For example, [this article](https://exposing.ai/dive_face/) exposes possible bias in the \"ethnic classificator\" for **DiveFace**"
   ]
  },
  {
   "cell_type": "markdown",
   "id": "d06eacd3",
   "metadata": {},
   "source": [
    "# GIRAFFE!\n",
    "\n",
    "<font size=\"5\"> Here is the image [the AI in Computer Vision Explorer](https://vision-explorer.allenai.org/text_to_image_generation) gave me when I inputted \"Bojack Giraffeman next to his SUV\"</font>\n",
    "\n",
    "![Bojack_Giraffeman_next_to_his_SUV](Bojack_Giraffeman_next_to_his_SUV.png \"Bojack Giraffeman next to his SUV\")\n",
    "\n",
    "> The option \"Giraffe by cars\" was used in the dropdown"
   ]
  },
  {
   "cell_type": "markdown",
   "id": "8b2778f1",
   "metadata": {},
   "source": [
    "# CATS VS DOGS!\n",
    "\n",
    "<font size=\"5\"> In [this other article](https://thedatafrog.com/en/articles/dogs-vs-cats/) The Data Frog gives us a tutorial to make a neural network model to predict whenever an image is a cat or a dog for the [popular kaggle competition](https://www.kaggle.com/c/dogs-vs-cats/data)</font>\n",
    "\n",
    "<font size=\"4\">Steps used to process images:</font>\n",
    "\n",
    "* Make an Image Data Generator (with keras)\n",
    "* In a for loop, make matplotlib give us image data\n",
    "* Look at the images to detect bad images (cleanup)\n",
    "* Make a new Image Data Generator (with keras) and split the data\n",
    "* Flip images to get more data"
   ]
  }
 ],
 "metadata": {
  "kernelspec": {
   "display_name": "Python 3 (ipykernel)",
   "language": "python",
   "name": "python3"
  },
  "language_info": {
   "codemirror_mode": {
    "name": "ipython",
    "version": 3
   },
   "file_extension": ".py",
   "mimetype": "text/x-python",
   "name": "python",
   "nbconvert_exporter": "python",
   "pygments_lexer": "ipython3",
   "version": "3.9.7"
  },
  "toc": {
   "base_numbering": 1,
   "nav_menu": {},
   "number_sections": true,
   "sideBar": true,
   "skip_h1_title": false,
   "title_cell": "Table of Contents",
   "title_sidebar": "Contents",
   "toc_cell": false,
   "toc_position": {},
   "toc_section_display": true,
   "toc_window_display": false
  },
  "varInspector": {
   "cols": {
    "lenName": 16,
    "lenType": 16,
    "lenVar": 40
   },
   "kernels_config": {
    "python": {
     "delete_cmd_postfix": "",
     "delete_cmd_prefix": "del ",
     "library": "var_list.py",
     "varRefreshCmd": "print(var_dic_list())"
    },
    "r": {
     "delete_cmd_postfix": ") ",
     "delete_cmd_prefix": "rm(",
     "library": "var_list.r",
     "varRefreshCmd": "cat(var_dic_list()) "
    }
   },
   "types_to_exclude": [
    "module",
    "function",
    "builtin_function_or_method",
    "instance",
    "_Feature"
   ],
   "window_display": false
  }
 },
 "nbformat": 4,
 "nbformat_minor": 5
}
